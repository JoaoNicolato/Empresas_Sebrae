{
 "cells": [
  {
   "cell_type": "code",
   "metadata": {
    "tags": [],
    "cell_id": "10502c95-169f-415d-9cc0-cea0c2d3a90a",
    "deepnote_to_be_reexecuted": false,
    "source_hash": "9b82ee11",
    "execution_start": 1643722832945,
    "execution_millis": 5,
    "deepnote_cell_type": "code"
   },
   "source": "import pandas as pd",
   "execution_count": null,
   "outputs": []
  },
  {
   "cell_type": "code",
   "metadata": {
    "cell_id": "ccbd0516-69ca-4a76-b2e4-103f8d7a6396",
    "tags": [],
    "deepnote_to_be_reexecuted": false,
    "source_hash": "8aafa05e",
    "execution_start": 1643722835072,
    "execution_millis": 3952,
    "deepnote_cell_type": "code"
   },
   "source": "df_dcc = pd.read_csv(\"/work/base.csv\")\ndf_mei = pd.read_csv(\"/work/mei_final.csv\")\n",
   "execution_count": null,
   "outputs": []
  },
  {
   "cell_type": "code",
   "metadata": {
    "cell_id": "895bce5a-efd7-4fc8-9cf4-7ea1102d9020",
    "tags": [],
    "deepnote_to_be_reexecuted": false,
    "source_hash": "f262d344",
    "execution_start": 1643722922327,
    "execution_millis": 194,
    "deepnote_cell_type": "code"
   },
   "source": "df_dcc.head()",
   "execution_count": null,
   "outputs": [
    {
     "output_type": "execute_result",
     "execution_count": 7,
     "data": {
      "application/vnd.deepnote.dataframe.v3+json": {
       "column_count": 18,
       "row_count": 96962,
       "columns": [
        {
         "name": "Unnamed: 0",
         "dtype": "int64",
         "stats": {
          "unique_count": 96962,
          "nan_count": 0,
          "min": "0",
          "max": "97114",
          "histogram": [
           {
            "bin_start": 0,
            "bin_end": 9711.4,
            "count": 9637
           },
           {
            "bin_start": 9711.4,
            "bin_end": 19422.8,
            "count": 9640
           },
           {
            "bin_start": 19422.8,
            "bin_end": 29134.199999999997,
            "count": 9705
           },
           {
            "bin_start": 29134.199999999997,
            "bin_end": 38845.6,
            "count": 9711
           },
           {
            "bin_start": 38845.6,
            "bin_end": 48557,
            "count": 9711
           },
           {
            "bin_start": 48557,
            "bin_end": 58268.399999999994,
            "count": 9712
           },
           {
            "bin_start": 58268.399999999994,
            "bin_end": 67979.8,
            "count": 9711
           },
           {
            "bin_start": 67979.8,
            "bin_end": 77691.2,
            "count": 9712
           },
           {
            "bin_start": 77691.2,
            "bin_end": 87402.59999999999,
            "count": 9711
           },
           {
            "bin_start": 87402.59999999999,
            "bin_end": 97114,
            "count": 9712
           }
          ]
         }
        },
        {
         "name": "cnpj_base_x",
         "dtype": "int64"
        },
        {
         "name": "cd_situacao_cadastral",
         "dtype": "int64"
        },
        {
         "name": "dt_situacao_cadastral",
         "dtype": "int64"
        },
        {
         "name": "dt_inicio_atividade",
         "dtype": "float64"
        },
        {
         "name": "cd_cnae_principal",
         "dtype": "int64"
        },
        {
         "name": "cd_cnae_secundario",
         "dtype": "object"
        },
        {
         "name": "uf",
         "dtype": "object"
        },
        {
         "name": "cd_municipio",
         "dtype": "int64"
        },
        {
         "name": "porte_empresa",
         "dtype": "int64"
        },
        {
         "name": "Data_Situação_Cadastral",
         "dtype": "int64"
        },
        {
         "name": "Data_Início_Atividade",
         "dtype": "int64"
        },
        {
         "name": "Tempo_De_vida[anos]",
         "dtype": "int64"
        },
        {
         "name": "Setor",
         "dtype": "object"
        },
        {
         "name": "Empresa uma atividade",
         "dtype": "int64"
        },
        {
         "name": "Empresa executa até 2 atividades",
         "dtype": "int64"
        },
        {
         "name": "Empresa executa mais de 2 atividades",
         "dtype": "int64"
        },
        {
         "name": "Total de atividades executadas",
         "dtype": "int64"
        },
        {
         "name": "_deepnote_index_column",
         "dtype": "int64"
        }
       ],
       "rows": [
        {
         "Unnamed: 0": 0,
         "cnpj_base_x": 5703307,
         "cd_situacao_cadastral": 0,
         "dt_situacao_cadastral": 20130703,
         "dt_inicio_atividade": 20090901,
         "cd_cnae_principal": 4752100,
         "cd_cnae_secundario": "4713002,4757100",
         "uf": "SP",
         "cd_municipio": 7107,
         "porte_empresa": 1,
         "Data_Situação_Cadastral": 2013,
         "Data_Início_Atividade": 2009,
         "Tempo_De_vida[anos]": 4,
         "Setor": "COMÉRCIO",
         "Empresa uma atividade": 1,
         "Empresa executa até 2 atividades": 1,
         "Empresa executa mais de 2 atividades": 0,
         "Total de atividades executadas": 2,
         "_deepnote_index_column": 0
        },
        {
         "Unnamed: 0": 1,
         "cnpj_base_x": 9477554,
         "cd_situacao_cadastral": 0,
         "dt_situacao_cadastral": 20181016,
         "dt_inicio_atividade": 20080331,
         "cd_cnae_principal": 9602502,
         "cd_cnae_secundario": "nan",
         "uf": "SP",
         "cd_municipio": 7107,
         "porte_empresa": 1,
         "Data_Situação_Cadastral": 2018,
         "Data_Início_Atividade": 2008,
         "Tempo_De_vida[anos]": 10,
         "Setor": "OUTRAS",
         "Empresa uma atividade": 0,
         "Empresa executa até 2 atividades": 0,
         "Empresa executa mais de 2 atividades": 0,
         "Total de atividades executadas": 0,
         "_deepnote_index_column": 1
        },
        {
         "Unnamed: 0": 2,
         "cnpj_base_x": 9387387,
         "cd_situacao_cadastral": 0,
         "dt_situacao_cadastral": 20140325,
         "dt_inicio_atividade": 20090908,
         "cd_cnae_principal": 4649499,
         "cd_cnae_secundario": "4641903,4642701,4643502,4647801,4649410",
         "uf": "SP",
         "cd_municipio": 7107,
         "porte_empresa": 1,
         "Data_Situação_Cadastral": 2014,
         "Data_Início_Atividade": 2009,
         "Tempo_De_vida[anos]": 5,
         "Setor": "COMÉRCIO",
         "Empresa uma atividade": 1,
         "Empresa executa até 2 atividades": 1,
         "Empresa executa mais de 2 atividades": 1,
         "Total de atividades executadas": 3,
         "_deepnote_index_column": 2
        },
        {
         "Unnamed: 0": 3,
         "cnpj_base_x": 9685392,
         "cd_situacao_cadastral": 0,
         "dt_situacao_cadastral": 20211123,
         "dt_inicio_atividade": 20080603,
         "cd_cnae_principal": 4712100,
         "cd_cnae_secundario": "3329501,4721102,4742300,4744003,4744099,4754701,4784900,5611203",
         "uf": "SP",
         "cd_municipio": 6321,
         "porte_empresa": 1,
         "Data_Situação_Cadastral": 2021,
         "Data_Início_Atividade": 2008,
         "Tempo_De_vida[anos]": 13,
         "Setor": "COMÉRCIO",
         "Empresa uma atividade": 1,
         "Empresa executa até 2 atividades": 1,
         "Empresa executa mais de 2 atividades": 1,
         "Total de atividades executadas": 3,
         "_deepnote_index_column": 3
        },
        {
         "Unnamed: 0": 4,
         "cnpj_base_x": 9499019,
         "cd_situacao_cadastral": 1,
         "dt_situacao_cadastral": 20080402,
         "dt_inicio_atividade": 20080402,
         "cd_cnae_principal": 8230001,
         "cd_cnae_secundario": "7020400,8599604,7490104",
         "uf": "SP",
         "cd_municipio": 7107,
         "porte_empresa": 3,
         "Data_Situação_Cadastral": 2008,
         "Data_Início_Atividade": 2008,
         "Tempo_De_vida[anos]": 0,
         "Setor": "ATIVIDADES ADMINISTRATIVAS",
         "Empresa uma atividade": 1,
         "Empresa executa até 2 atividades": 1,
         "Empresa executa mais de 2 atividades": 1,
         "Total de atividades executadas": 3,
         "_deepnote_index_column": 4
        },
        {
         "Unnamed: 0": 5,
         "cnpj_base_x": 9263759,
         "cd_situacao_cadastral": 0,
         "dt_situacao_cadastral": 20210413,
         "dt_inicio_atividade": 20090107,
         "cd_cnae_principal": 4744099,
         "cd_cnae_secundario": "4744002,4744001",
         "uf": "SP",
         "cd_municipio": 7071,
         "porte_empresa": 1,
         "Data_Situação_Cadastral": 2021,
         "Data_Início_Atividade": 2009,
         "Tempo_De_vida[anos]": 12,
         "Setor": "COMÉRCIO",
         "Empresa uma atividade": 1,
         "Empresa executa até 2 atividades": 1,
         "Empresa executa mais de 2 atividades": 0,
         "Total de atividades executadas": 2,
         "_deepnote_index_column": 5
        },
        {
         "Unnamed: 0": 6,
         "cnpj_base_x": 9608724,
         "cd_situacao_cadastral": 1,
         "dt_situacao_cadastral": 20080401,
         "dt_inicio_atividade": 20080401,
         "cd_cnae_principal": 9511800,
         "cd_cnae_secundario": "4321500,9512600",
         "uf": "SP",
         "cd_municipio": 7107,
         "porte_empresa": 1,
         "Data_Situação_Cadastral": 2008,
         "Data_Início_Atividade": 2008,
         "Tempo_De_vida[anos]": 0,
         "Setor": "OUTRAS",
         "Empresa uma atividade": 1,
         "Empresa executa até 2 atividades": 1,
         "Empresa executa mais de 2 atividades": 0,
         "Total de atividades executadas": 2,
         "_deepnote_index_column": 6
        },
        {
         "Unnamed: 0": 7,
         "cnpj_base_x": 582135,
         "cd_situacao_cadastral": 1,
         "dt_situacao_cadastral": 20090902,
         "dt_inicio_atividade": 20090902,
         "cd_cnae_principal": 1623400,
         "cd_cnae_secundario": "nan",
         "uf": "RJ",
         "cd_municipio": 5921,
         "porte_empresa": 3,
         "Data_Situação_Cadastral": 2009,
         "Data_Início_Atividade": 2009,
         "Tempo_De_vida[anos]": 0,
         "Setor": "IND. TRANSFORMAÇÃO",
         "Empresa uma atividade": 0,
         "Empresa executa até 2 atividades": 0,
         "Empresa executa mais de 2 atividades": 0,
         "Total de atividades executadas": 0,
         "_deepnote_index_column": 7
        },
        {
         "Unnamed: 0": 8,
         "cnpj_base_x": 32148819,
         "cd_situacao_cadastral": 0,
         "dt_situacao_cadastral": 20190111,
         "dt_inicio_atividade": 20090403,
         "cd_cnae_principal": 1412601,
         "cd_cnae_secundario": "nan",
         "uf": "RJ",
         "cd_municipio": 5877,
         "porte_empresa": 1,
         "Data_Situação_Cadastral": 2019,
         "Data_Início_Atividade": 2009,
         "Tempo_De_vida[anos]": 10,
         "Setor": "IND. TRANSFORMAÇÃO",
         "Empresa uma atividade": 0,
         "Empresa executa até 2 atividades": 0,
         "Empresa executa mais de 2 atividades": 0,
         "Total de atividades executadas": 0,
         "_deepnote_index_column": 8
        },
        {
         "Unnamed: 0": 9,
         "cnpj_base_x": 32148819,
         "cd_situacao_cadastral": 0,
         "dt_situacao_cadastral": 20190111,
         "dt_inicio_atividade": 20100611,
         "cd_cnae_principal": 4781400,
         "cd_cnae_secundario": "nan",
         "uf": "RJ",
         "cd_municipio": 5877,
         "porte_empresa": 1,
         "Data_Situação_Cadastral": 2019,
         "Data_Início_Atividade": 2010,
         "Tempo_De_vida[anos]": 9,
         "Setor": "COMÉRCIO",
         "Empresa uma atividade": 0,
         "Empresa executa até 2 atividades": 0,
         "Empresa executa mais de 2 atividades": 0,
         "Total de atividades executadas": 0,
         "_deepnote_index_column": 9
        }
       ]
      },
      "text/plain": "       Unnamed: 0  cnpj_base_x  cd_situacao_cadastral  dt_situacao_cadastral  \\\n0               0      5703307                      0               20130703   \n1               1      9477554                      0               20181016   \n2               2      9387387                      0               20140325   \n3               3      9685392                      0               20211123   \n4               4      9499019                      1               20080402   \n...           ...          ...                    ...                    ...   \n96957       97110     19093713                      1               20131018   \n96958       97111     19093760                      0               20180201   \n96959       97112     19093760                      0               20180201   \n96960       97113     19093797                      1               20131018   \n96961       97114     19093797                      1               20131018   \n\n       dt_inicio_atividade  cd_cnae_principal  \\\n0               20090901.0            4752100   \n1               20080331.0            9602502   \n2               20090908.0            4649499   \n3               20080603.0            4712100   \n4               20080402.0            8230001   \n...                    ...                ...   \n96957           20131018.0            8599605   \n96958           20131018.0            8230002   \n96959           20131018.0            8230002   \n96960           20131018.0            9602502   \n96961           20131018.0            9602502   \n\n                                      cd_cnae_secundario  uf  cd_municipio  \\\n0                                        4713002,4757100  SP          7107   \n1                                                    NaN  SP          7107   \n2                4641903,4642701,4643502,4647801,4649410  SP          7107   \n3      3329501,4721102,4742300,4744003,4744099,475470...  SP          6321   \n4                                7020400,8599604,7490104  SP          7107   \n...                                                  ...  ..           ...   \n96957                                                NaN  RJ          6001   \n96958                                            8230001  SP          7107   \n96959                                            8230001  SP          7107   \n96960                            7739099,4729699,4772500  SP          6411   \n96961                            7739099,4729699,4772500  SP          6411   \n\n       porte_empresa  Data_Situação_Cadastral  Data_Início_Atividade  \\\n0                  1                     2013                   2009   \n1                  1                     2018                   2008   \n2                  1                     2014                   2009   \n3                  1                     2021                   2008   \n4                  3                     2008                   2008   \n...              ...                      ...                    ...   \n96957              1                     2013                   2013   \n96958              1                     2018                   2013   \n96959              1                     2018                   2013   \n96960              1                     2013                   2013   \n96961              1                     2013                   2013   \n\n       Tempo_De_vida[anos]                       Setor  Empresa uma atividade  \\\n0                        4                    COMÉRCIO                      1   \n1                       10                      OUTRAS                      0   \n2                        5                    COMÉRCIO                      1   \n3                       13                    COMÉRCIO                      1   \n4                        0  ATIVIDADES ADMINISTRATIVAS                      1   \n...                    ...                         ...                    ...   \n96957                    0                    EDUCACAO                      0   \n96958                    5  ATIVIDADES ADMINISTRATIVAS                      1   \n96959                    5  ATIVIDADES ADMINISTRATIVAS                      1   \n96960                    0                      OUTRAS                      1   \n96961                    0                      OUTRAS                      1   \n\n       Empresa executa até 2 atividades  Empresa executa mais de 2 atividades  \\\n0                                     1                                     0   \n1                                     0                                     0   \n2                                     1                                     1   \n3                                     1                                     1   \n4                                     1                                     1   \n...                                 ...                                   ...   \n96957                                 0                                     0   \n96958                                 0                                     0   \n96959                                 0                                     0   \n96960                                 1                                     1   \n96961                                 1                                     1   \n\n       Total de atividades executadas  \n0                                   2  \n1                                   0  \n2                                   3  \n3                                   3  \n4                                   3  \n...                               ...  \n96957                               0  \n96958                               1  \n96959                               1  \n96960                               3  \n96961                               3  \n\n[96962 rows x 18 columns]",
      "text/html": "<div>\n<style scoped>\n    .dataframe tbody tr th:only-of-type {\n        vertical-align: middle;\n    }\n\n    .dataframe tbody tr th {\n        vertical-align: top;\n    }\n\n    .dataframe thead th {\n        text-align: right;\n    }\n</style>\n<table border=\"1\" class=\"dataframe\">\n  <thead>\n    <tr style=\"text-align: right;\">\n      <th></th>\n      <th>Unnamed: 0</th>\n      <th>cnpj_base_x</th>\n      <th>cd_situacao_cadastral</th>\n      <th>dt_situacao_cadastral</th>\n      <th>dt_inicio_atividade</th>\n      <th>cd_cnae_principal</th>\n      <th>cd_cnae_secundario</th>\n      <th>uf</th>\n      <th>cd_municipio</th>\n      <th>porte_empresa</th>\n      <th>Data_Situação_Cadastral</th>\n      <th>Data_Início_Atividade</th>\n      <th>Tempo_De_vida[anos]</th>\n      <th>Setor</th>\n      <th>Empresa uma atividade</th>\n      <th>Empresa executa até 2 atividades</th>\n      <th>Empresa executa mais de 2 atividades</th>\n      <th>Total de atividades executadas</th>\n    </tr>\n  </thead>\n  <tbody>\n    <tr>\n      <th>0</th>\n      <td>0</td>\n      <td>5703307</td>\n      <td>0</td>\n      <td>20130703</td>\n      <td>20090901.0</td>\n      <td>4752100</td>\n      <td>4713002,4757100</td>\n      <td>SP</td>\n      <td>7107</td>\n      <td>1</td>\n      <td>2013</td>\n      <td>2009</td>\n      <td>4</td>\n      <td>COMÉRCIO</td>\n      <td>1</td>\n      <td>1</td>\n      <td>0</td>\n      <td>2</td>\n    </tr>\n    <tr>\n      <th>1</th>\n      <td>1</td>\n      <td>9477554</td>\n      <td>0</td>\n      <td>20181016</td>\n      <td>20080331.0</td>\n      <td>9602502</td>\n      <td>NaN</td>\n      <td>SP</td>\n      <td>7107</td>\n      <td>1</td>\n      <td>2018</td>\n      <td>2008</td>\n      <td>10</td>\n      <td>OUTRAS</td>\n      <td>0</td>\n      <td>0</td>\n      <td>0</td>\n      <td>0</td>\n    </tr>\n    <tr>\n      <th>2</th>\n      <td>2</td>\n      <td>9387387</td>\n      <td>0</td>\n      <td>20140325</td>\n      <td>20090908.0</td>\n      <td>4649499</td>\n      <td>4641903,4642701,4643502,4647801,4649410</td>\n      <td>SP</td>\n      <td>7107</td>\n      <td>1</td>\n      <td>2014</td>\n      <td>2009</td>\n      <td>5</td>\n      <td>COMÉRCIO</td>\n      <td>1</td>\n      <td>1</td>\n      <td>1</td>\n      <td>3</td>\n    </tr>\n    <tr>\n      <th>3</th>\n      <td>3</td>\n      <td>9685392</td>\n      <td>0</td>\n      <td>20211123</td>\n      <td>20080603.0</td>\n      <td>4712100</td>\n      <td>3329501,4721102,4742300,4744003,4744099,475470...</td>\n      <td>SP</td>\n      <td>6321</td>\n      <td>1</td>\n      <td>2021</td>\n      <td>2008</td>\n      <td>13</td>\n      <td>COMÉRCIO</td>\n      <td>1</td>\n      <td>1</td>\n      <td>1</td>\n      <td>3</td>\n    </tr>\n    <tr>\n      <th>4</th>\n      <td>4</td>\n      <td>9499019</td>\n      <td>1</td>\n      <td>20080402</td>\n      <td>20080402.0</td>\n      <td>8230001</td>\n      <td>7020400,8599604,7490104</td>\n      <td>SP</td>\n      <td>7107</td>\n      <td>3</td>\n      <td>2008</td>\n      <td>2008</td>\n      <td>0</td>\n      <td>ATIVIDADES ADMINISTRATIVAS</td>\n      <td>1</td>\n      <td>1</td>\n      <td>1</td>\n      <td>3</td>\n    </tr>\n    <tr>\n      <th>...</th>\n      <td>...</td>\n      <td>...</td>\n      <td>...</td>\n      <td>...</td>\n      <td>...</td>\n      <td>...</td>\n      <td>...</td>\n      <td>...</td>\n      <td>...</td>\n      <td>...</td>\n      <td>...</td>\n      <td>...</td>\n      <td>...</td>\n      <td>...</td>\n      <td>...</td>\n      <td>...</td>\n      <td>...</td>\n      <td>...</td>\n    </tr>\n    <tr>\n      <th>96957</th>\n      <td>97110</td>\n      <td>19093713</td>\n      <td>1</td>\n      <td>20131018</td>\n      <td>20131018.0</td>\n      <td>8599605</td>\n      <td>NaN</td>\n      <td>RJ</td>\n      <td>6001</td>\n      <td>1</td>\n      <td>2013</td>\n      <td>2013</td>\n      <td>0</td>\n      <td>EDUCACAO</td>\n      <td>0</td>\n      <td>0</td>\n      <td>0</td>\n      <td>0</td>\n    </tr>\n    <tr>\n      <th>96958</th>\n      <td>97111</td>\n      <td>19093760</td>\n      <td>0</td>\n      <td>20180201</td>\n      <td>20131018.0</td>\n      <td>8230002</td>\n      <td>8230001</td>\n      <td>SP</td>\n      <td>7107</td>\n      <td>1</td>\n      <td>2018</td>\n      <td>2013</td>\n      <td>5</td>\n      <td>ATIVIDADES ADMINISTRATIVAS</td>\n      <td>1</td>\n      <td>0</td>\n      <td>0</td>\n      <td>1</td>\n    </tr>\n    <tr>\n      <th>96959</th>\n      <td>97112</td>\n      <td>19093760</td>\n      <td>0</td>\n      <td>20180201</td>\n      <td>20131018.0</td>\n      <td>8230002</td>\n      <td>8230001</td>\n      <td>SP</td>\n      <td>7107</td>\n      <td>1</td>\n      <td>2018</td>\n      <td>2013</td>\n      <td>5</td>\n      <td>ATIVIDADES ADMINISTRATIVAS</td>\n      <td>1</td>\n      <td>0</td>\n      <td>0</td>\n      <td>1</td>\n    </tr>\n    <tr>\n      <th>96960</th>\n      <td>97113</td>\n      <td>19093797</td>\n      <td>1</td>\n      <td>20131018</td>\n      <td>20131018.0</td>\n      <td>9602502</td>\n      <td>7739099,4729699,4772500</td>\n      <td>SP</td>\n      <td>6411</td>\n      <td>1</td>\n      <td>2013</td>\n      <td>2013</td>\n      <td>0</td>\n      <td>OUTRAS</td>\n      <td>1</td>\n      <td>1</td>\n      <td>1</td>\n      <td>3</td>\n    </tr>\n    <tr>\n      <th>96961</th>\n      <td>97114</td>\n      <td>19093797</td>\n      <td>1</td>\n      <td>20131018</td>\n      <td>20131018.0</td>\n      <td>9602502</td>\n      <td>7739099,4729699,4772500</td>\n      <td>SP</td>\n      <td>6411</td>\n      <td>1</td>\n      <td>2013</td>\n      <td>2013</td>\n      <td>0</td>\n      <td>OUTRAS</td>\n      <td>1</td>\n      <td>1</td>\n      <td>1</td>\n      <td>3</td>\n    </tr>\n  </tbody>\n</table>\n<p>96962 rows × 18 columns</p>\n</div>"
     },
     "metadata": {}
    }
   ]
  },
  {
   "cell_type": "code",
   "metadata": {
    "cell_id": "58bd0a64-9752-4da4-8e18-b46e70cb5a2a",
    "tags": [],
    "deepnote_to_be_reexecuted": false,
    "source_hash": "d87b7ed9",
    "execution_start": 1643722853022,
    "execution_millis": 180,
    "deepnote_cell_type": "code"
   },
   "source": "df_mei.head()",
   "execution_count": null,
   "outputs": [
    {
     "output_type": "execute_result",
     "execution_count": 6,
     "data": {
      "application/vnd.deepnote.dataframe.v3+json": {
       "column_count": 3,
       "row_count": 13301816,
       "columns": [
        {
         "name": "Unnamed: 0",
         "dtype": "int64"
        },
        {
         "name": "cnpj_base",
         "dtype": "int64"
        },
        {
         "name": "opcao_mei_final",
         "dtype": "int64"
        },
        {
         "name": "_deepnote_index_column",
         "dtype": "int64"
        }
       ],
       "rows": [
        {
         "Unnamed: 0": 0,
         "cnpj_base": 1035,
         "opcao_mei_final": 1,
         "_deepnote_index_column": 0
        },
        {
         "Unnamed: 0": 1,
         "cnpj_base": 1414,
         "opcao_mei_final": 1,
         "_deepnote_index_column": 1
        },
        {
         "Unnamed: 0": 2,
         "cnpj_base": 1477,
         "opcao_mei_final": 1,
         "_deepnote_index_column": 2
        },
        {
         "Unnamed: 0": 3,
         "cnpj_base": 1672,
         "opcao_mei_final": 1,
         "_deepnote_index_column": 3
        },
        {
         "Unnamed: 0": 4,
         "cnpj_base": 2317,
         "opcao_mei_final": 1,
         "_deepnote_index_column": 4
        },
        {
         "Unnamed: 0": 5,
         "cnpj_base": 2589,
         "opcao_mei_final": 1,
         "_deepnote_index_column": 5
        },
        {
         "Unnamed: 0": 6,
         "cnpj_base": 2842,
         "opcao_mei_final": 1,
         "_deepnote_index_column": 6
        },
        {
         "Unnamed: 0": 7,
         "cnpj_base": 2959,
         "opcao_mei_final": 1,
         "_deepnote_index_column": 7
        },
        {
         "Unnamed: 0": 8,
         "cnpj_base": 3183,
         "opcao_mei_final": 1,
         "_deepnote_index_column": 8
        },
        {
         "Unnamed: 0": 9,
         "cnpj_base": 3273,
         "opcao_mei_final": 1,
         "_deepnote_index_column": 9
        }
       ]
      },
      "text/plain": "          Unnamed: 0  cnpj_base  opcao_mei_final\n0                  0       1035                1\n1                  1       1414                1\n2                  2       1477                1\n3                  3       1672                1\n4                  4       2317                1\n...              ...        ...              ...\n13301811    13301811   98417678                1\n13301812    13301812   98512254                1\n13301813    13301813   98515695                1\n13301814    13301814   98590649                1\n13301815    13301815   98595051                1\n\n[13301816 rows x 3 columns]",
      "text/html": "<div>\n<style scoped>\n    .dataframe tbody tr th:only-of-type {\n        vertical-align: middle;\n    }\n\n    .dataframe tbody tr th {\n        vertical-align: top;\n    }\n\n    .dataframe thead th {\n        text-align: right;\n    }\n</style>\n<table border=\"1\" class=\"dataframe\">\n  <thead>\n    <tr style=\"text-align: right;\">\n      <th></th>\n      <th>Unnamed: 0</th>\n      <th>cnpj_base</th>\n      <th>opcao_mei_final</th>\n    </tr>\n  </thead>\n  <tbody>\n    <tr>\n      <th>0</th>\n      <td>0</td>\n      <td>1035</td>\n      <td>1</td>\n    </tr>\n    <tr>\n      <th>1</th>\n      <td>1</td>\n      <td>1414</td>\n      <td>1</td>\n    </tr>\n    <tr>\n      <th>2</th>\n      <td>2</td>\n      <td>1477</td>\n      <td>1</td>\n    </tr>\n    <tr>\n      <th>3</th>\n      <td>3</td>\n      <td>1672</td>\n      <td>1</td>\n    </tr>\n    <tr>\n      <th>4</th>\n      <td>4</td>\n      <td>2317</td>\n      <td>1</td>\n    </tr>\n    <tr>\n      <th>...</th>\n      <td>...</td>\n      <td>...</td>\n      <td>...</td>\n    </tr>\n    <tr>\n      <th>13301811</th>\n      <td>13301811</td>\n      <td>98417678</td>\n      <td>1</td>\n    </tr>\n    <tr>\n      <th>13301812</th>\n      <td>13301812</td>\n      <td>98512254</td>\n      <td>1</td>\n    </tr>\n    <tr>\n      <th>13301813</th>\n      <td>13301813</td>\n      <td>98515695</td>\n      <td>1</td>\n    </tr>\n    <tr>\n      <th>13301814</th>\n      <td>13301814</td>\n      <td>98590649</td>\n      <td>1</td>\n    </tr>\n    <tr>\n      <th>13301815</th>\n      <td>13301815</td>\n      <td>98595051</td>\n      <td>1</td>\n    </tr>\n  </tbody>\n</table>\n<p>13301816 rows × 3 columns</p>\n</div>"
     },
     "metadata": {}
    }
   ]
  },
  {
   "cell_type": "code",
   "metadata": {
    "cell_id": "312cc8c9-7e99-4a86-b9ba-20a81f15dc0e",
    "tags": [],
    "deepnote_to_be_reexecuted": false,
    "source_hash": "5949b312",
    "execution_start": 1643722932690,
    "execution_millis": 4375,
    "deepnote_cell_type": "code"
   },
   "source": "df_final = pd.merge(left = df_dcc, right = df_mei, how = \"left\", left_on =\"cnpj_base_x\", right_on=\"cnpj_base\")",
   "execution_count": null,
   "outputs": []
  },
  {
   "cell_type": "code",
   "metadata": {
    "cell_id": "fe2d12d0-5768-4648-ba49-4c23877e3707",
    "tags": [],
    "deepnote_to_be_reexecuted": false,
    "source_hash": "5d0cd32d",
    "execution_start": 1643722943465,
    "execution_millis": 263,
    "deepnote_table_state": {
     "pageSize": 10,
     "pageIndex": 0,
     "filters": [],
     "sortBy": []
    },
    "deepnote_table_loading": false,
    "deepnote_cell_type": "code"
   },
   "source": "df_final",
   "execution_count": null,
   "outputs": [
    {
     "output_type": "execute_result",
     "execution_count": 10,
     "data": {
      "application/vnd.deepnote.dataframe.v3+json": {
       "column_count": 21,
       "row_count": 96962,
       "columns": [
        {
         "name": "Unnamed: 0_x",
         "dtype": "int64",
         "stats": {
          "unique_count": 96962,
          "nan_count": 0,
          "min": "0",
          "max": "97114",
          "histogram": [
           {
            "bin_start": 0,
            "bin_end": 9711.4,
            "count": 9637
           },
           {
            "bin_start": 9711.4,
            "bin_end": 19422.8,
            "count": 9640
           },
           {
            "bin_start": 19422.8,
            "bin_end": 29134.199999999997,
            "count": 9705
           },
           {
            "bin_start": 29134.199999999997,
            "bin_end": 38845.6,
            "count": 9711
           },
           {
            "bin_start": 38845.6,
            "bin_end": 48557,
            "count": 9711
           },
           {
            "bin_start": 48557,
            "bin_end": 58268.399999999994,
            "count": 9712
           },
           {
            "bin_start": 58268.399999999994,
            "bin_end": 67979.8,
            "count": 9711
           },
           {
            "bin_start": 67979.8,
            "bin_end": 77691.2,
            "count": 9712
           },
           {
            "bin_start": 77691.2,
            "bin_end": 87402.59999999999,
            "count": 9711
           },
           {
            "bin_start": 87402.59999999999,
            "bin_end": 97114,
            "count": 9712
           }
          ]
         }
        },
        {
         "name": "cnpj_base_x",
         "dtype": "int64"
        },
        {
         "name": "cd_situacao_cadastral",
         "dtype": "int64"
        },
        {
         "name": "dt_situacao_cadastral",
         "dtype": "int64"
        },
        {
         "name": "dt_inicio_atividade",
         "dtype": "float64"
        },
        {
         "name": "cd_cnae_principal",
         "dtype": "int64"
        },
        {
         "name": "cd_cnae_secundario",
         "dtype": "object"
        },
        {
         "name": "uf",
         "dtype": "object"
        },
        {
         "name": "cd_municipio",
         "dtype": "int64"
        },
        {
         "name": "porte_empresa",
         "dtype": "int64"
        },
        {
         "name": "Data_Situação_Cadastral",
         "dtype": "int64"
        },
        {
         "name": "Data_Início_Atividade",
         "dtype": "int64"
        },
        {
         "name": "Tempo_De_vida[anos]",
         "dtype": "int64"
        },
        {
         "name": "Setor",
         "dtype": "object"
        },
        {
         "name": "Empresa uma atividade",
         "dtype": "int64"
        },
        {
         "name": "Empresa executa até 2 atividades",
         "dtype": "int64"
        },
        {
         "name": "Empresa executa mais de 2 atividades",
         "dtype": "int64"
        },
        {
         "name": "Total de atividades executadas",
         "dtype": "int64"
        },
        {
         "name": "Unnamed: 0_y",
         "dtype": "float64"
        },
        {
         "name": "cnpj_base",
         "dtype": "float64"
        },
        {
         "name": "opcao_mei_final",
         "dtype": "float64"
        },
        {
         "name": "_deepnote_index_column",
         "dtype": "int64"
        }
       ],
       "rows": [
        {
         "Unnamed: 0_x": 0,
         "cnpj_base_x": 5703307,
         "cd_situacao_cadastral": 0,
         "dt_situacao_cadastral": 20130703,
         "dt_inicio_atividade": 20090901,
         "cd_cnae_principal": 4752100,
         "cd_cnae_secundario": "4713002,4757100",
         "uf": "SP",
         "cd_municipio": 7107,
         "porte_empresa": 1,
         "Data_Situação_Cadastral": 2013,
         "Data_Início_Atividade": 2009,
         "Tempo_De_vida[anos]": 4,
         "Setor": "COMÉRCIO",
         "Empresa uma atividade": 1,
         "Empresa executa até 2 atividades": 1,
         "Empresa executa mais de 2 atividades": 0,
         "Total de atividades executadas": 2,
         "Unnamed: 0_y": "nan",
         "cnpj_base": "nan",
         "opcao_mei_final": "nan",
         "_deepnote_index_column": 0
        },
        {
         "Unnamed: 0_x": 1,
         "cnpj_base_x": 9477554,
         "cd_situacao_cadastral": 0,
         "dt_situacao_cadastral": 20181016,
         "dt_inicio_atividade": 20080331,
         "cd_cnae_principal": 9602502,
         "cd_cnae_secundario": "nan",
         "uf": "SP",
         "cd_municipio": 7107,
         "porte_empresa": 1,
         "Data_Situação_Cadastral": 2018,
         "Data_Início_Atividade": 2008,
         "Tempo_De_vida[anos]": 10,
         "Setor": "OUTRAS",
         "Empresa uma atividade": 0,
         "Empresa executa até 2 atividades": 0,
         "Empresa executa mais de 2 atividades": 0,
         "Total de atividades executadas": 0,
         "Unnamed: 0_y": "nan",
         "cnpj_base": "nan",
         "opcao_mei_final": "nan",
         "_deepnote_index_column": 1
        },
        {
         "Unnamed: 0_x": 2,
         "cnpj_base_x": 9387387,
         "cd_situacao_cadastral": 0,
         "dt_situacao_cadastral": 20140325,
         "dt_inicio_atividade": 20090908,
         "cd_cnae_principal": 4649499,
         "cd_cnae_secundario": "4641903,4642701,4643502,4647801,4649410",
         "uf": "SP",
         "cd_municipio": 7107,
         "porte_empresa": 1,
         "Data_Situação_Cadastral": 2014,
         "Data_Início_Atividade": 2009,
         "Tempo_De_vida[anos]": 5,
         "Setor": "COMÉRCIO",
         "Empresa uma atividade": 1,
         "Empresa executa até 2 atividades": 1,
         "Empresa executa mais de 2 atividades": 1,
         "Total de atividades executadas": 3,
         "Unnamed: 0_y": "nan",
         "cnpj_base": "nan",
         "opcao_mei_final": "nan",
         "_deepnote_index_column": 2
        },
        {
         "Unnamed: 0_x": 3,
         "cnpj_base_x": 9685392,
         "cd_situacao_cadastral": 0,
         "dt_situacao_cadastral": 20211123,
         "dt_inicio_atividade": 20080603,
         "cd_cnae_principal": 4712100,
         "cd_cnae_secundario": "3329501,4721102,4742300,4744003,4744099,4754701,4784900,5611203",
         "uf": "SP",
         "cd_municipio": 6321,
         "porte_empresa": 1,
         "Data_Situação_Cadastral": 2021,
         "Data_Início_Atividade": 2008,
         "Tempo_De_vida[anos]": 13,
         "Setor": "COMÉRCIO",
         "Empresa uma atividade": 1,
         "Empresa executa até 2 atividades": 1,
         "Empresa executa mais de 2 atividades": 1,
         "Total de atividades executadas": 3,
         "Unnamed: 0_y": "nan",
         "cnpj_base": "nan",
         "opcao_mei_final": "nan",
         "_deepnote_index_column": 3
        },
        {
         "Unnamed: 0_x": 4,
         "cnpj_base_x": 9499019,
         "cd_situacao_cadastral": 1,
         "dt_situacao_cadastral": 20080402,
         "dt_inicio_atividade": 20080402,
         "cd_cnae_principal": 8230001,
         "cd_cnae_secundario": "7020400,8599604,7490104",
         "uf": "SP",
         "cd_municipio": 7107,
         "porte_empresa": 3,
         "Data_Situação_Cadastral": 2008,
         "Data_Início_Atividade": 2008,
         "Tempo_De_vida[anos]": 0,
         "Setor": "ATIVIDADES ADMINISTRATIVAS",
         "Empresa uma atividade": 1,
         "Empresa executa até 2 atividades": 1,
         "Empresa executa mais de 2 atividades": 1,
         "Total de atividades executadas": 3,
         "Unnamed: 0_y": "nan",
         "cnpj_base": "nan",
         "opcao_mei_final": "nan",
         "_deepnote_index_column": 4
        },
        {
         "Unnamed: 0_x": 5,
         "cnpj_base_x": 9263759,
         "cd_situacao_cadastral": 0,
         "dt_situacao_cadastral": 20210413,
         "dt_inicio_atividade": 20090107,
         "cd_cnae_principal": 4744099,
         "cd_cnae_secundario": "4744002,4744001",
         "uf": "SP",
         "cd_municipio": 7071,
         "porte_empresa": 1,
         "Data_Situação_Cadastral": 2021,
         "Data_Início_Atividade": 2009,
         "Tempo_De_vida[anos]": 12,
         "Setor": "COMÉRCIO",
         "Empresa uma atividade": 1,
         "Empresa executa até 2 atividades": 1,
         "Empresa executa mais de 2 atividades": 0,
         "Total de atividades executadas": 2,
         "Unnamed: 0_y": "nan",
         "cnpj_base": "nan",
         "opcao_mei_final": "nan",
         "_deepnote_index_column": 5
        },
        {
         "Unnamed: 0_x": 6,
         "cnpj_base_x": 9608724,
         "cd_situacao_cadastral": 1,
         "dt_situacao_cadastral": 20080401,
         "dt_inicio_atividade": 20080401,
         "cd_cnae_principal": 9511800,
         "cd_cnae_secundario": "4321500,9512600",
         "uf": "SP",
         "cd_municipio": 7107,
         "porte_empresa": 1,
         "Data_Situação_Cadastral": 2008,
         "Data_Início_Atividade": 2008,
         "Tempo_De_vida[anos]": 0,
         "Setor": "OUTRAS",
         "Empresa uma atividade": 1,
         "Empresa executa até 2 atividades": 1,
         "Empresa executa mais de 2 atividades": 0,
         "Total de atividades executadas": 2,
         "Unnamed: 0_y": "nan",
         "cnpj_base": "nan",
         "opcao_mei_final": "nan",
         "_deepnote_index_column": 6
        },
        {
         "Unnamed: 0_x": 7,
         "cnpj_base_x": 582135,
         "cd_situacao_cadastral": 1,
         "dt_situacao_cadastral": 20090902,
         "dt_inicio_atividade": 20090902,
         "cd_cnae_principal": 1623400,
         "cd_cnae_secundario": "nan",
         "uf": "RJ",
         "cd_municipio": 5921,
         "porte_empresa": 3,
         "Data_Situação_Cadastral": 2009,
         "Data_Início_Atividade": 2009,
         "Tempo_De_vida[anos]": 0,
         "Setor": "IND. TRANSFORMAÇÃO",
         "Empresa uma atividade": 0,
         "Empresa executa até 2 atividades": 0,
         "Empresa executa mais de 2 atividades": 0,
         "Total de atividades executadas": 0,
         "Unnamed: 0_y": "nan",
         "cnpj_base": "nan",
         "opcao_mei_final": "nan",
         "_deepnote_index_column": 7
        },
        {
         "Unnamed: 0_x": 8,
         "cnpj_base_x": 32148819,
         "cd_situacao_cadastral": 0,
         "dt_situacao_cadastral": 20190111,
         "dt_inicio_atividade": 20090403,
         "cd_cnae_principal": 1412601,
         "cd_cnae_secundario": "nan",
         "uf": "RJ",
         "cd_municipio": 5877,
         "porte_empresa": 1,
         "Data_Situação_Cadastral": 2019,
         "Data_Início_Atividade": 2009,
         "Tempo_De_vida[anos]": 10,
         "Setor": "IND. TRANSFORMAÇÃO",
         "Empresa uma atividade": 0,
         "Empresa executa até 2 atividades": 0,
         "Empresa executa mais de 2 atividades": 0,
         "Total de atividades executadas": 0,
         "Unnamed: 0_y": "nan",
         "cnpj_base": "nan",
         "opcao_mei_final": "nan",
         "_deepnote_index_column": 8
        },
        {
         "Unnamed: 0_x": 9,
         "cnpj_base_x": 32148819,
         "cd_situacao_cadastral": 0,
         "dt_situacao_cadastral": 20190111,
         "dt_inicio_atividade": 20100611,
         "cd_cnae_principal": 4781400,
         "cd_cnae_secundario": "nan",
         "uf": "RJ",
         "cd_municipio": 5877,
         "porte_empresa": 1,
         "Data_Situação_Cadastral": 2019,
         "Data_Início_Atividade": 2010,
         "Tempo_De_vida[anos]": 9,
         "Setor": "COMÉRCIO",
         "Empresa uma atividade": 0,
         "Empresa executa até 2 atividades": 0,
         "Empresa executa mais de 2 atividades": 0,
         "Total de atividades executadas": 0,
         "Unnamed: 0_y": "nan",
         "cnpj_base": "nan",
         "opcao_mei_final": "nan",
         "_deepnote_index_column": 9
        }
       ]
      },
      "text/plain": "       Unnamed: 0_x  cnpj_base_x  cd_situacao_cadastral  \\\n0                 0      5703307                      0   \n1                 1      9477554                      0   \n2                 2      9387387                      0   \n3                 3      9685392                      0   \n4                 4      9499019                      1   \n...             ...          ...                    ...   \n96957         97110     19093713                      1   \n96958         97111     19093760                      0   \n96959         97112     19093760                      0   \n96960         97113     19093797                      1   \n96961         97114     19093797                      1   \n\n       dt_situacao_cadastral  dt_inicio_atividade  cd_cnae_principal  \\\n0                   20130703           20090901.0            4752100   \n1                   20181016           20080331.0            9602502   \n2                   20140325           20090908.0            4649499   \n3                   20211123           20080603.0            4712100   \n4                   20080402           20080402.0            8230001   \n...                      ...                  ...                ...   \n96957               20131018           20131018.0            8599605   \n96958               20180201           20131018.0            8230002   \n96959               20180201           20131018.0            8230002   \n96960               20131018           20131018.0            9602502   \n96961               20131018           20131018.0            9602502   \n\n                                      cd_cnae_secundario  uf  cd_municipio  \\\n0                                        4713002,4757100  SP          7107   \n1                                                    NaN  SP          7107   \n2                4641903,4642701,4643502,4647801,4649410  SP          7107   \n3      3329501,4721102,4742300,4744003,4744099,475470...  SP          6321   \n4                                7020400,8599604,7490104  SP          7107   \n...                                                  ...  ..           ...   \n96957                                                NaN  RJ          6001   \n96958                                            8230001  SP          7107   \n96959                                            8230001  SP          7107   \n96960                            7739099,4729699,4772500  SP          6411   \n96961                            7739099,4729699,4772500  SP          6411   \n\n       porte_empresa  ...  Data_Início_Atividade  Tempo_De_vida[anos]  \\\n0                  1  ...                   2009                    4   \n1                  1  ...                   2008                   10   \n2                  1  ...                   2009                    5   \n3                  1  ...                   2008                   13   \n4                  3  ...                   2008                    0   \n...              ...  ...                    ...                  ...   \n96957              1  ...                   2013                    0   \n96958              1  ...                   2013                    5   \n96959              1  ...                   2013                    5   \n96960              1  ...                   2013                    0   \n96961              1  ...                   2013                    0   \n\n                            Setor Empresa uma atividade  \\\n0                        COMÉRCIO                     1   \n1                          OUTRAS                     0   \n2                        COMÉRCIO                     1   \n3                        COMÉRCIO                     1   \n4      ATIVIDADES ADMINISTRATIVAS                     1   \n...                           ...                   ...   \n96957                    EDUCACAO                     0   \n96958  ATIVIDADES ADMINISTRATIVAS                     1   \n96959  ATIVIDADES ADMINISTRATIVAS                     1   \n96960                      OUTRAS                     1   \n96961                      OUTRAS                     1   \n\n       Empresa executa até 2 atividades  Empresa executa mais de 2 atividades  \\\n0                                     1                                     0   \n1                                     0                                     0   \n2                                     1                                     1   \n3                                     1                                     1   \n4                                     1                                     1   \n...                                 ...                                   ...   \n96957                                 0                                     0   \n96958                                 0                                     0   \n96959                                 0                                     0   \n96960                                 1                                     1   \n96961                                 1                                     1   \n\n       Total de atividades executadas  Unnamed: 0_y   cnpj_base  \\\n0                                   2           NaN         NaN   \n1                                   0           NaN         NaN   \n2                                   3           NaN         NaN   \n3                                   3           NaN         NaN   \n4                                   3           NaN         NaN   \n...                               ...           ...         ...   \n96957                               0     1423725.0  19093713.0   \n96958                               1           NaN         NaN   \n96959                               1           NaN         NaN   \n96960                               3           NaN         NaN   \n96961                               3           NaN         NaN   \n\n       opcao_mei_final  \n0                  NaN  \n1                  NaN  \n2                  NaN  \n3                  NaN  \n4                  NaN  \n...                ...  \n96957              1.0  \n96958              NaN  \n96959              NaN  \n96960              NaN  \n96961              NaN  \n\n[96962 rows x 21 columns]",
      "text/html": "<div>\n<style scoped>\n    .dataframe tbody tr th:only-of-type {\n        vertical-align: middle;\n    }\n\n    .dataframe tbody tr th {\n        vertical-align: top;\n    }\n\n    .dataframe thead th {\n        text-align: right;\n    }\n</style>\n<table border=\"1\" class=\"dataframe\">\n  <thead>\n    <tr style=\"text-align: right;\">\n      <th></th>\n      <th>Unnamed: 0_x</th>\n      <th>cnpj_base_x</th>\n      <th>cd_situacao_cadastral</th>\n      <th>dt_situacao_cadastral</th>\n      <th>dt_inicio_atividade</th>\n      <th>cd_cnae_principal</th>\n      <th>cd_cnae_secundario</th>\n      <th>uf</th>\n      <th>cd_municipio</th>\n      <th>porte_empresa</th>\n      <th>...</th>\n      <th>Data_Início_Atividade</th>\n      <th>Tempo_De_vida[anos]</th>\n      <th>Setor</th>\n      <th>Empresa uma atividade</th>\n      <th>Empresa executa até 2 atividades</th>\n      <th>Empresa executa mais de 2 atividades</th>\n      <th>Total de atividades executadas</th>\n      <th>Unnamed: 0_y</th>\n      <th>cnpj_base</th>\n      <th>opcao_mei_final</th>\n    </tr>\n  </thead>\n  <tbody>\n    <tr>\n      <th>0</th>\n      <td>0</td>\n      <td>5703307</td>\n      <td>0</td>\n      <td>20130703</td>\n      <td>20090901.0</td>\n      <td>4752100</td>\n      <td>4713002,4757100</td>\n      <td>SP</td>\n      <td>7107</td>\n      <td>1</td>\n      <td>...</td>\n      <td>2009</td>\n      <td>4</td>\n      <td>COMÉRCIO</td>\n      <td>1</td>\n      <td>1</td>\n      <td>0</td>\n      <td>2</td>\n      <td>NaN</td>\n      <td>NaN</td>\n      <td>NaN</td>\n    </tr>\n    <tr>\n      <th>1</th>\n      <td>1</td>\n      <td>9477554</td>\n      <td>0</td>\n      <td>20181016</td>\n      <td>20080331.0</td>\n      <td>9602502</td>\n      <td>NaN</td>\n      <td>SP</td>\n      <td>7107</td>\n      <td>1</td>\n      <td>...</td>\n      <td>2008</td>\n      <td>10</td>\n      <td>OUTRAS</td>\n      <td>0</td>\n      <td>0</td>\n      <td>0</td>\n      <td>0</td>\n      <td>NaN</td>\n      <td>NaN</td>\n      <td>NaN</td>\n    </tr>\n    <tr>\n      <th>2</th>\n      <td>2</td>\n      <td>9387387</td>\n      <td>0</td>\n      <td>20140325</td>\n      <td>20090908.0</td>\n      <td>4649499</td>\n      <td>4641903,4642701,4643502,4647801,4649410</td>\n      <td>SP</td>\n      <td>7107</td>\n      <td>1</td>\n      <td>...</td>\n      <td>2009</td>\n      <td>5</td>\n      <td>COMÉRCIO</td>\n      <td>1</td>\n      <td>1</td>\n      <td>1</td>\n      <td>3</td>\n      <td>NaN</td>\n      <td>NaN</td>\n      <td>NaN</td>\n    </tr>\n    <tr>\n      <th>3</th>\n      <td>3</td>\n      <td>9685392</td>\n      <td>0</td>\n      <td>20211123</td>\n      <td>20080603.0</td>\n      <td>4712100</td>\n      <td>3329501,4721102,4742300,4744003,4744099,475470...</td>\n      <td>SP</td>\n      <td>6321</td>\n      <td>1</td>\n      <td>...</td>\n      <td>2008</td>\n      <td>13</td>\n      <td>COMÉRCIO</td>\n      <td>1</td>\n      <td>1</td>\n      <td>1</td>\n      <td>3</td>\n      <td>NaN</td>\n      <td>NaN</td>\n      <td>NaN</td>\n    </tr>\n    <tr>\n      <th>4</th>\n      <td>4</td>\n      <td>9499019</td>\n      <td>1</td>\n      <td>20080402</td>\n      <td>20080402.0</td>\n      <td>8230001</td>\n      <td>7020400,8599604,7490104</td>\n      <td>SP</td>\n      <td>7107</td>\n      <td>3</td>\n      <td>...</td>\n      <td>2008</td>\n      <td>0</td>\n      <td>ATIVIDADES ADMINISTRATIVAS</td>\n      <td>1</td>\n      <td>1</td>\n      <td>1</td>\n      <td>3</td>\n      <td>NaN</td>\n      <td>NaN</td>\n      <td>NaN</td>\n    </tr>\n    <tr>\n      <th>...</th>\n      <td>...</td>\n      <td>...</td>\n      <td>...</td>\n      <td>...</td>\n      <td>...</td>\n      <td>...</td>\n      <td>...</td>\n      <td>...</td>\n      <td>...</td>\n      <td>...</td>\n      <td>...</td>\n      <td>...</td>\n      <td>...</td>\n      <td>...</td>\n      <td>...</td>\n      <td>...</td>\n      <td>...</td>\n      <td>...</td>\n      <td>...</td>\n      <td>...</td>\n      <td>...</td>\n    </tr>\n    <tr>\n      <th>96957</th>\n      <td>97110</td>\n      <td>19093713</td>\n      <td>1</td>\n      <td>20131018</td>\n      <td>20131018.0</td>\n      <td>8599605</td>\n      <td>NaN</td>\n      <td>RJ</td>\n      <td>6001</td>\n      <td>1</td>\n      <td>...</td>\n      <td>2013</td>\n      <td>0</td>\n      <td>EDUCACAO</td>\n      <td>0</td>\n      <td>0</td>\n      <td>0</td>\n      <td>0</td>\n      <td>1423725.0</td>\n      <td>19093713.0</td>\n      <td>1.0</td>\n    </tr>\n    <tr>\n      <th>96958</th>\n      <td>97111</td>\n      <td>19093760</td>\n      <td>0</td>\n      <td>20180201</td>\n      <td>20131018.0</td>\n      <td>8230002</td>\n      <td>8230001</td>\n      <td>SP</td>\n      <td>7107</td>\n      <td>1</td>\n      <td>...</td>\n      <td>2013</td>\n      <td>5</td>\n      <td>ATIVIDADES ADMINISTRATIVAS</td>\n      <td>1</td>\n      <td>0</td>\n      <td>0</td>\n      <td>1</td>\n      <td>NaN</td>\n      <td>NaN</td>\n      <td>NaN</td>\n    </tr>\n    <tr>\n      <th>96959</th>\n      <td>97112</td>\n      <td>19093760</td>\n      <td>0</td>\n      <td>20180201</td>\n      <td>20131018.0</td>\n      <td>8230002</td>\n      <td>8230001</td>\n      <td>SP</td>\n      <td>7107</td>\n      <td>1</td>\n      <td>...</td>\n      <td>2013</td>\n      <td>5</td>\n      <td>ATIVIDADES ADMINISTRATIVAS</td>\n      <td>1</td>\n      <td>0</td>\n      <td>0</td>\n      <td>1</td>\n      <td>NaN</td>\n      <td>NaN</td>\n      <td>NaN</td>\n    </tr>\n    <tr>\n      <th>96960</th>\n      <td>97113</td>\n      <td>19093797</td>\n      <td>1</td>\n      <td>20131018</td>\n      <td>20131018.0</td>\n      <td>9602502</td>\n      <td>7739099,4729699,4772500</td>\n      <td>SP</td>\n      <td>6411</td>\n      <td>1</td>\n      <td>...</td>\n      <td>2013</td>\n      <td>0</td>\n      <td>OUTRAS</td>\n      <td>1</td>\n      <td>1</td>\n      <td>1</td>\n      <td>3</td>\n      <td>NaN</td>\n      <td>NaN</td>\n      <td>NaN</td>\n    </tr>\n    <tr>\n      <th>96961</th>\n      <td>97114</td>\n      <td>19093797</td>\n      <td>1</td>\n      <td>20131018</td>\n      <td>20131018.0</td>\n      <td>9602502</td>\n      <td>7739099,4729699,4772500</td>\n      <td>SP</td>\n      <td>6411</td>\n      <td>1</td>\n      <td>...</td>\n      <td>2013</td>\n      <td>0</td>\n      <td>OUTRAS</td>\n      <td>1</td>\n      <td>1</td>\n      <td>1</td>\n      <td>3</td>\n      <td>NaN</td>\n      <td>NaN</td>\n      <td>NaN</td>\n    </tr>\n  </tbody>\n</table>\n<p>96962 rows × 21 columns</p>\n</div>"
     },
     "metadata": {}
    }
   ]
  },
  {
   "cell_type": "code",
   "metadata": {
    "cell_id": "d6f61393-5529-46eb-8241-635bbf965911",
    "tags": [],
    "deepnote_to_be_reexecuted": false,
    "source_hash": "fafa62c3",
    "execution_start": 1643723105670,
    "execution_millis": 11,
    "deepnote_output_heights": [
     232.25
    ],
    "deepnote_cell_type": "code"
   },
   "source": "df_final[\"opcao_mei_final\"] = df_final[\"opcao_mei_final\"].fillna(0)",
   "execution_count": null,
   "outputs": []
  },
  {
   "cell_type": "code",
   "metadata": {
    "cell_id": "2c2dd61b-397b-4b42-88bd-925667f2b5fa",
    "tags": [],
    "deepnote_to_be_reexecuted": false,
    "source_hash": "5d0cd32d",
    "execution_start": 1643723114235,
    "execution_millis": 281,
    "deepnote_table_state": {
     "pageSize": 10,
     "pageIndex": 0,
     "filters": [],
     "sortBy": []
    },
    "deepnote_table_loading": false,
    "deepnote_cell_type": "code"
   },
   "source": "df_final",
   "execution_count": null,
   "outputs": [
    {
     "output_type": "execute_result",
     "execution_count": 14,
     "data": {
      "application/vnd.deepnote.dataframe.v3+json": {
       "column_count": 21,
       "row_count": 96962,
       "columns": [
        {
         "name": "Unnamed: 0_x",
         "dtype": "int64",
         "stats": {
          "unique_count": 96962,
          "nan_count": 0,
          "min": "0",
          "max": "97114",
          "histogram": [
           {
            "bin_start": 0,
            "bin_end": 9711.4,
            "count": 9637
           },
           {
            "bin_start": 9711.4,
            "bin_end": 19422.8,
            "count": 9640
           },
           {
            "bin_start": 19422.8,
            "bin_end": 29134.199999999997,
            "count": 9705
           },
           {
            "bin_start": 29134.199999999997,
            "bin_end": 38845.6,
            "count": 9711
           },
           {
            "bin_start": 38845.6,
            "bin_end": 48557,
            "count": 9711
           },
           {
            "bin_start": 48557,
            "bin_end": 58268.399999999994,
            "count": 9712
           },
           {
            "bin_start": 58268.399999999994,
            "bin_end": 67979.8,
            "count": 9711
           },
           {
            "bin_start": 67979.8,
            "bin_end": 77691.2,
            "count": 9712
           },
           {
            "bin_start": 77691.2,
            "bin_end": 87402.59999999999,
            "count": 9711
           },
           {
            "bin_start": 87402.59999999999,
            "bin_end": 97114,
            "count": 9712
           }
          ]
         }
        },
        {
         "name": "cnpj_base_x",
         "dtype": "int64"
        },
        {
         "name": "cd_situacao_cadastral",
         "dtype": "int64"
        },
        {
         "name": "dt_situacao_cadastral",
         "dtype": "int64"
        },
        {
         "name": "dt_inicio_atividade",
         "dtype": "float64"
        },
        {
         "name": "cd_cnae_principal",
         "dtype": "int64"
        },
        {
         "name": "cd_cnae_secundario",
         "dtype": "object"
        },
        {
         "name": "uf",
         "dtype": "object"
        },
        {
         "name": "cd_municipio",
         "dtype": "int64"
        },
        {
         "name": "porte_empresa",
         "dtype": "int64"
        },
        {
         "name": "Data_Situação_Cadastral",
         "dtype": "int64"
        },
        {
         "name": "Data_Início_Atividade",
         "dtype": "int64"
        },
        {
         "name": "Tempo_De_vida[anos]",
         "dtype": "int64"
        },
        {
         "name": "Setor",
         "dtype": "object"
        },
        {
         "name": "Empresa uma atividade",
         "dtype": "int64"
        },
        {
         "name": "Empresa executa até 2 atividades",
         "dtype": "int64"
        },
        {
         "name": "Empresa executa mais de 2 atividades",
         "dtype": "int64"
        },
        {
         "name": "Total de atividades executadas",
         "dtype": "int64"
        },
        {
         "name": "Unnamed: 0_y",
         "dtype": "float64"
        },
        {
         "name": "cnpj_base",
         "dtype": "float64"
        },
        {
         "name": "opcao_mei_final",
         "dtype": "float64"
        },
        {
         "name": "_deepnote_index_column",
         "dtype": "int64"
        }
       ],
       "rows": [
        {
         "Unnamed: 0_x": 0,
         "cnpj_base_x": 5703307,
         "cd_situacao_cadastral": 0,
         "dt_situacao_cadastral": 20130703,
         "dt_inicio_atividade": 20090901,
         "cd_cnae_principal": 4752100,
         "cd_cnae_secundario": "4713002,4757100",
         "uf": "SP",
         "cd_municipio": 7107,
         "porte_empresa": 1,
         "Data_Situação_Cadastral": 2013,
         "Data_Início_Atividade": 2009,
         "Tempo_De_vida[anos]": 4,
         "Setor": "COMÉRCIO",
         "Empresa uma atividade": 1,
         "Empresa executa até 2 atividades": 1,
         "Empresa executa mais de 2 atividades": 0,
         "Total de atividades executadas": 2,
         "Unnamed: 0_y": "nan",
         "cnpj_base": "nan",
         "opcao_mei_final": 0,
         "_deepnote_index_column": 0
        },
        {
         "Unnamed: 0_x": 1,
         "cnpj_base_x": 9477554,
         "cd_situacao_cadastral": 0,
         "dt_situacao_cadastral": 20181016,
         "dt_inicio_atividade": 20080331,
         "cd_cnae_principal": 9602502,
         "cd_cnae_secundario": "nan",
         "uf": "SP",
         "cd_municipio": 7107,
         "porte_empresa": 1,
         "Data_Situação_Cadastral": 2018,
         "Data_Início_Atividade": 2008,
         "Tempo_De_vida[anos]": 10,
         "Setor": "OUTRAS",
         "Empresa uma atividade": 0,
         "Empresa executa até 2 atividades": 0,
         "Empresa executa mais de 2 atividades": 0,
         "Total de atividades executadas": 0,
         "Unnamed: 0_y": "nan",
         "cnpj_base": "nan",
         "opcao_mei_final": 0,
         "_deepnote_index_column": 1
        },
        {
         "Unnamed: 0_x": 2,
         "cnpj_base_x": 9387387,
         "cd_situacao_cadastral": 0,
         "dt_situacao_cadastral": 20140325,
         "dt_inicio_atividade": 20090908,
         "cd_cnae_principal": 4649499,
         "cd_cnae_secundario": "4641903,4642701,4643502,4647801,4649410",
         "uf": "SP",
         "cd_municipio": 7107,
         "porte_empresa": 1,
         "Data_Situação_Cadastral": 2014,
         "Data_Início_Atividade": 2009,
         "Tempo_De_vida[anos]": 5,
         "Setor": "COMÉRCIO",
         "Empresa uma atividade": 1,
         "Empresa executa até 2 atividades": 1,
         "Empresa executa mais de 2 atividades": 1,
         "Total de atividades executadas": 3,
         "Unnamed: 0_y": "nan",
         "cnpj_base": "nan",
         "opcao_mei_final": 0,
         "_deepnote_index_column": 2
        },
        {
         "Unnamed: 0_x": 3,
         "cnpj_base_x": 9685392,
         "cd_situacao_cadastral": 0,
         "dt_situacao_cadastral": 20211123,
         "dt_inicio_atividade": 20080603,
         "cd_cnae_principal": 4712100,
         "cd_cnae_secundario": "3329501,4721102,4742300,4744003,4744099,4754701,4784900,5611203",
         "uf": "SP",
         "cd_municipio": 6321,
         "porte_empresa": 1,
         "Data_Situação_Cadastral": 2021,
         "Data_Início_Atividade": 2008,
         "Tempo_De_vida[anos]": 13,
         "Setor": "COMÉRCIO",
         "Empresa uma atividade": 1,
         "Empresa executa até 2 atividades": 1,
         "Empresa executa mais de 2 atividades": 1,
         "Total de atividades executadas": 3,
         "Unnamed: 0_y": "nan",
         "cnpj_base": "nan",
         "opcao_mei_final": 0,
         "_deepnote_index_column": 3
        },
        {
         "Unnamed: 0_x": 4,
         "cnpj_base_x": 9499019,
         "cd_situacao_cadastral": 1,
         "dt_situacao_cadastral": 20080402,
         "dt_inicio_atividade": 20080402,
         "cd_cnae_principal": 8230001,
         "cd_cnae_secundario": "7020400,8599604,7490104",
         "uf": "SP",
         "cd_municipio": 7107,
         "porte_empresa": 3,
         "Data_Situação_Cadastral": 2008,
         "Data_Início_Atividade": 2008,
         "Tempo_De_vida[anos]": 0,
         "Setor": "ATIVIDADES ADMINISTRATIVAS",
         "Empresa uma atividade": 1,
         "Empresa executa até 2 atividades": 1,
         "Empresa executa mais de 2 atividades": 1,
         "Total de atividades executadas": 3,
         "Unnamed: 0_y": "nan",
         "cnpj_base": "nan",
         "opcao_mei_final": 0,
         "_deepnote_index_column": 4
        },
        {
         "Unnamed: 0_x": 5,
         "cnpj_base_x": 9263759,
         "cd_situacao_cadastral": 0,
         "dt_situacao_cadastral": 20210413,
         "dt_inicio_atividade": 20090107,
         "cd_cnae_principal": 4744099,
         "cd_cnae_secundario": "4744002,4744001",
         "uf": "SP",
         "cd_municipio": 7071,
         "porte_empresa": 1,
         "Data_Situação_Cadastral": 2021,
         "Data_Início_Atividade": 2009,
         "Tempo_De_vida[anos]": 12,
         "Setor": "COMÉRCIO",
         "Empresa uma atividade": 1,
         "Empresa executa até 2 atividades": 1,
         "Empresa executa mais de 2 atividades": 0,
         "Total de atividades executadas": 2,
         "Unnamed: 0_y": "nan",
         "cnpj_base": "nan",
         "opcao_mei_final": 0,
         "_deepnote_index_column": 5
        },
        {
         "Unnamed: 0_x": 6,
         "cnpj_base_x": 9608724,
         "cd_situacao_cadastral": 1,
         "dt_situacao_cadastral": 20080401,
         "dt_inicio_atividade": 20080401,
         "cd_cnae_principal": 9511800,
         "cd_cnae_secundario": "4321500,9512600",
         "uf": "SP",
         "cd_municipio": 7107,
         "porte_empresa": 1,
         "Data_Situação_Cadastral": 2008,
         "Data_Início_Atividade": 2008,
         "Tempo_De_vida[anos]": 0,
         "Setor": "OUTRAS",
         "Empresa uma atividade": 1,
         "Empresa executa até 2 atividades": 1,
         "Empresa executa mais de 2 atividades": 0,
         "Total de atividades executadas": 2,
         "Unnamed: 0_y": "nan",
         "cnpj_base": "nan",
         "opcao_mei_final": 0,
         "_deepnote_index_column": 6
        },
        {
         "Unnamed: 0_x": 7,
         "cnpj_base_x": 582135,
         "cd_situacao_cadastral": 1,
         "dt_situacao_cadastral": 20090902,
         "dt_inicio_atividade": 20090902,
         "cd_cnae_principal": 1623400,
         "cd_cnae_secundario": "nan",
         "uf": "RJ",
         "cd_municipio": 5921,
         "porte_empresa": 3,
         "Data_Situação_Cadastral": 2009,
         "Data_Início_Atividade": 2009,
         "Tempo_De_vida[anos]": 0,
         "Setor": "IND. TRANSFORMAÇÃO",
         "Empresa uma atividade": 0,
         "Empresa executa até 2 atividades": 0,
         "Empresa executa mais de 2 atividades": 0,
         "Total de atividades executadas": 0,
         "Unnamed: 0_y": "nan",
         "cnpj_base": "nan",
         "opcao_mei_final": 0,
         "_deepnote_index_column": 7
        },
        {
         "Unnamed: 0_x": 8,
         "cnpj_base_x": 32148819,
         "cd_situacao_cadastral": 0,
         "dt_situacao_cadastral": 20190111,
         "dt_inicio_atividade": 20090403,
         "cd_cnae_principal": 1412601,
         "cd_cnae_secundario": "nan",
         "uf": "RJ",
         "cd_municipio": 5877,
         "porte_empresa": 1,
         "Data_Situação_Cadastral": 2019,
         "Data_Início_Atividade": 2009,
         "Tempo_De_vida[anos]": 10,
         "Setor": "IND. TRANSFORMAÇÃO",
         "Empresa uma atividade": 0,
         "Empresa executa até 2 atividades": 0,
         "Empresa executa mais de 2 atividades": 0,
         "Total de atividades executadas": 0,
         "Unnamed: 0_y": "nan",
         "cnpj_base": "nan",
         "opcao_mei_final": 0,
         "_deepnote_index_column": 8
        },
        {
         "Unnamed: 0_x": 9,
         "cnpj_base_x": 32148819,
         "cd_situacao_cadastral": 0,
         "dt_situacao_cadastral": 20190111,
         "dt_inicio_atividade": 20100611,
         "cd_cnae_principal": 4781400,
         "cd_cnae_secundario": "nan",
         "uf": "RJ",
         "cd_municipio": 5877,
         "porte_empresa": 1,
         "Data_Situação_Cadastral": 2019,
         "Data_Início_Atividade": 2010,
         "Tempo_De_vida[anos]": 9,
         "Setor": "COMÉRCIO",
         "Empresa uma atividade": 0,
         "Empresa executa até 2 atividades": 0,
         "Empresa executa mais de 2 atividades": 0,
         "Total de atividades executadas": 0,
         "Unnamed: 0_y": "nan",
         "cnpj_base": "nan",
         "opcao_mei_final": 0,
         "_deepnote_index_column": 9
        }
       ]
      },
      "text/plain": "       Unnamed: 0_x  cnpj_base_x  cd_situacao_cadastral  \\\n0                 0      5703307                      0   \n1                 1      9477554                      0   \n2                 2      9387387                      0   \n3                 3      9685392                      0   \n4                 4      9499019                      1   \n...             ...          ...                    ...   \n96957         97110     19093713                      1   \n96958         97111     19093760                      0   \n96959         97112     19093760                      0   \n96960         97113     19093797                      1   \n96961         97114     19093797                      1   \n\n       dt_situacao_cadastral  dt_inicio_atividade  cd_cnae_principal  \\\n0                   20130703           20090901.0            4752100   \n1                   20181016           20080331.0            9602502   \n2                   20140325           20090908.0            4649499   \n3                   20211123           20080603.0            4712100   \n4                   20080402           20080402.0            8230001   \n...                      ...                  ...                ...   \n96957               20131018           20131018.0            8599605   \n96958               20180201           20131018.0            8230002   \n96959               20180201           20131018.0            8230002   \n96960               20131018           20131018.0            9602502   \n96961               20131018           20131018.0            9602502   \n\n                                      cd_cnae_secundario  uf  cd_municipio  \\\n0                                        4713002,4757100  SP          7107   \n1                                                    NaN  SP          7107   \n2                4641903,4642701,4643502,4647801,4649410  SP          7107   \n3      3329501,4721102,4742300,4744003,4744099,475470...  SP          6321   \n4                                7020400,8599604,7490104  SP          7107   \n...                                                  ...  ..           ...   \n96957                                                NaN  RJ          6001   \n96958                                            8230001  SP          7107   \n96959                                            8230001  SP          7107   \n96960                            7739099,4729699,4772500  SP          6411   \n96961                            7739099,4729699,4772500  SP          6411   \n\n       porte_empresa  ...  Data_Início_Atividade  Tempo_De_vida[anos]  \\\n0                  1  ...                   2009                    4   \n1                  1  ...                   2008                   10   \n2                  1  ...                   2009                    5   \n3                  1  ...                   2008                   13   \n4                  3  ...                   2008                    0   \n...              ...  ...                    ...                  ...   \n96957              1  ...                   2013                    0   \n96958              1  ...                   2013                    5   \n96959              1  ...                   2013                    5   \n96960              1  ...                   2013                    0   \n96961              1  ...                   2013                    0   \n\n                            Setor Empresa uma atividade  \\\n0                        COMÉRCIO                     1   \n1                          OUTRAS                     0   \n2                        COMÉRCIO                     1   \n3                        COMÉRCIO                     1   \n4      ATIVIDADES ADMINISTRATIVAS                     1   \n...                           ...                   ...   \n96957                    EDUCACAO                     0   \n96958  ATIVIDADES ADMINISTRATIVAS                     1   \n96959  ATIVIDADES ADMINISTRATIVAS                     1   \n96960                      OUTRAS                     1   \n96961                      OUTRAS                     1   \n\n       Empresa executa até 2 atividades  Empresa executa mais de 2 atividades  \\\n0                                     1                                     0   \n1                                     0                                     0   \n2                                     1                                     1   \n3                                     1                                     1   \n4                                     1                                     1   \n...                                 ...                                   ...   \n96957                                 0                                     0   \n96958                                 0                                     0   \n96959                                 0                                     0   \n96960                                 1                                     1   \n96961                                 1                                     1   \n\n       Total de atividades executadas  Unnamed: 0_y   cnpj_base  \\\n0                                   2           NaN         NaN   \n1                                   0           NaN         NaN   \n2                                   3           NaN         NaN   \n3                                   3           NaN         NaN   \n4                                   3           NaN         NaN   \n...                               ...           ...         ...   \n96957                               0     1423725.0  19093713.0   \n96958                               1           NaN         NaN   \n96959                               1           NaN         NaN   \n96960                               3           NaN         NaN   \n96961                               3           NaN         NaN   \n\n       opcao_mei_final  \n0                  0.0  \n1                  0.0  \n2                  0.0  \n3                  0.0  \n4                  0.0  \n...                ...  \n96957              1.0  \n96958              0.0  \n96959              0.0  \n96960              0.0  \n96961              0.0  \n\n[96962 rows x 21 columns]",
      "text/html": "<div>\n<style scoped>\n    .dataframe tbody tr th:only-of-type {\n        vertical-align: middle;\n    }\n\n    .dataframe tbody tr th {\n        vertical-align: top;\n    }\n\n    .dataframe thead th {\n        text-align: right;\n    }\n</style>\n<table border=\"1\" class=\"dataframe\">\n  <thead>\n    <tr style=\"text-align: right;\">\n      <th></th>\n      <th>Unnamed: 0_x</th>\n      <th>cnpj_base_x</th>\n      <th>cd_situacao_cadastral</th>\n      <th>dt_situacao_cadastral</th>\n      <th>dt_inicio_atividade</th>\n      <th>cd_cnae_principal</th>\n      <th>cd_cnae_secundario</th>\n      <th>uf</th>\n      <th>cd_municipio</th>\n      <th>porte_empresa</th>\n      <th>...</th>\n      <th>Data_Início_Atividade</th>\n      <th>Tempo_De_vida[anos]</th>\n      <th>Setor</th>\n      <th>Empresa uma atividade</th>\n      <th>Empresa executa até 2 atividades</th>\n      <th>Empresa executa mais de 2 atividades</th>\n      <th>Total de atividades executadas</th>\n      <th>Unnamed: 0_y</th>\n      <th>cnpj_base</th>\n      <th>opcao_mei_final</th>\n    </tr>\n  </thead>\n  <tbody>\n    <tr>\n      <th>0</th>\n      <td>0</td>\n      <td>5703307</td>\n      <td>0</td>\n      <td>20130703</td>\n      <td>20090901.0</td>\n      <td>4752100</td>\n      <td>4713002,4757100</td>\n      <td>SP</td>\n      <td>7107</td>\n      <td>1</td>\n      <td>...</td>\n      <td>2009</td>\n      <td>4</td>\n      <td>COMÉRCIO</td>\n      <td>1</td>\n      <td>1</td>\n      <td>0</td>\n      <td>2</td>\n      <td>NaN</td>\n      <td>NaN</td>\n      <td>0.0</td>\n    </tr>\n    <tr>\n      <th>1</th>\n      <td>1</td>\n      <td>9477554</td>\n      <td>0</td>\n      <td>20181016</td>\n      <td>20080331.0</td>\n      <td>9602502</td>\n      <td>NaN</td>\n      <td>SP</td>\n      <td>7107</td>\n      <td>1</td>\n      <td>...</td>\n      <td>2008</td>\n      <td>10</td>\n      <td>OUTRAS</td>\n      <td>0</td>\n      <td>0</td>\n      <td>0</td>\n      <td>0</td>\n      <td>NaN</td>\n      <td>NaN</td>\n      <td>0.0</td>\n    </tr>\n    <tr>\n      <th>2</th>\n      <td>2</td>\n      <td>9387387</td>\n      <td>0</td>\n      <td>20140325</td>\n      <td>20090908.0</td>\n      <td>4649499</td>\n      <td>4641903,4642701,4643502,4647801,4649410</td>\n      <td>SP</td>\n      <td>7107</td>\n      <td>1</td>\n      <td>...</td>\n      <td>2009</td>\n      <td>5</td>\n      <td>COMÉRCIO</td>\n      <td>1</td>\n      <td>1</td>\n      <td>1</td>\n      <td>3</td>\n      <td>NaN</td>\n      <td>NaN</td>\n      <td>0.0</td>\n    </tr>\n    <tr>\n      <th>3</th>\n      <td>3</td>\n      <td>9685392</td>\n      <td>0</td>\n      <td>20211123</td>\n      <td>20080603.0</td>\n      <td>4712100</td>\n      <td>3329501,4721102,4742300,4744003,4744099,475470...</td>\n      <td>SP</td>\n      <td>6321</td>\n      <td>1</td>\n      <td>...</td>\n      <td>2008</td>\n      <td>13</td>\n      <td>COMÉRCIO</td>\n      <td>1</td>\n      <td>1</td>\n      <td>1</td>\n      <td>3</td>\n      <td>NaN</td>\n      <td>NaN</td>\n      <td>0.0</td>\n    </tr>\n    <tr>\n      <th>4</th>\n      <td>4</td>\n      <td>9499019</td>\n      <td>1</td>\n      <td>20080402</td>\n      <td>20080402.0</td>\n      <td>8230001</td>\n      <td>7020400,8599604,7490104</td>\n      <td>SP</td>\n      <td>7107</td>\n      <td>3</td>\n      <td>...</td>\n      <td>2008</td>\n      <td>0</td>\n      <td>ATIVIDADES ADMINISTRATIVAS</td>\n      <td>1</td>\n      <td>1</td>\n      <td>1</td>\n      <td>3</td>\n      <td>NaN</td>\n      <td>NaN</td>\n      <td>0.0</td>\n    </tr>\n    <tr>\n      <th>...</th>\n      <td>...</td>\n      <td>...</td>\n      <td>...</td>\n      <td>...</td>\n      <td>...</td>\n      <td>...</td>\n      <td>...</td>\n      <td>...</td>\n      <td>...</td>\n      <td>...</td>\n      <td>...</td>\n      <td>...</td>\n      <td>...</td>\n      <td>...</td>\n      <td>...</td>\n      <td>...</td>\n      <td>...</td>\n      <td>...</td>\n      <td>...</td>\n      <td>...</td>\n      <td>...</td>\n    </tr>\n    <tr>\n      <th>96957</th>\n      <td>97110</td>\n      <td>19093713</td>\n      <td>1</td>\n      <td>20131018</td>\n      <td>20131018.0</td>\n      <td>8599605</td>\n      <td>NaN</td>\n      <td>RJ</td>\n      <td>6001</td>\n      <td>1</td>\n      <td>...</td>\n      <td>2013</td>\n      <td>0</td>\n      <td>EDUCACAO</td>\n      <td>0</td>\n      <td>0</td>\n      <td>0</td>\n      <td>0</td>\n      <td>1423725.0</td>\n      <td>19093713.0</td>\n      <td>1.0</td>\n    </tr>\n    <tr>\n      <th>96958</th>\n      <td>97111</td>\n      <td>19093760</td>\n      <td>0</td>\n      <td>20180201</td>\n      <td>20131018.0</td>\n      <td>8230002</td>\n      <td>8230001</td>\n      <td>SP</td>\n      <td>7107</td>\n      <td>1</td>\n      <td>...</td>\n      <td>2013</td>\n      <td>5</td>\n      <td>ATIVIDADES ADMINISTRATIVAS</td>\n      <td>1</td>\n      <td>0</td>\n      <td>0</td>\n      <td>1</td>\n      <td>NaN</td>\n      <td>NaN</td>\n      <td>0.0</td>\n    </tr>\n    <tr>\n      <th>96959</th>\n      <td>97112</td>\n      <td>19093760</td>\n      <td>0</td>\n      <td>20180201</td>\n      <td>20131018.0</td>\n      <td>8230002</td>\n      <td>8230001</td>\n      <td>SP</td>\n      <td>7107</td>\n      <td>1</td>\n      <td>...</td>\n      <td>2013</td>\n      <td>5</td>\n      <td>ATIVIDADES ADMINISTRATIVAS</td>\n      <td>1</td>\n      <td>0</td>\n      <td>0</td>\n      <td>1</td>\n      <td>NaN</td>\n      <td>NaN</td>\n      <td>0.0</td>\n    </tr>\n    <tr>\n      <th>96960</th>\n      <td>97113</td>\n      <td>19093797</td>\n      <td>1</td>\n      <td>20131018</td>\n      <td>20131018.0</td>\n      <td>9602502</td>\n      <td>7739099,4729699,4772500</td>\n      <td>SP</td>\n      <td>6411</td>\n      <td>1</td>\n      <td>...</td>\n      <td>2013</td>\n      <td>0</td>\n      <td>OUTRAS</td>\n      <td>1</td>\n      <td>1</td>\n      <td>1</td>\n      <td>3</td>\n      <td>NaN</td>\n      <td>NaN</td>\n      <td>0.0</td>\n    </tr>\n    <tr>\n      <th>96961</th>\n      <td>97114</td>\n      <td>19093797</td>\n      <td>1</td>\n      <td>20131018</td>\n      <td>20131018.0</td>\n      <td>9602502</td>\n      <td>7739099,4729699,4772500</td>\n      <td>SP</td>\n      <td>6411</td>\n      <td>1</td>\n      <td>...</td>\n      <td>2013</td>\n      <td>0</td>\n      <td>OUTRAS</td>\n      <td>1</td>\n      <td>1</td>\n      <td>1</td>\n      <td>3</td>\n      <td>NaN</td>\n      <td>NaN</td>\n      <td>0.0</td>\n    </tr>\n  </tbody>\n</table>\n<p>96962 rows × 21 columns</p>\n</div>"
     },
     "metadata": {}
    }
   ]
  },
  {
   "cell_type": "code",
   "metadata": {
    "cell_id": "2339b0ae-8add-4305-b2b1-209f04c1d20e",
    "tags": [],
    "deepnote_to_be_reexecuted": false,
    "source_hash": "9eb62a71",
    "execution_start": 1643723298646,
    "execution_millis": 134,
    "deepnote_cell_type": "code"
   },
   "source": "df_final = df_final.drop(columns=[\"Unnamed: 0_y\", \"cnpj_base\"])",
   "execution_count": null,
   "outputs": [
    {
     "output_type": "error",
     "ename": "KeyError",
     "evalue": "\"['Unnamed: 0_y' 'cnpj_base'] not found in axis\"",
     "traceback": [
      "\u001b[0;31m---------------------------------------------------------------------------\u001b[0m",
      "\u001b[0;31mKeyError\u001b[0m                                  Traceback (most recent call last)",
      "\u001b[0;32m<ipython-input-16-39c79e80f841>\u001b[0m in \u001b[0;36m<module>\u001b[0;34m\u001b[0m\n\u001b[0;32m----> 1\u001b[0;31m \u001b[0mdf_final\u001b[0m \u001b[0;34m=\u001b[0m \u001b[0mdf_final\u001b[0m\u001b[0;34m.\u001b[0m\u001b[0mdrop\u001b[0m\u001b[0;34m(\u001b[0m\u001b[0mcolumns\u001b[0m\u001b[0;34m=\u001b[0m\u001b[0;34m[\u001b[0m\u001b[0;34m\"Unnamed: 0_y\"\u001b[0m\u001b[0;34m,\u001b[0m \u001b[0;34m\"cnpj_base\"\u001b[0m\u001b[0;34m,\u001b[0m\u001b[0;34m\"Unnamed: 0_x\"\u001b[0m \u001b[0;34m]\u001b[0m\u001b[0;34m)\u001b[0m\u001b[0;34m\u001b[0m\u001b[0;34m\u001b[0m\u001b[0m\n\u001b[0m",
      "\u001b[0;32m/shared-libs/python3.7/py/lib/python3.7/site-packages/pandas/core/frame.py\u001b[0m in \u001b[0;36mdrop\u001b[0;34m(self, labels, axis, index, columns, level, inplace, errors)\u001b[0m\n\u001b[1;32m   4313\u001b[0m             \u001b[0mlevel\u001b[0m\u001b[0;34m=\u001b[0m\u001b[0mlevel\u001b[0m\u001b[0;34m,\u001b[0m\u001b[0;34m\u001b[0m\u001b[0;34m\u001b[0m\u001b[0m\n\u001b[1;32m   4314\u001b[0m             \u001b[0minplace\u001b[0m\u001b[0;34m=\u001b[0m\u001b[0minplace\u001b[0m\u001b[0;34m,\u001b[0m\u001b[0;34m\u001b[0m\u001b[0;34m\u001b[0m\u001b[0m\n\u001b[0;32m-> 4315\u001b[0;31m             \u001b[0merrors\u001b[0m\u001b[0;34m=\u001b[0m\u001b[0merrors\u001b[0m\u001b[0;34m,\u001b[0m\u001b[0;34m\u001b[0m\u001b[0;34m\u001b[0m\u001b[0m\n\u001b[0m\u001b[1;32m   4316\u001b[0m         )\n\u001b[1;32m   4317\u001b[0m \u001b[0;34m\u001b[0m\u001b[0m\n",
      "\u001b[0;32m/shared-libs/python3.7/py/lib/python3.7/site-packages/pandas/core/generic.py\u001b[0m in \u001b[0;36mdrop\u001b[0;34m(self, labels, axis, index, columns, level, inplace, errors)\u001b[0m\n\u001b[1;32m   4151\u001b[0m         \u001b[0;32mfor\u001b[0m \u001b[0maxis\u001b[0m\u001b[0;34m,\u001b[0m \u001b[0mlabels\u001b[0m \u001b[0;32min\u001b[0m \u001b[0maxes\u001b[0m\u001b[0;34m.\u001b[0m\u001b[0mitems\u001b[0m\u001b[0;34m(\u001b[0m\u001b[0;34m)\u001b[0m\u001b[0;34m:\u001b[0m\u001b[0;34m\u001b[0m\u001b[0;34m\u001b[0m\u001b[0m\n\u001b[1;32m   4152\u001b[0m             \u001b[0;32mif\u001b[0m \u001b[0mlabels\u001b[0m \u001b[0;32mis\u001b[0m \u001b[0;32mnot\u001b[0m \u001b[0;32mNone\u001b[0m\u001b[0;34m:\u001b[0m\u001b[0;34m\u001b[0m\u001b[0;34m\u001b[0m\u001b[0m\n\u001b[0;32m-> 4153\u001b[0;31m                 \u001b[0mobj\u001b[0m \u001b[0;34m=\u001b[0m \u001b[0mobj\u001b[0m\u001b[0;34m.\u001b[0m\u001b[0m_drop_axis\u001b[0m\u001b[0;34m(\u001b[0m\u001b[0mlabels\u001b[0m\u001b[0;34m,\u001b[0m \u001b[0maxis\u001b[0m\u001b[0;34m,\u001b[0m \u001b[0mlevel\u001b[0m\u001b[0;34m=\u001b[0m\u001b[0mlevel\u001b[0m\u001b[0;34m,\u001b[0m \u001b[0merrors\u001b[0m\u001b[0;34m=\u001b[0m\u001b[0merrors\u001b[0m\u001b[0;34m)\u001b[0m\u001b[0;34m\u001b[0m\u001b[0;34m\u001b[0m\u001b[0m\n\u001b[0m\u001b[1;32m   4154\u001b[0m \u001b[0;34m\u001b[0m\u001b[0m\n\u001b[1;32m   4155\u001b[0m         \u001b[0;32mif\u001b[0m \u001b[0minplace\u001b[0m\u001b[0;34m:\u001b[0m\u001b[0;34m\u001b[0m\u001b[0;34m\u001b[0m\u001b[0m\n",
      "\u001b[0;32m/shared-libs/python3.7/py/lib/python3.7/site-packages/pandas/core/generic.py\u001b[0m in \u001b[0;36m_drop_axis\u001b[0;34m(self, labels, axis, level, errors)\u001b[0m\n\u001b[1;32m   4186\u001b[0m                 \u001b[0mnew_axis\u001b[0m \u001b[0;34m=\u001b[0m \u001b[0maxis\u001b[0m\u001b[0;34m.\u001b[0m\u001b[0mdrop\u001b[0m\u001b[0;34m(\u001b[0m\u001b[0mlabels\u001b[0m\u001b[0;34m,\u001b[0m \u001b[0mlevel\u001b[0m\u001b[0;34m=\u001b[0m\u001b[0mlevel\u001b[0m\u001b[0;34m,\u001b[0m \u001b[0merrors\u001b[0m\u001b[0;34m=\u001b[0m\u001b[0merrors\u001b[0m\u001b[0;34m)\u001b[0m\u001b[0;34m\u001b[0m\u001b[0;34m\u001b[0m\u001b[0m\n\u001b[1;32m   4187\u001b[0m             \u001b[0;32melse\u001b[0m\u001b[0;34m:\u001b[0m\u001b[0;34m\u001b[0m\u001b[0;34m\u001b[0m\u001b[0m\n\u001b[0;32m-> 4188\u001b[0;31m                 \u001b[0mnew_axis\u001b[0m \u001b[0;34m=\u001b[0m \u001b[0maxis\u001b[0m\u001b[0;34m.\u001b[0m\u001b[0mdrop\u001b[0m\u001b[0;34m(\u001b[0m\u001b[0mlabels\u001b[0m\u001b[0;34m,\u001b[0m \u001b[0merrors\u001b[0m\u001b[0;34m=\u001b[0m\u001b[0merrors\u001b[0m\u001b[0;34m)\u001b[0m\u001b[0;34m\u001b[0m\u001b[0;34m\u001b[0m\u001b[0m\n\u001b[0m\u001b[1;32m   4189\u001b[0m             \u001b[0mresult\u001b[0m \u001b[0;34m=\u001b[0m \u001b[0mself\u001b[0m\u001b[0;34m.\u001b[0m\u001b[0mreindex\u001b[0m\u001b[0;34m(\u001b[0m\u001b[0;34m**\u001b[0m\u001b[0;34m{\u001b[0m\u001b[0maxis_name\u001b[0m\u001b[0;34m:\u001b[0m \u001b[0mnew_axis\u001b[0m\u001b[0;34m}\u001b[0m\u001b[0;34m)\u001b[0m\u001b[0;34m\u001b[0m\u001b[0;34m\u001b[0m\u001b[0m\n\u001b[1;32m   4190\u001b[0m \u001b[0;34m\u001b[0m\u001b[0m\n",
      "\u001b[0;32m/shared-libs/python3.7/py/lib/python3.7/site-packages/pandas/core/indexes/base.py\u001b[0m in \u001b[0;36mdrop\u001b[0;34m(self, labels, errors)\u001b[0m\n\u001b[1;32m   5590\u001b[0m         \u001b[0;32mif\u001b[0m \u001b[0mmask\u001b[0m\u001b[0;34m.\u001b[0m\u001b[0many\u001b[0m\u001b[0;34m(\u001b[0m\u001b[0;34m)\u001b[0m\u001b[0;34m:\u001b[0m\u001b[0;34m\u001b[0m\u001b[0;34m\u001b[0m\u001b[0m\n\u001b[1;32m   5591\u001b[0m             \u001b[0;32mif\u001b[0m \u001b[0merrors\u001b[0m \u001b[0;34m!=\u001b[0m \u001b[0;34m\"ignore\"\u001b[0m\u001b[0;34m:\u001b[0m\u001b[0;34m\u001b[0m\u001b[0;34m\u001b[0m\u001b[0m\n\u001b[0;32m-> 5592\u001b[0;31m                 \u001b[0;32mraise\u001b[0m \u001b[0mKeyError\u001b[0m\u001b[0;34m(\u001b[0m\u001b[0;34mf\"{labels[mask]} not found in axis\"\u001b[0m\u001b[0;34m)\u001b[0m\u001b[0;34m\u001b[0m\u001b[0;34m\u001b[0m\u001b[0m\n\u001b[0m\u001b[1;32m   5593\u001b[0m             \u001b[0mindexer\u001b[0m \u001b[0;34m=\u001b[0m \u001b[0mindexer\u001b[0m\u001b[0;34m[\u001b[0m\u001b[0;34m~\u001b[0m\u001b[0mmask\u001b[0m\u001b[0;34m]\u001b[0m\u001b[0;34m\u001b[0m\u001b[0;34m\u001b[0m\u001b[0m\n\u001b[1;32m   5594\u001b[0m         \u001b[0;32mreturn\u001b[0m \u001b[0mself\u001b[0m\u001b[0;34m.\u001b[0m\u001b[0mdelete\u001b[0m\u001b[0;34m(\u001b[0m\u001b[0mindexer\u001b[0m\u001b[0;34m)\u001b[0m\u001b[0;34m\u001b[0m\u001b[0;34m\u001b[0m\u001b[0m\n",
      "\u001b[0;31mKeyError\u001b[0m: \"['Unnamed: 0_y' 'cnpj_base'] not found in axis\""
     ]
    }
   ]
  },
  {
   "cell_type": "code",
   "metadata": {
    "cell_id": "ce537f30-f5dc-4538-b039-68a4f411bcc2",
    "tags": [],
    "deepnote_to_be_reexecuted": false,
    "source_hash": "c5709cd9",
    "execution_start": 1643723321308,
    "execution_millis": 4,
    "deepnote_cell_type": "code"
   },
   "source": "df_final = df_final.drop(columns=[\"Unnamed: 0_x\"])",
   "execution_count": null,
   "outputs": []
  },
  {
   "cell_type": "code",
   "metadata": {
    "cell_id": "15457ab8-b7f8-4721-8ca0-3f7807c1ed40",
    "tags": [],
    "deepnote_to_be_reexecuted": false,
    "source_hash": "5d0cd32d",
    "execution_start": 1643723328254,
    "execution_millis": 187,
    "deepnote_cell_type": "code"
   },
   "source": "df_final",
   "execution_count": null,
   "outputs": [
    {
     "output_type": "execute_result",
     "execution_count": 18,
     "data": {
      "application/vnd.deepnote.dataframe.v3+json": {
       "column_count": 18,
       "row_count": 96962,
       "columns": [
        {
         "name": "cnpj_base_x",
         "dtype": "int64",
         "stats": {
          "unique_count": 82071,
          "nan_count": 0,
          "min": "9",
          "max": "42246540",
          "histogram": [
           {
            "bin_start": 9,
            "bin_end": 4224662.1,
            "count": 8542
           },
           {
            "bin_start": 4224662.1,
            "bin_end": 8449315.2,
            "count": 11387
           },
           {
            "bin_start": 8449315.2,
            "bin_end": 12673968.299999999,
            "count": 585
           },
           {
            "bin_start": 12673968.299999999,
            "bin_end": 16898621.4,
            "count": 539
           },
           {
            "bin_start": 16898621.4,
            "bin_end": 21123274.5,
            "count": 27267
           },
           {
            "bin_start": 21123274.5,
            "bin_end": 25347927.599999998,
            "count": 15569
           },
           {
            "bin_start": 25347927.599999998,
            "bin_end": 29572580.699999996,
            "count": 1851
           },
           {
            "bin_start": 29572580.699999996,
            "bin_end": 33797233.8,
            "count": 1972
           },
           {
            "bin_start": 33797233.8,
            "bin_end": 38021886.9,
            "count": 2324
           },
           {
            "bin_start": 38021886.9,
            "bin_end": 42246540,
            "count": 26926
           }
          ]
         }
        },
        {
         "name": "cd_situacao_cadastral",
         "dtype": "int64"
        },
        {
         "name": "dt_situacao_cadastral",
         "dtype": "int64"
        },
        {
         "name": "dt_inicio_atividade",
         "dtype": "float64"
        },
        {
         "name": "cd_cnae_principal",
         "dtype": "int64"
        },
        {
         "name": "cd_cnae_secundario",
         "dtype": "object"
        },
        {
         "name": "uf",
         "dtype": "object"
        },
        {
         "name": "cd_municipio",
         "dtype": "int64"
        },
        {
         "name": "porte_empresa",
         "dtype": "int64"
        },
        {
         "name": "Data_Situação_Cadastral",
         "dtype": "int64"
        },
        {
         "name": "Data_Início_Atividade",
         "dtype": "int64"
        },
        {
         "name": "Tempo_De_vida[anos]",
         "dtype": "int64"
        },
        {
         "name": "Setor",
         "dtype": "object"
        },
        {
         "name": "Empresa uma atividade",
         "dtype": "int64"
        },
        {
         "name": "Empresa executa até 2 atividades",
         "dtype": "int64"
        },
        {
         "name": "Empresa executa mais de 2 atividades",
         "dtype": "int64"
        },
        {
         "name": "Total de atividades executadas",
         "dtype": "int64"
        },
        {
         "name": "opcao_mei_final",
         "dtype": "float64"
        },
        {
         "name": "_deepnote_index_column",
         "dtype": "int64"
        }
       ],
       "rows": [
        {
         "cnpj_base_x": 5703307,
         "cd_situacao_cadastral": 0,
         "dt_situacao_cadastral": 20130703,
         "dt_inicio_atividade": 20090901,
         "cd_cnae_principal": 4752100,
         "cd_cnae_secundario": "4713002,4757100",
         "uf": "SP",
         "cd_municipio": 7107,
         "porte_empresa": 1,
         "Data_Situação_Cadastral": 2013,
         "Data_Início_Atividade": 2009,
         "Tempo_De_vida[anos]": 4,
         "Setor": "COMÉRCIO",
         "Empresa uma atividade": 1,
         "Empresa executa até 2 atividades": 1,
         "Empresa executa mais de 2 atividades": 0,
         "Total de atividades executadas": 2,
         "opcao_mei_final": 0,
         "_deepnote_index_column": 0
        },
        {
         "cnpj_base_x": 9477554,
         "cd_situacao_cadastral": 0,
         "dt_situacao_cadastral": 20181016,
         "dt_inicio_atividade": 20080331,
         "cd_cnae_principal": 9602502,
         "cd_cnae_secundario": "nan",
         "uf": "SP",
         "cd_municipio": 7107,
         "porte_empresa": 1,
         "Data_Situação_Cadastral": 2018,
         "Data_Início_Atividade": 2008,
         "Tempo_De_vida[anos]": 10,
         "Setor": "OUTRAS",
         "Empresa uma atividade": 0,
         "Empresa executa até 2 atividades": 0,
         "Empresa executa mais de 2 atividades": 0,
         "Total de atividades executadas": 0,
         "opcao_mei_final": 0,
         "_deepnote_index_column": 1
        },
        {
         "cnpj_base_x": 9387387,
         "cd_situacao_cadastral": 0,
         "dt_situacao_cadastral": 20140325,
         "dt_inicio_atividade": 20090908,
         "cd_cnae_principal": 4649499,
         "cd_cnae_secundario": "4641903,4642701,4643502,4647801,4649410",
         "uf": "SP",
         "cd_municipio": 7107,
         "porte_empresa": 1,
         "Data_Situação_Cadastral": 2014,
         "Data_Início_Atividade": 2009,
         "Tempo_De_vida[anos]": 5,
         "Setor": "COMÉRCIO",
         "Empresa uma atividade": 1,
         "Empresa executa até 2 atividades": 1,
         "Empresa executa mais de 2 atividades": 1,
         "Total de atividades executadas": 3,
         "opcao_mei_final": 0,
         "_deepnote_index_column": 2
        },
        {
         "cnpj_base_x": 9685392,
         "cd_situacao_cadastral": 0,
         "dt_situacao_cadastral": 20211123,
         "dt_inicio_atividade": 20080603,
         "cd_cnae_principal": 4712100,
         "cd_cnae_secundario": "3329501,4721102,4742300,4744003,4744099,4754701,4784900,5611203",
         "uf": "SP",
         "cd_municipio": 6321,
         "porte_empresa": 1,
         "Data_Situação_Cadastral": 2021,
         "Data_Início_Atividade": 2008,
         "Tempo_De_vida[anos]": 13,
         "Setor": "COMÉRCIO",
         "Empresa uma atividade": 1,
         "Empresa executa até 2 atividades": 1,
         "Empresa executa mais de 2 atividades": 1,
         "Total de atividades executadas": 3,
         "opcao_mei_final": 0,
         "_deepnote_index_column": 3
        },
        {
         "cnpj_base_x": 9499019,
         "cd_situacao_cadastral": 1,
         "dt_situacao_cadastral": 20080402,
         "dt_inicio_atividade": 20080402,
         "cd_cnae_principal": 8230001,
         "cd_cnae_secundario": "7020400,8599604,7490104",
         "uf": "SP",
         "cd_municipio": 7107,
         "porte_empresa": 3,
         "Data_Situação_Cadastral": 2008,
         "Data_Início_Atividade": 2008,
         "Tempo_De_vida[anos]": 0,
         "Setor": "ATIVIDADES ADMINISTRATIVAS",
         "Empresa uma atividade": 1,
         "Empresa executa até 2 atividades": 1,
         "Empresa executa mais de 2 atividades": 1,
         "Total de atividades executadas": 3,
         "opcao_mei_final": 0,
         "_deepnote_index_column": 4
        },
        {
         "cnpj_base_x": 9263759,
         "cd_situacao_cadastral": 0,
         "dt_situacao_cadastral": 20210413,
         "dt_inicio_atividade": 20090107,
         "cd_cnae_principal": 4744099,
         "cd_cnae_secundario": "4744002,4744001",
         "uf": "SP",
         "cd_municipio": 7071,
         "porte_empresa": 1,
         "Data_Situação_Cadastral": 2021,
         "Data_Início_Atividade": 2009,
         "Tempo_De_vida[anos]": 12,
         "Setor": "COMÉRCIO",
         "Empresa uma atividade": 1,
         "Empresa executa até 2 atividades": 1,
         "Empresa executa mais de 2 atividades": 0,
         "Total de atividades executadas": 2,
         "opcao_mei_final": 0,
         "_deepnote_index_column": 5
        },
        {
         "cnpj_base_x": 9608724,
         "cd_situacao_cadastral": 1,
         "dt_situacao_cadastral": 20080401,
         "dt_inicio_atividade": 20080401,
         "cd_cnae_principal": 9511800,
         "cd_cnae_secundario": "4321500,9512600",
         "uf": "SP",
         "cd_municipio": 7107,
         "porte_empresa": 1,
         "Data_Situação_Cadastral": 2008,
         "Data_Início_Atividade": 2008,
         "Tempo_De_vida[anos]": 0,
         "Setor": "OUTRAS",
         "Empresa uma atividade": 1,
         "Empresa executa até 2 atividades": 1,
         "Empresa executa mais de 2 atividades": 0,
         "Total de atividades executadas": 2,
         "opcao_mei_final": 0,
         "_deepnote_index_column": 6
        },
        {
         "cnpj_base_x": 582135,
         "cd_situacao_cadastral": 1,
         "dt_situacao_cadastral": 20090902,
         "dt_inicio_atividade": 20090902,
         "cd_cnae_principal": 1623400,
         "cd_cnae_secundario": "nan",
         "uf": "RJ",
         "cd_municipio": 5921,
         "porte_empresa": 3,
         "Data_Situação_Cadastral": 2009,
         "Data_Início_Atividade": 2009,
         "Tempo_De_vida[anos]": 0,
         "Setor": "IND. TRANSFORMAÇÃO",
         "Empresa uma atividade": 0,
         "Empresa executa até 2 atividades": 0,
         "Empresa executa mais de 2 atividades": 0,
         "Total de atividades executadas": 0,
         "opcao_mei_final": 0,
         "_deepnote_index_column": 7
        },
        {
         "cnpj_base_x": 32148819,
         "cd_situacao_cadastral": 0,
         "dt_situacao_cadastral": 20190111,
         "dt_inicio_atividade": 20090403,
         "cd_cnae_principal": 1412601,
         "cd_cnae_secundario": "nan",
         "uf": "RJ",
         "cd_municipio": 5877,
         "porte_empresa": 1,
         "Data_Situação_Cadastral": 2019,
         "Data_Início_Atividade": 2009,
         "Tempo_De_vida[anos]": 10,
         "Setor": "IND. TRANSFORMAÇÃO",
         "Empresa uma atividade": 0,
         "Empresa executa até 2 atividades": 0,
         "Empresa executa mais de 2 atividades": 0,
         "Total de atividades executadas": 0,
         "opcao_mei_final": 0,
         "_deepnote_index_column": 8
        },
        {
         "cnpj_base_x": 32148819,
         "cd_situacao_cadastral": 0,
         "dt_situacao_cadastral": 20190111,
         "dt_inicio_atividade": 20100611,
         "cd_cnae_principal": 4781400,
         "cd_cnae_secundario": "nan",
         "uf": "RJ",
         "cd_municipio": 5877,
         "porte_empresa": 1,
         "Data_Situação_Cadastral": 2019,
         "Data_Início_Atividade": 2010,
         "Tempo_De_vida[anos]": 9,
         "Setor": "COMÉRCIO",
         "Empresa uma atividade": 0,
         "Empresa executa até 2 atividades": 0,
         "Empresa executa mais de 2 atividades": 0,
         "Total de atividades executadas": 0,
         "opcao_mei_final": 0,
         "_deepnote_index_column": 9
        }
       ]
      },
      "text/plain": "       cnpj_base_x  cd_situacao_cadastral  dt_situacao_cadastral  \\\n0          5703307                      0               20130703   \n1          9477554                      0               20181016   \n2          9387387                      0               20140325   \n3          9685392                      0               20211123   \n4          9499019                      1               20080402   \n...            ...                    ...                    ...   \n96957     19093713                      1               20131018   \n96958     19093760                      0               20180201   \n96959     19093760                      0               20180201   \n96960     19093797                      1               20131018   \n96961     19093797                      1               20131018   \n\n       dt_inicio_atividade  cd_cnae_principal  \\\n0               20090901.0            4752100   \n1               20080331.0            9602502   \n2               20090908.0            4649499   \n3               20080603.0            4712100   \n4               20080402.0            8230001   \n...                    ...                ...   \n96957           20131018.0            8599605   \n96958           20131018.0            8230002   \n96959           20131018.0            8230002   \n96960           20131018.0            9602502   \n96961           20131018.0            9602502   \n\n                                      cd_cnae_secundario  uf  cd_municipio  \\\n0                                        4713002,4757100  SP          7107   \n1                                                    NaN  SP          7107   \n2                4641903,4642701,4643502,4647801,4649410  SP          7107   \n3      3329501,4721102,4742300,4744003,4744099,475470...  SP          6321   \n4                                7020400,8599604,7490104  SP          7107   \n...                                                  ...  ..           ...   \n96957                                                NaN  RJ          6001   \n96958                                            8230001  SP          7107   \n96959                                            8230001  SP          7107   \n96960                            7739099,4729699,4772500  SP          6411   \n96961                            7739099,4729699,4772500  SP          6411   \n\n       porte_empresa  Data_Situação_Cadastral  Data_Início_Atividade  \\\n0                  1                     2013                   2009   \n1                  1                     2018                   2008   \n2                  1                     2014                   2009   \n3                  1                     2021                   2008   \n4                  3                     2008                   2008   \n...              ...                      ...                    ...   \n96957              1                     2013                   2013   \n96958              1                     2018                   2013   \n96959              1                     2018                   2013   \n96960              1                     2013                   2013   \n96961              1                     2013                   2013   \n\n       Tempo_De_vida[anos]                       Setor  Empresa uma atividade  \\\n0                        4                    COMÉRCIO                      1   \n1                       10                      OUTRAS                      0   \n2                        5                    COMÉRCIO                      1   \n3                       13                    COMÉRCIO                      1   \n4                        0  ATIVIDADES ADMINISTRATIVAS                      1   \n...                    ...                         ...                    ...   \n96957                    0                    EDUCACAO                      0   \n96958                    5  ATIVIDADES ADMINISTRATIVAS                      1   \n96959                    5  ATIVIDADES ADMINISTRATIVAS                      1   \n96960                    0                      OUTRAS                      1   \n96961                    0                      OUTRAS                      1   \n\n       Empresa executa até 2 atividades  Empresa executa mais de 2 atividades  \\\n0                                     1                                     0   \n1                                     0                                     0   \n2                                     1                                     1   \n3                                     1                                     1   \n4                                     1                                     1   \n...                                 ...                                   ...   \n96957                                 0                                     0   \n96958                                 0                                     0   \n96959                                 0                                     0   \n96960                                 1                                     1   \n96961                                 1                                     1   \n\n       Total de atividades executadas  opcao_mei_final  \n0                                   2              0.0  \n1                                   0              0.0  \n2                                   3              0.0  \n3                                   3              0.0  \n4                                   3              0.0  \n...                               ...              ...  \n96957                               0              1.0  \n96958                               1              0.0  \n96959                               1              0.0  \n96960                               3              0.0  \n96961                               3              0.0  \n\n[96962 rows x 18 columns]",
      "text/html": "<div>\n<style scoped>\n    .dataframe tbody tr th:only-of-type {\n        vertical-align: middle;\n    }\n\n    .dataframe tbody tr th {\n        vertical-align: top;\n    }\n\n    .dataframe thead th {\n        text-align: right;\n    }\n</style>\n<table border=\"1\" class=\"dataframe\">\n  <thead>\n    <tr style=\"text-align: right;\">\n      <th></th>\n      <th>cnpj_base_x</th>\n      <th>cd_situacao_cadastral</th>\n      <th>dt_situacao_cadastral</th>\n      <th>dt_inicio_atividade</th>\n      <th>cd_cnae_principal</th>\n      <th>cd_cnae_secundario</th>\n      <th>uf</th>\n      <th>cd_municipio</th>\n      <th>porte_empresa</th>\n      <th>Data_Situação_Cadastral</th>\n      <th>Data_Início_Atividade</th>\n      <th>Tempo_De_vida[anos]</th>\n      <th>Setor</th>\n      <th>Empresa uma atividade</th>\n      <th>Empresa executa até 2 atividades</th>\n      <th>Empresa executa mais de 2 atividades</th>\n      <th>Total de atividades executadas</th>\n      <th>opcao_mei_final</th>\n    </tr>\n  </thead>\n  <tbody>\n    <tr>\n      <th>0</th>\n      <td>5703307</td>\n      <td>0</td>\n      <td>20130703</td>\n      <td>20090901.0</td>\n      <td>4752100</td>\n      <td>4713002,4757100</td>\n      <td>SP</td>\n      <td>7107</td>\n      <td>1</td>\n      <td>2013</td>\n      <td>2009</td>\n      <td>4</td>\n      <td>COMÉRCIO</td>\n      <td>1</td>\n      <td>1</td>\n      <td>0</td>\n      <td>2</td>\n      <td>0.0</td>\n    </tr>\n    <tr>\n      <th>1</th>\n      <td>9477554</td>\n      <td>0</td>\n      <td>20181016</td>\n      <td>20080331.0</td>\n      <td>9602502</td>\n      <td>NaN</td>\n      <td>SP</td>\n      <td>7107</td>\n      <td>1</td>\n      <td>2018</td>\n      <td>2008</td>\n      <td>10</td>\n      <td>OUTRAS</td>\n      <td>0</td>\n      <td>0</td>\n      <td>0</td>\n      <td>0</td>\n      <td>0.0</td>\n    </tr>\n    <tr>\n      <th>2</th>\n      <td>9387387</td>\n      <td>0</td>\n      <td>20140325</td>\n      <td>20090908.0</td>\n      <td>4649499</td>\n      <td>4641903,4642701,4643502,4647801,4649410</td>\n      <td>SP</td>\n      <td>7107</td>\n      <td>1</td>\n      <td>2014</td>\n      <td>2009</td>\n      <td>5</td>\n      <td>COMÉRCIO</td>\n      <td>1</td>\n      <td>1</td>\n      <td>1</td>\n      <td>3</td>\n      <td>0.0</td>\n    </tr>\n    <tr>\n      <th>3</th>\n      <td>9685392</td>\n      <td>0</td>\n      <td>20211123</td>\n      <td>20080603.0</td>\n      <td>4712100</td>\n      <td>3329501,4721102,4742300,4744003,4744099,475470...</td>\n      <td>SP</td>\n      <td>6321</td>\n      <td>1</td>\n      <td>2021</td>\n      <td>2008</td>\n      <td>13</td>\n      <td>COMÉRCIO</td>\n      <td>1</td>\n      <td>1</td>\n      <td>1</td>\n      <td>3</td>\n      <td>0.0</td>\n    </tr>\n    <tr>\n      <th>4</th>\n      <td>9499019</td>\n      <td>1</td>\n      <td>20080402</td>\n      <td>20080402.0</td>\n      <td>8230001</td>\n      <td>7020400,8599604,7490104</td>\n      <td>SP</td>\n      <td>7107</td>\n      <td>3</td>\n      <td>2008</td>\n      <td>2008</td>\n      <td>0</td>\n      <td>ATIVIDADES ADMINISTRATIVAS</td>\n      <td>1</td>\n      <td>1</td>\n      <td>1</td>\n      <td>3</td>\n      <td>0.0</td>\n    </tr>\n    <tr>\n      <th>...</th>\n      <td>...</td>\n      <td>...</td>\n      <td>...</td>\n      <td>...</td>\n      <td>...</td>\n      <td>...</td>\n      <td>...</td>\n      <td>...</td>\n      <td>...</td>\n      <td>...</td>\n      <td>...</td>\n      <td>...</td>\n      <td>...</td>\n      <td>...</td>\n      <td>...</td>\n      <td>...</td>\n      <td>...</td>\n      <td>...</td>\n    </tr>\n    <tr>\n      <th>96957</th>\n      <td>19093713</td>\n      <td>1</td>\n      <td>20131018</td>\n      <td>20131018.0</td>\n      <td>8599605</td>\n      <td>NaN</td>\n      <td>RJ</td>\n      <td>6001</td>\n      <td>1</td>\n      <td>2013</td>\n      <td>2013</td>\n      <td>0</td>\n      <td>EDUCACAO</td>\n      <td>0</td>\n      <td>0</td>\n      <td>0</td>\n      <td>0</td>\n      <td>1.0</td>\n    </tr>\n    <tr>\n      <th>96958</th>\n      <td>19093760</td>\n      <td>0</td>\n      <td>20180201</td>\n      <td>20131018.0</td>\n      <td>8230002</td>\n      <td>8230001</td>\n      <td>SP</td>\n      <td>7107</td>\n      <td>1</td>\n      <td>2018</td>\n      <td>2013</td>\n      <td>5</td>\n      <td>ATIVIDADES ADMINISTRATIVAS</td>\n      <td>1</td>\n      <td>0</td>\n      <td>0</td>\n      <td>1</td>\n      <td>0.0</td>\n    </tr>\n    <tr>\n      <th>96959</th>\n      <td>19093760</td>\n      <td>0</td>\n      <td>20180201</td>\n      <td>20131018.0</td>\n      <td>8230002</td>\n      <td>8230001</td>\n      <td>SP</td>\n      <td>7107</td>\n      <td>1</td>\n      <td>2018</td>\n      <td>2013</td>\n      <td>5</td>\n      <td>ATIVIDADES ADMINISTRATIVAS</td>\n      <td>1</td>\n      <td>0</td>\n      <td>0</td>\n      <td>1</td>\n      <td>0.0</td>\n    </tr>\n    <tr>\n      <th>96960</th>\n      <td>19093797</td>\n      <td>1</td>\n      <td>20131018</td>\n      <td>20131018.0</td>\n      <td>9602502</td>\n      <td>7739099,4729699,4772500</td>\n      <td>SP</td>\n      <td>6411</td>\n      <td>1</td>\n      <td>2013</td>\n      <td>2013</td>\n      <td>0</td>\n      <td>OUTRAS</td>\n      <td>1</td>\n      <td>1</td>\n      <td>1</td>\n      <td>3</td>\n      <td>0.0</td>\n    </tr>\n    <tr>\n      <th>96961</th>\n      <td>19093797</td>\n      <td>1</td>\n      <td>20131018</td>\n      <td>20131018.0</td>\n      <td>9602502</td>\n      <td>7739099,4729699,4772500</td>\n      <td>SP</td>\n      <td>6411</td>\n      <td>1</td>\n      <td>2013</td>\n      <td>2013</td>\n      <td>0</td>\n      <td>OUTRAS</td>\n      <td>1</td>\n      <td>1</td>\n      <td>1</td>\n      <td>3</td>\n      <td>0.0</td>\n    </tr>\n  </tbody>\n</table>\n<p>96962 rows × 18 columns</p>\n</div>"
     },
     "metadata": {}
    }
   ]
  },
  {
   "cell_type": "code",
   "metadata": {
    "cell_id": "0694abe9-a4cc-45a1-88a9-f529842d5193",
    "tags": [],
    "deepnote_to_be_reexecuted": false,
    "source_hash": "ac3e0454",
    "execution_start": 1643723448403,
    "execution_millis": 0,
    "deepnote_cell_type": "code"
   },
   "source": "df_final = df_final.drop(columns=[\"cd_cnae_principal\", \"cd_cnae_secundario\", \"cd_municipio\"])",
   "execution_count": null,
   "outputs": []
  },
  {
   "cell_type": "code",
   "metadata": {
    "cell_id": "38880479-ce55-4107-a58b-a946a36a3ade",
    "tags": [],
    "deepnote_to_be_reexecuted": false,
    "source_hash": "5d0cd32d",
    "execution_start": 1643723455769,
    "execution_millis": 200,
    "deepnote_cell_type": "code"
   },
   "source": "df_final",
   "execution_count": null,
   "outputs": [
    {
     "output_type": "execute_result",
     "execution_count": 20,
     "data": {
      "application/vnd.deepnote.dataframe.v3+json": {
       "column_count": 15,
       "row_count": 96962,
       "columns": [
        {
         "name": "cnpj_base_x",
         "dtype": "int64",
         "stats": {
          "unique_count": 82071,
          "nan_count": 0,
          "min": "9",
          "max": "42246540",
          "histogram": [
           {
            "bin_start": 9,
            "bin_end": 4224662.1,
            "count": 8542
           },
           {
            "bin_start": 4224662.1,
            "bin_end": 8449315.2,
            "count": 11387
           },
           {
            "bin_start": 8449315.2,
            "bin_end": 12673968.299999999,
            "count": 585
           },
           {
            "bin_start": 12673968.299999999,
            "bin_end": 16898621.4,
            "count": 539
           },
           {
            "bin_start": 16898621.4,
            "bin_end": 21123274.5,
            "count": 27267
           },
           {
            "bin_start": 21123274.5,
            "bin_end": 25347927.599999998,
            "count": 15569
           },
           {
            "bin_start": 25347927.599999998,
            "bin_end": 29572580.699999996,
            "count": 1851
           },
           {
            "bin_start": 29572580.699999996,
            "bin_end": 33797233.8,
            "count": 1972
           },
           {
            "bin_start": 33797233.8,
            "bin_end": 38021886.9,
            "count": 2324
           },
           {
            "bin_start": 38021886.9,
            "bin_end": 42246540,
            "count": 26926
           }
          ]
         }
        },
        {
         "name": "cd_situacao_cadastral",
         "dtype": "int64"
        },
        {
         "name": "dt_situacao_cadastral",
         "dtype": "int64"
        },
        {
         "name": "dt_inicio_atividade",
         "dtype": "float64"
        },
        {
         "name": "uf",
         "dtype": "object"
        },
        {
         "name": "porte_empresa",
         "dtype": "int64"
        },
        {
         "name": "Data_Situação_Cadastral",
         "dtype": "int64"
        },
        {
         "name": "Data_Início_Atividade",
         "dtype": "int64"
        },
        {
         "name": "Tempo_De_vida[anos]",
         "dtype": "int64"
        },
        {
         "name": "Setor",
         "dtype": "object"
        },
        {
         "name": "Empresa uma atividade",
         "dtype": "int64"
        },
        {
         "name": "Empresa executa até 2 atividades",
         "dtype": "int64"
        },
        {
         "name": "Empresa executa mais de 2 atividades",
         "dtype": "int64"
        },
        {
         "name": "Total de atividades executadas",
         "dtype": "int64"
        },
        {
         "name": "opcao_mei_final",
         "dtype": "float64"
        },
        {
         "name": "_deepnote_index_column",
         "dtype": "int64"
        }
       ],
       "rows": [
        {
         "cnpj_base_x": 5703307,
         "cd_situacao_cadastral": 0,
         "dt_situacao_cadastral": 20130703,
         "dt_inicio_atividade": 20090901,
         "uf": "SP",
         "porte_empresa": 1,
         "Data_Situação_Cadastral": 2013,
         "Data_Início_Atividade": 2009,
         "Tempo_De_vida[anos]": 4,
         "Setor": "COMÉRCIO",
         "Empresa uma atividade": 1,
         "Empresa executa até 2 atividades": 1,
         "Empresa executa mais de 2 atividades": 0,
         "Total de atividades executadas": 2,
         "opcao_mei_final": 0,
         "_deepnote_index_column": 0
        },
        {
         "cnpj_base_x": 9477554,
         "cd_situacao_cadastral": 0,
         "dt_situacao_cadastral": 20181016,
         "dt_inicio_atividade": 20080331,
         "uf": "SP",
         "porte_empresa": 1,
         "Data_Situação_Cadastral": 2018,
         "Data_Início_Atividade": 2008,
         "Tempo_De_vida[anos]": 10,
         "Setor": "OUTRAS",
         "Empresa uma atividade": 0,
         "Empresa executa até 2 atividades": 0,
         "Empresa executa mais de 2 atividades": 0,
         "Total de atividades executadas": 0,
         "opcao_mei_final": 0,
         "_deepnote_index_column": 1
        },
        {
         "cnpj_base_x": 9387387,
         "cd_situacao_cadastral": 0,
         "dt_situacao_cadastral": 20140325,
         "dt_inicio_atividade": 20090908,
         "uf": "SP",
         "porte_empresa": 1,
         "Data_Situação_Cadastral": 2014,
         "Data_Início_Atividade": 2009,
         "Tempo_De_vida[anos]": 5,
         "Setor": "COMÉRCIO",
         "Empresa uma atividade": 1,
         "Empresa executa até 2 atividades": 1,
         "Empresa executa mais de 2 atividades": 1,
         "Total de atividades executadas": 3,
         "opcao_mei_final": 0,
         "_deepnote_index_column": 2
        },
        {
         "cnpj_base_x": 9685392,
         "cd_situacao_cadastral": 0,
         "dt_situacao_cadastral": 20211123,
         "dt_inicio_atividade": 20080603,
         "uf": "SP",
         "porte_empresa": 1,
         "Data_Situação_Cadastral": 2021,
         "Data_Início_Atividade": 2008,
         "Tempo_De_vida[anos]": 13,
         "Setor": "COMÉRCIO",
         "Empresa uma atividade": 1,
         "Empresa executa até 2 atividades": 1,
         "Empresa executa mais de 2 atividades": 1,
         "Total de atividades executadas": 3,
         "opcao_mei_final": 0,
         "_deepnote_index_column": 3
        },
        {
         "cnpj_base_x": 9499019,
         "cd_situacao_cadastral": 1,
         "dt_situacao_cadastral": 20080402,
         "dt_inicio_atividade": 20080402,
         "uf": "SP",
         "porte_empresa": 3,
         "Data_Situação_Cadastral": 2008,
         "Data_Início_Atividade": 2008,
         "Tempo_De_vida[anos]": 0,
         "Setor": "ATIVIDADES ADMINISTRATIVAS",
         "Empresa uma atividade": 1,
         "Empresa executa até 2 atividades": 1,
         "Empresa executa mais de 2 atividades": 1,
         "Total de atividades executadas": 3,
         "opcao_mei_final": 0,
         "_deepnote_index_column": 4
        },
        {
         "cnpj_base_x": 9263759,
         "cd_situacao_cadastral": 0,
         "dt_situacao_cadastral": 20210413,
         "dt_inicio_atividade": 20090107,
         "uf": "SP",
         "porte_empresa": 1,
         "Data_Situação_Cadastral": 2021,
         "Data_Início_Atividade": 2009,
         "Tempo_De_vida[anos]": 12,
         "Setor": "COMÉRCIO",
         "Empresa uma atividade": 1,
         "Empresa executa até 2 atividades": 1,
         "Empresa executa mais de 2 atividades": 0,
         "Total de atividades executadas": 2,
         "opcao_mei_final": 0,
         "_deepnote_index_column": 5
        },
        {
         "cnpj_base_x": 9608724,
         "cd_situacao_cadastral": 1,
         "dt_situacao_cadastral": 20080401,
         "dt_inicio_atividade": 20080401,
         "uf": "SP",
         "porte_empresa": 1,
         "Data_Situação_Cadastral": 2008,
         "Data_Início_Atividade": 2008,
         "Tempo_De_vida[anos]": 0,
         "Setor": "OUTRAS",
         "Empresa uma atividade": 1,
         "Empresa executa até 2 atividades": 1,
         "Empresa executa mais de 2 atividades": 0,
         "Total de atividades executadas": 2,
         "opcao_mei_final": 0,
         "_deepnote_index_column": 6
        },
        {
         "cnpj_base_x": 582135,
         "cd_situacao_cadastral": 1,
         "dt_situacao_cadastral": 20090902,
         "dt_inicio_atividade": 20090902,
         "uf": "RJ",
         "porte_empresa": 3,
         "Data_Situação_Cadastral": 2009,
         "Data_Início_Atividade": 2009,
         "Tempo_De_vida[anos]": 0,
         "Setor": "IND. TRANSFORMAÇÃO",
         "Empresa uma atividade": 0,
         "Empresa executa até 2 atividades": 0,
         "Empresa executa mais de 2 atividades": 0,
         "Total de atividades executadas": 0,
         "opcao_mei_final": 0,
         "_deepnote_index_column": 7
        },
        {
         "cnpj_base_x": 32148819,
         "cd_situacao_cadastral": 0,
         "dt_situacao_cadastral": 20190111,
         "dt_inicio_atividade": 20090403,
         "uf": "RJ",
         "porte_empresa": 1,
         "Data_Situação_Cadastral": 2019,
         "Data_Início_Atividade": 2009,
         "Tempo_De_vida[anos]": 10,
         "Setor": "IND. TRANSFORMAÇÃO",
         "Empresa uma atividade": 0,
         "Empresa executa até 2 atividades": 0,
         "Empresa executa mais de 2 atividades": 0,
         "Total de atividades executadas": 0,
         "opcao_mei_final": 0,
         "_deepnote_index_column": 8
        },
        {
         "cnpj_base_x": 32148819,
         "cd_situacao_cadastral": 0,
         "dt_situacao_cadastral": 20190111,
         "dt_inicio_atividade": 20100611,
         "uf": "RJ",
         "porte_empresa": 1,
         "Data_Situação_Cadastral": 2019,
         "Data_Início_Atividade": 2010,
         "Tempo_De_vida[anos]": 9,
         "Setor": "COMÉRCIO",
         "Empresa uma atividade": 0,
         "Empresa executa até 2 atividades": 0,
         "Empresa executa mais de 2 atividades": 0,
         "Total de atividades executadas": 0,
         "opcao_mei_final": 0,
         "_deepnote_index_column": 9
        }
       ]
      },
      "text/plain": "       cnpj_base_x  cd_situacao_cadastral  dt_situacao_cadastral  \\\n0          5703307                      0               20130703   \n1          9477554                      0               20181016   \n2          9387387                      0               20140325   \n3          9685392                      0               20211123   \n4          9499019                      1               20080402   \n...            ...                    ...                    ...   \n96957     19093713                      1               20131018   \n96958     19093760                      0               20180201   \n96959     19093760                      0               20180201   \n96960     19093797                      1               20131018   \n96961     19093797                      1               20131018   \n\n       dt_inicio_atividade  uf  porte_empresa  Data_Situação_Cadastral  \\\n0               20090901.0  SP              1                     2013   \n1               20080331.0  SP              1                     2018   \n2               20090908.0  SP              1                     2014   \n3               20080603.0  SP              1                     2021   \n4               20080402.0  SP              3                     2008   \n...                    ...  ..            ...                      ...   \n96957           20131018.0  RJ              1                     2013   \n96958           20131018.0  SP              1                     2018   \n96959           20131018.0  SP              1                     2018   \n96960           20131018.0  SP              1                     2013   \n96961           20131018.0  SP              1                     2013   \n\n       Data_Início_Atividade  Tempo_De_vida[anos]                       Setor  \\\n0                       2009                    4                    COMÉRCIO   \n1                       2008                   10                      OUTRAS   \n2                       2009                    5                    COMÉRCIO   \n3                       2008                   13                    COMÉRCIO   \n4                       2008                    0  ATIVIDADES ADMINISTRATIVAS   \n...                      ...                  ...                         ...   \n96957                   2013                    0                    EDUCACAO   \n96958                   2013                    5  ATIVIDADES ADMINISTRATIVAS   \n96959                   2013                    5  ATIVIDADES ADMINISTRATIVAS   \n96960                   2013                    0                      OUTRAS   \n96961                   2013                    0                      OUTRAS   \n\n       Empresa uma atividade  Empresa executa até 2 atividades  \\\n0                          1                                 1   \n1                          0                                 0   \n2                          1                                 1   \n3                          1                                 1   \n4                          1                                 1   \n...                      ...                               ...   \n96957                      0                                 0   \n96958                      1                                 0   \n96959                      1                                 0   \n96960                      1                                 1   \n96961                      1                                 1   \n\n       Empresa executa mais de 2 atividades  Total de atividades executadas  \\\n0                                         0                               2   \n1                                         0                               0   \n2                                         1                               3   \n3                                         1                               3   \n4                                         1                               3   \n...                                     ...                             ...   \n96957                                     0                               0   \n96958                                     0                               1   \n96959                                     0                               1   \n96960                                     1                               3   \n96961                                     1                               3   \n\n       opcao_mei_final  \n0                  0.0  \n1                  0.0  \n2                  0.0  \n3                  0.0  \n4                  0.0  \n...                ...  \n96957              1.0  \n96958              0.0  \n96959              0.0  \n96960              0.0  \n96961              0.0  \n\n[96962 rows x 15 columns]",
      "text/html": "<div>\n<style scoped>\n    .dataframe tbody tr th:only-of-type {\n        vertical-align: middle;\n    }\n\n    .dataframe tbody tr th {\n        vertical-align: top;\n    }\n\n    .dataframe thead th {\n        text-align: right;\n    }\n</style>\n<table border=\"1\" class=\"dataframe\">\n  <thead>\n    <tr style=\"text-align: right;\">\n      <th></th>\n      <th>cnpj_base_x</th>\n      <th>cd_situacao_cadastral</th>\n      <th>dt_situacao_cadastral</th>\n      <th>dt_inicio_atividade</th>\n      <th>uf</th>\n      <th>porte_empresa</th>\n      <th>Data_Situação_Cadastral</th>\n      <th>Data_Início_Atividade</th>\n      <th>Tempo_De_vida[anos]</th>\n      <th>Setor</th>\n      <th>Empresa uma atividade</th>\n      <th>Empresa executa até 2 atividades</th>\n      <th>Empresa executa mais de 2 atividades</th>\n      <th>Total de atividades executadas</th>\n      <th>opcao_mei_final</th>\n    </tr>\n  </thead>\n  <tbody>\n    <tr>\n      <th>0</th>\n      <td>5703307</td>\n      <td>0</td>\n      <td>20130703</td>\n      <td>20090901.0</td>\n      <td>SP</td>\n      <td>1</td>\n      <td>2013</td>\n      <td>2009</td>\n      <td>4</td>\n      <td>COMÉRCIO</td>\n      <td>1</td>\n      <td>1</td>\n      <td>0</td>\n      <td>2</td>\n      <td>0.0</td>\n    </tr>\n    <tr>\n      <th>1</th>\n      <td>9477554</td>\n      <td>0</td>\n      <td>20181016</td>\n      <td>20080331.0</td>\n      <td>SP</td>\n      <td>1</td>\n      <td>2018</td>\n      <td>2008</td>\n      <td>10</td>\n      <td>OUTRAS</td>\n      <td>0</td>\n      <td>0</td>\n      <td>0</td>\n      <td>0</td>\n      <td>0.0</td>\n    </tr>\n    <tr>\n      <th>2</th>\n      <td>9387387</td>\n      <td>0</td>\n      <td>20140325</td>\n      <td>20090908.0</td>\n      <td>SP</td>\n      <td>1</td>\n      <td>2014</td>\n      <td>2009</td>\n      <td>5</td>\n      <td>COMÉRCIO</td>\n      <td>1</td>\n      <td>1</td>\n      <td>1</td>\n      <td>3</td>\n      <td>0.0</td>\n    </tr>\n    <tr>\n      <th>3</th>\n      <td>9685392</td>\n      <td>0</td>\n      <td>20211123</td>\n      <td>20080603.0</td>\n      <td>SP</td>\n      <td>1</td>\n      <td>2021</td>\n      <td>2008</td>\n      <td>13</td>\n      <td>COMÉRCIO</td>\n      <td>1</td>\n      <td>1</td>\n      <td>1</td>\n      <td>3</td>\n      <td>0.0</td>\n    </tr>\n    <tr>\n      <th>4</th>\n      <td>9499019</td>\n      <td>1</td>\n      <td>20080402</td>\n      <td>20080402.0</td>\n      <td>SP</td>\n      <td>3</td>\n      <td>2008</td>\n      <td>2008</td>\n      <td>0</td>\n      <td>ATIVIDADES ADMINISTRATIVAS</td>\n      <td>1</td>\n      <td>1</td>\n      <td>1</td>\n      <td>3</td>\n      <td>0.0</td>\n    </tr>\n    <tr>\n      <th>...</th>\n      <td>...</td>\n      <td>...</td>\n      <td>...</td>\n      <td>...</td>\n      <td>...</td>\n      <td>...</td>\n      <td>...</td>\n      <td>...</td>\n      <td>...</td>\n      <td>...</td>\n      <td>...</td>\n      <td>...</td>\n      <td>...</td>\n      <td>...</td>\n      <td>...</td>\n    </tr>\n    <tr>\n      <th>96957</th>\n      <td>19093713</td>\n      <td>1</td>\n      <td>20131018</td>\n      <td>20131018.0</td>\n      <td>RJ</td>\n      <td>1</td>\n      <td>2013</td>\n      <td>2013</td>\n      <td>0</td>\n      <td>EDUCACAO</td>\n      <td>0</td>\n      <td>0</td>\n      <td>0</td>\n      <td>0</td>\n      <td>1.0</td>\n    </tr>\n    <tr>\n      <th>96958</th>\n      <td>19093760</td>\n      <td>0</td>\n      <td>20180201</td>\n      <td>20131018.0</td>\n      <td>SP</td>\n      <td>1</td>\n      <td>2018</td>\n      <td>2013</td>\n      <td>5</td>\n      <td>ATIVIDADES ADMINISTRATIVAS</td>\n      <td>1</td>\n      <td>0</td>\n      <td>0</td>\n      <td>1</td>\n      <td>0.0</td>\n    </tr>\n    <tr>\n      <th>96959</th>\n      <td>19093760</td>\n      <td>0</td>\n      <td>20180201</td>\n      <td>20131018.0</td>\n      <td>SP</td>\n      <td>1</td>\n      <td>2018</td>\n      <td>2013</td>\n      <td>5</td>\n      <td>ATIVIDADES ADMINISTRATIVAS</td>\n      <td>1</td>\n      <td>0</td>\n      <td>0</td>\n      <td>1</td>\n      <td>0.0</td>\n    </tr>\n    <tr>\n      <th>96960</th>\n      <td>19093797</td>\n      <td>1</td>\n      <td>20131018</td>\n      <td>20131018.0</td>\n      <td>SP</td>\n      <td>1</td>\n      <td>2013</td>\n      <td>2013</td>\n      <td>0</td>\n      <td>OUTRAS</td>\n      <td>1</td>\n      <td>1</td>\n      <td>1</td>\n      <td>3</td>\n      <td>0.0</td>\n    </tr>\n    <tr>\n      <th>96961</th>\n      <td>19093797</td>\n      <td>1</td>\n      <td>20131018</td>\n      <td>20131018.0</td>\n      <td>SP</td>\n      <td>1</td>\n      <td>2013</td>\n      <td>2013</td>\n      <td>0</td>\n      <td>OUTRAS</td>\n      <td>1</td>\n      <td>1</td>\n      <td>1</td>\n      <td>3</td>\n      <td>0.0</td>\n    </tr>\n  </tbody>\n</table>\n<p>96962 rows × 15 columns</p>\n</div>"
     },
     "metadata": {}
    }
   ]
  },
  {
   "cell_type": "code",
   "metadata": {
    "cell_id": "2f7f0feb-358c-4b86-aeb9-26550e3a71ef",
    "tags": [],
    "deepnote_to_be_reexecuted": false,
    "source_hash": "aaecdae1",
    "execution_start": 1643723483392,
    "execution_millis": 1080,
    "deepnote_cell_type": "code"
   },
   "source": "df_final.to_csv(\"/work/BASE_FINAL.csv\")",
   "execution_count": null,
   "outputs": []
  },
  {
   "cell_type": "markdown",
   "source": "<a style='text-decoration:none;line-height:16px;display:flex;color:#5B5B62;padding:10px;justify-content:end;' href='https://deepnote.com?utm_source=created-in-deepnote-cell&projectId=f987927e-68d4-4aee-bd26-129b04c252b5' target=\"_blank\">\n<img alt='Created in deepnote.com' style='display:inline;max-height:16px;margin:0px;margin-right:7.5px;' src='data:image/svg+xml;base64,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' > </img>\nCreated in <span style='font-weight:600;margin-left:4px;'>Deepnote</span></a>",
   "metadata": {
    "tags": [],
    "created_in_deepnote_cell": true,
    "deepnote_cell_type": "markdown"
   }
  }
 ],
 "nbformat": 4,
 "nbformat_minor": 2,
 "metadata": {
  "orig_nbformat": 2,
  "deepnote": {
   "is_reactive": false
  },
  "deepnote_notebook_id": "d1a0593d-d6d1-4400-8cc6-fca9d7ff744a",
  "deepnote_execution_queue": []
 }
}