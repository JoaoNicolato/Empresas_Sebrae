{
 "cells": [
  {
   "cell_type": "markdown",
   "source": "# DCC: Desafio SEBRAE - Sobrevivência de Empresas ",
   "metadata": {
    "cell_id": "3d0f4817-9bc9-4155-ac66-b123bde1fc1f",
    "tags": [],
    "is_collapsed": false,
    "deepnote_app_coordinates": {
     "x": 0,
     "y": 258,
     "w": 12,
     "h": 5
    },
    "deepnote_cell_type": "text-cell-h1"
   }
  },
  {
   "cell_type": "markdown",
   "source": "",
   "metadata": {
    "cell_id": "16c78536-103e-434a-b0d3-750ce9e5de46",
    "tags": [],
    "is_collapsed": false,
    "deepnote_cell_type": "text-cell-p"
   }
  },
  {
   "cell_type": "markdown",
   "source": "## Grupo: João Nicolato, Bárbara Bilheiro e Francisco Santos ",
   "metadata": {
    "cell_id": "bc228937-a6ec-4b20-b037-fab083475126",
    "tags": [],
    "is_collapsed": false,
    "deepnote_app_coordinates": {
     "x": 0,
     "y": 270,
     "w": 12,
     "h": 5
    },
    "deepnote_cell_type": "text-cell-h2"
   }
  },
  {
   "cell_type": "markdown",
   "source": "",
   "metadata": {
    "cell_id": "55b90452-df49-4014-b558-5c0d4859a278",
    "tags": [],
    "is_collapsed": false,
    "deepnote_cell_type": "text-cell-p"
   }
  },
  {
   "cell_type": "markdown",
   "source": "### Importando Bibliotecas",
   "metadata": {
    "cell_id": "0e397455-db17-4fef-8469-f919e7111e3c",
    "tags": [],
    "deepnote_cell_type": "markdown"
   }
  },
  {
   "cell_type": "code",
   "metadata": {
    "tags": [],
    "cell_id": "7e83a652-b351-4515-bceb-ebbc182b6e04",
    "deepnote_to_be_reexecuted": false,
    "source_hash": "812850eb",
    "execution_start": 1643927324279,
    "execution_millis": 4164,
    "deepnote_app_coordinates": {
     "x": 0,
     "y": null,
     "w": 12,
     "h": 5
    },
    "deepnote_cell_type": "code"
   },
   "source": "import pandas as pd\nimport numpy as np\nimport matplotlib.pyplot as plt\nimport plotly.express as px\nimport seaborn as sns\n%matplotlib inline",
   "execution_count": null,
   "outputs": []
  },
  {
   "cell_type": "markdown",
   "source": "### Importando Base de Dados",
   "metadata": {
    "cell_id": "7424d385-749e-4abe-81c6-46f6b98480f9",
    "tags": [],
    "deepnote_cell_type": "markdown"
   }
  },
  {
   "cell_type": "code",
   "metadata": {
    "cell_id": "c8ba8535-ea5d-4d69-b6aa-38e1e9fb191f",
    "tags": [],
    "deepnote_to_be_reexecuted": false,
    "source_hash": "7f374e21",
    "execution_start": 1643927328448,
    "execution_millis": 160,
    "deepnote_app_coordinates": {
     "x": 0,
     "y": 6,
     "w": 12,
     "h": 5
    },
    "deepnote_cell_type": "code"
   },
   "source": "df_final = pd.read_csv(\"/work/BASE_FINAL.csv\")",
   "execution_count": null,
   "outputs": []
  },
  {
   "cell_type": "code",
   "metadata": {
    "cell_id": "5a1fe752-1413-44b2-b879-fafcd467c9b4",
    "tags": [],
    "deepnote_to_be_reexecuted": false,
    "source_hash": "92991ca1",
    "execution_start": 1643927328621,
    "execution_millis": 50,
    "deepnote_app_coordinates": {
     "x": 0,
     "y": 30,
     "w": 12,
     "h": 5
    },
    "deepnote_cell_type": "code"
   },
   "source": "df_final[\"cd_situacao_cadastral\"] = df_final[\"cd_situacao_cadastral\"].replace(0, \"INATIVA\")\ndf_final[\"cd_situacao_cadastral\"] = df_final[\"cd_situacao_cadastral\"].replace(1, \"ATIVA\")\ndf_final[\"porte_empresa\"] = df_final[\"porte_empresa\"].replace(1, \"Microempresa\")\ndf_final[\"porte_empresa\"] = df_final[\"porte_empresa\"].replace(3, \"Empresa de Pequeno Porte\")\ndf_final[\"opcao_mei_final\"] = df_final[\"opcao_mei_final\"].replace(0, \"Não\")\ndf_final[\"opcao_mei_final\"] = df_final[\"opcao_mei_final\"].replace(1, \"Sim\")",
   "execution_count": null,
   "outputs": []
  },
  {
   "cell_type": "code",
   "metadata": {
    "cell_id": "cb28e62d-b75d-4080-a199-c85c6a651b2b",
    "tags": [],
    "deepnote_to_be_reexecuted": false,
    "source_hash": "5d0cd32d",
    "execution_start": 1643927328679,
    "execution_millis": 314,
    "deepnote_table_state": {
     "pageSize": 10,
     "pageIndex": 0,
     "filters": [
      {
       "id": "Setor",
       "value": "alo",
       "type": "contains"
      }
     ],
     "sortBy": []
    },
    "deepnote_table_loading": false,
    "deepnote_app_coordinates": {
     "x": 0,
     "y": 36,
     "w": 12,
     "h": 5
    },
    "deepnote_cell_type": "code"
   },
   "source": "df_final",
   "execution_count": null,
   "outputs": [
    {
     "output_type": "execute_result",
     "execution_count": 4,
     "data": {
      "application/vnd.deepnote.dataframe.v3+json": {
       "column_count": 16,
       "row_count": 10271,
       "columns": [
        {
         "name": "Unnamed: 0",
         "dtype": "int64",
         "stats": {
          "unique_count": 10271,
          "nan_count": 0,
          "min": "18",
          "max": "96907",
          "histogram": [
           {
            "bin_start": 18,
            "bin_end": 9706.9,
            "count": 805
           },
           {
            "bin_start": 9706.9,
            "bin_end": 19395.8,
            "count": 809
           },
           {
            "bin_start": 19395.8,
            "bin_end": 29084.699999999997,
            "count": 1147
           },
           {
            "bin_start": 29084.699999999997,
            "bin_end": 38773.6,
            "count": 1136
           },
           {
            "bin_start": 38773.6,
            "bin_end": 48462.5,
            "count": 1116
           },
           {
            "bin_start": 48462.5,
            "bin_end": 58151.399999999994,
            "count": 1078
           },
           {
            "bin_start": 58151.399999999994,
            "bin_end": 67840.3,
            "count": 1096
           },
           {
            "bin_start": 67840.3,
            "bin_end": 77529.2,
            "count": 1108
           },
           {
            "bin_start": 77529.2,
            "bin_end": 87218.09999999999,
            "count": 1026
           },
           {
            "bin_start": 87218.09999999999,
            "bin_end": 96907,
            "count": 950
           }
          ]
         }
        },
        {
         "name": "cnpj_base_x",
         "dtype": "int64",
         "stats": {
          "unique_count": 8703,
          "nan_count": 0,
          "min": "1210",
          "max": "42246477",
          "histogram": [
           {
            "bin_start": 1210,
            "bin_end": 4225736.7,
            "count": 732
           },
           {
            "bin_start": 4225736.7,
            "bin_end": 8450263.4,
            "count": 928
           },
           {
            "bin_start": 8450263.4,
            "bin_end": 12674790.100000001,
            "count": 49
           },
           {
            "bin_start": 12674790.100000001,
            "bin_end": 16899316.8,
            "count": 42
           },
           {
            "bin_start": 16899316.8,
            "bin_end": 21123843.5,
            "count": 2875
           },
           {
            "bin_start": 21123843.5,
            "bin_end": 25348370.200000003,
            "count": 1760
           },
           {
            "bin_start": 25348370.200000003,
            "bin_end": 29572896.900000002,
            "count": 226
           },
           {
            "bin_start": 29572896.900000002,
            "bin_end": 33797423.6,
            "count": 202
           },
           {
            "bin_start": 33797423.6,
            "bin_end": 38021950.300000004,
            "count": 300
           },
           {
            "bin_start": 38021950.300000004,
            "bin_end": 42246477,
            "count": 3157
           }
          ]
         }
        },
        {
         "name": "cd_situacao_cadastral",
         "dtype": "object",
         "stats": {
          "unique_count": 2,
          "nan_count": 0,
          "categories": [
           {
            "name": "INATIVA",
            "count": 5194
           },
           {
            "name": "ATIVA",
            "count": 5077
           }
          ]
         }
        },
        {
         "name": "dt_situacao_cadastral",
         "dtype": "int64",
         "stats": {
          "unique_count": 1843,
          "nan_count": 0,
          "min": "19950706",
          "max": "20220108",
          "histogram": [
           {
            "bin_start": 19950706,
            "bin_end": 19977646.2,
            "count": 2
           },
           {
            "bin_start": 19977646.2,
            "bin_end": 20004586.4,
            "count": 10
           },
           {
            "bin_start": 20004586.4,
            "bin_end": 20031526.6,
            "count": 48
           },
           {
            "bin_start": 20031526.6,
            "bin_end": 20058466.8,
            "count": 307
           },
           {
            "bin_start": 20058466.8,
            "bin_end": 20085407,
            "count": 236
           },
           {
            "bin_start": 20085407,
            "bin_end": 20112347.2,
            "count": 129
           },
           {
            "bin_start": 20112347.2,
            "bin_end": 20139287.4,
            "count": 928
           },
           {
            "bin_start": 20139287.4,
            "bin_end": 20166227.6,
            "count": 1503
           },
           {
            "bin_start": 20166227.6,
            "bin_end": 20193167.8,
            "count": 2046
           },
           {
            "bin_start": 20193167.8,
            "bin_end": 20220108,
            "count": 5062
           }
          ]
         }
        },
        {
         "name": "dt_inicio_atividade",
         "dtype": "float64",
         "stats": {
          "unique_count": 1121,
          "nan_count": 0,
          "min": "19840601.0",
          "max": "20210720.0",
          "histogram": [
           {
            "bin_start": 19840601,
            "bin_end": 19877612.9,
            "count": 1
           },
           {
            "bin_start": 19877612.9,
            "bin_end": 19914624.8,
            "count": 0
           },
           {
            "bin_start": 19914624.8,
            "bin_end": 19951636.7,
            "count": 698
           },
           {
            "bin_start": 19951636.7,
            "bin_end": 19988648.6,
            "count": 13
           },
           {
            "bin_start": 19988648.6,
            "bin_end": 20025660.5,
            "count": 870
           },
           {
            "bin_start": 20025660.5,
            "bin_end": 20062672.4,
            "count": 58
           },
           {
            "bin_start": 20062672.4,
            "bin_end": 20099684.3,
            "count": 48
           },
           {
            "bin_start": 20099684.3,
            "bin_end": 20136696.2,
            "count": 2919
           },
           {
            "bin_start": 20136696.2,
            "bin_end": 20173708.1,
            "count": 1983
           },
           {
            "bin_start": 20173708.1,
            "bin_end": 20210720,
            "count": 3681
           }
          ]
         }
        },
        {
         "name": "uf",
         "dtype": "object",
         "stats": {
          "unique_count": 4,
          "nan_count": 0,
          "categories": [
           {
            "name": "SP",
            "count": 5509
           },
           {
            "name": "RJ",
            "count": 2178
           },
           {
            "name": "2 others",
            "count": 2584
           }
          ]
         }
        },
        {
         "name": "porte_empresa",
         "dtype": "object",
         "stats": {
          "unique_count": 2,
          "nan_count": 0,
          "categories": [
           {
            "name": "Microempresa",
            "count": 10068
           },
           {
            "name": "Empresa de Pequeno Porte",
            "count": 203
           }
          ]
         }
        },
        {
         "name": "Data_Situação_Cadastral",
         "dtype": "int64",
         "stats": {
          "unique_count": 26,
          "nan_count": 0,
          "min": "1995",
          "max": "2022",
          "histogram": [
           {
            "bin_start": 1995,
            "bin_end": 1997.7,
            "count": 2
           },
           {
            "bin_start": 1997.7,
            "bin_end": 2000.4,
            "count": 10
           },
           {
            "bin_start": 2000.4,
            "bin_end": 2003.1,
            "count": 48
           },
           {
            "bin_start": 2003.1,
            "bin_end": 2005.8,
            "count": 307
           },
           {
            "bin_start": 2005.8,
            "bin_end": 2008.5,
            "count": 236
           },
           {
            "bin_start": 2008.5,
            "bin_end": 2011.2,
            "count": 129
           },
           {
            "bin_start": 2011.2,
            "bin_end": 2013.9,
            "count": 928
           },
           {
            "bin_start": 2013.9,
            "bin_end": 2016.6,
            "count": 1503
           },
           {
            "bin_start": 2016.6,
            "bin_end": 2019.3,
            "count": 2046
           },
           {
            "bin_start": 2019.3,
            "bin_end": 2022,
            "count": 5062
           }
          ]
         }
        },
        {
         "name": "Data_Início_Atividade",
         "dtype": "int64",
         "stats": {
          "unique_count": 28,
          "nan_count": 0,
          "min": "1984",
          "max": "2021",
          "histogram": [
           {
            "bin_start": 1984,
            "bin_end": 1987.7,
            "count": 1
           },
           {
            "bin_start": 1987.7,
            "bin_end": 1991.4,
            "count": 0
           },
           {
            "bin_start": 1991.4,
            "bin_end": 1995.1,
            "count": 698
           },
           {
            "bin_start": 1995.1,
            "bin_end": 1998.8,
            "count": 13
           },
           {
            "bin_start": 1998.8,
            "bin_end": 2002.5,
            "count": 870
           },
           {
            "bin_start": 2002.5,
            "bin_end": 2006.2,
            "count": 58
           },
           {
            "bin_start": 2006.2,
            "bin_end": 2009.9,
            "count": 48
           },
           {
            "bin_start": 2009.9,
            "bin_end": 2013.6,
            "count": 2919
           },
           {
            "bin_start": 2013.6,
            "bin_end": 2017.3,
            "count": 1983
           },
           {
            "bin_start": 2017.3,
            "bin_end": 2021,
            "count": 3681
           }
          ]
         }
        },
        {
         "name": "Tempo_De_vida[anos]",
         "dtype": "int64"
        },
        {
         "name": "Setor",
         "dtype": "object"
        },
        {
         "name": "Empresa uma atividade",
         "dtype": "int64"
        },
        {
         "name": "Empresa executa até 2 atividades",
         "dtype": "int64"
        },
        {
         "name": "Empresa executa mais de 2 atividades",
         "dtype": "int64"
        },
        {
         "name": "Total de atividades executadas",
         "dtype": "int64"
        },
        {
         "name": "opcao_mei_final",
         "dtype": "object"
        },
        {
         "name": "_deepnote_index_column",
         "dtype": "int64"
        }
       ],
       "rows": [
        {
         "Unnamed: 0": 18,
         "cnpj_base_x": 5277396,
         "cd_situacao_cadastral": "INATIVA",
         "dt_situacao_cadastral": 20110809,
         "dt_inicio_atividade": 20090831,
         "uf": "MG",
         "porte_empresa": "Microempresa",
         "Data_Situação_Cadastral": 2011,
         "Data_Início_Atividade": 2009,
         "Tempo_De_vida[anos]": 2,
         "Setor": "ALOJAMENTO E ALIMENTAÇÃO",
         "Empresa uma atividade": 0,
         "Empresa executa até 2 atividades": 0,
         "Empresa executa mais de 2 atividades": 0,
         "Total de atividades executadas": 0,
         "opcao_mei_final": "Não",
         "_deepnote_index_column": 18
        },
        {
         "Unnamed: 0": 33,
         "cnpj_base_x": 4925226,
         "cd_situacao_cadastral": "INATIVA",
         "dt_situacao_cadastral": 20170901,
         "dt_inicio_atividade": 20090915,
         "uf": "SP",
         "porte_empresa": "Empresa de Pequeno Porte",
         "Data_Situação_Cadastral": 2017,
         "Data_Início_Atividade": 2009,
         "Tempo_De_vida[anos]": 8,
         "Setor": "ALOJAMENTO E ALIMENTAÇÃO",
         "Empresa uma atividade": 0,
         "Empresa executa até 2 atividades": 0,
         "Empresa executa mais de 2 atividades": 0,
         "Total de atividades executadas": 0,
         "opcao_mei_final": "Não",
         "_deepnote_index_column": 33
        },
        {
         "Unnamed: 0": 34,
         "cnpj_base_x": 10241401,
         "cd_situacao_cadastral": "INATIVA",
         "dt_situacao_cadastral": 20141010,
         "dt_inicio_atividade": 20080714,
         "uf": "SP",
         "porte_empresa": "Microempresa",
         "Data_Situação_Cadastral": 2014,
         "Data_Início_Atividade": 2008,
         "Tempo_De_vida[anos]": 6,
         "Setor": "ALOJAMENTO E ALIMENTAÇÃO",
         "Empresa uma atividade": 0,
         "Empresa executa até 2 atividades": 0,
         "Empresa executa mais de 2 atividades": 0,
         "Total de atividades executadas": 0,
         "opcao_mei_final": "Não",
         "_deepnote_index_column": 34
        },
        {
         "Unnamed: 0": 35,
         "cnpj_base_x": 5656427,
         "cd_situacao_cadastral": "INATIVA",
         "dt_situacao_cadastral": 20170517,
         "dt_inicio_atividade": 20090930,
         "uf": "MG",
         "porte_empresa": "Microempresa",
         "Data_Situação_Cadastral": 2017,
         "Data_Início_Atividade": 2009,
         "Tempo_De_vida[anos]": 8,
         "Setor": "ALOJAMENTO E ALIMENTAÇÃO",
         "Empresa uma atividade": 0,
         "Empresa executa até 2 atividades": 0,
         "Empresa executa mais de 2 atividades": 0,
         "Total de atividades executadas": 0,
         "opcao_mei_final": "Não",
         "_deepnote_index_column": 35
        },
        {
         "Unnamed: 0": 37,
         "cnpj_base_x": 5385507,
         "cd_situacao_cadastral": "ATIVA",
         "dt_situacao_cadastral": 20090930,
         "dt_inicio_atividade": 20090930,
         "uf": "MG",
         "porte_empresa": "Empresa de Pequeno Porte",
         "Data_Situação_Cadastral": 2009,
         "Data_Início_Atividade": 2009,
         "Tempo_De_vida[anos]": 0,
         "Setor": "ALOJAMENTO E ALIMENTAÇÃO",
         "Empresa uma atividade": 0,
         "Empresa executa até 2 atividades": 0,
         "Empresa executa mais de 2 atividades": 0,
         "Total de atividades executadas": 0,
         "opcao_mei_final": "Não",
         "_deepnote_index_column": 37
        },
        {
         "Unnamed: 0": 38,
         "cnpj_base_x": 5385507,
         "cd_situacao_cadastral": "ATIVA",
         "dt_situacao_cadastral": 20090930,
         "dt_inicio_atividade": 20090930,
         "uf": "MG",
         "porte_empresa": "Empresa de Pequeno Porte",
         "Data_Situação_Cadastral": 2009,
         "Data_Início_Atividade": 2009,
         "Tempo_De_vida[anos]": 0,
         "Setor": "ALOJAMENTO E ALIMENTAÇÃO",
         "Empresa uma atividade": 0,
         "Empresa executa até 2 atividades": 0,
         "Empresa executa mais de 2 atividades": 0,
         "Total de atividades executadas": 0,
         "opcao_mei_final": "Não",
         "_deepnote_index_column": 38
        },
        {
         "Unnamed: 0": 41,
         "cnpj_base_x": 9569142,
         "cd_situacao_cadastral": "INATIVA",
         "dt_situacao_cadastral": 20181024,
         "dt_inicio_atividade": 20090921,
         "uf": "ES",
         "porte_empresa": "Microempresa",
         "Data_Situação_Cadastral": 2018,
         "Data_Início_Atividade": 2009,
         "Tempo_De_vida[anos]": 9,
         "Setor": "ALOJAMENTO E ALIMENTAÇÃO",
         "Empresa uma atividade": 1,
         "Empresa executa até 2 atividades": 0,
         "Empresa executa mais de 2 atividades": 0,
         "Total de atividades executadas": 1,
         "opcao_mei_final": "Não",
         "_deepnote_index_column": 41
        },
        {
         "Unnamed: 0": 91,
         "cnpj_base_x": 9453858,
         "cd_situacao_cadastral": "INATIVA",
         "dt_situacao_cadastral": 20111006,
         "dt_inicio_atividade": 20090818,
         "uf": "SP",
         "porte_empresa": "Microempresa",
         "Data_Situação_Cadastral": 2011,
         "Data_Início_Atividade": 2009,
         "Tempo_De_vida[anos]": 2,
         "Setor": "ALOJAMENTO E ALIMENTAÇÃO",
         "Empresa uma atividade": 0,
         "Empresa executa até 2 atividades": 0,
         "Empresa executa mais de 2 atividades": 0,
         "Total de atividades executadas": 0,
         "opcao_mei_final": "Não",
         "_deepnote_index_column": 91
        },
        {
         "Unnamed: 0": 98,
         "cnpj_base_x": 10214462,
         "cd_situacao_cadastral": "INATIVA",
         "dt_situacao_cadastral": 20090908,
         "dt_inicio_atividade": 20080714,
         "uf": "SP",
         "porte_empresa": "Microempresa",
         "Data_Situação_Cadastral": 2009,
         "Data_Início_Atividade": 2008,
         "Tempo_De_vida[anos]": 1,
         "Setor": "ALOJAMENTO E ALIMENTAÇÃO",
         "Empresa uma atividade": 0,
         "Empresa executa até 2 atividades": 0,
         "Empresa executa mais de 2 atividades": 0,
         "Total de atividades executadas": 0,
         "opcao_mei_final": "Não",
         "_deepnote_index_column": 98
        },
        {
         "Unnamed: 0": 118,
         "cnpj_base_x": 9587913,
         "cd_situacao_cadastral": "INATIVA",
         "dt_situacao_cadastral": 20091118,
         "dt_inicio_atividade": 20080528,
         "uf": "ES",
         "porte_empresa": "Microempresa",
         "Data_Situação_Cadastral": 2009,
         "Data_Início_Atividade": 2008,
         "Tempo_De_vida[anos]": 1,
         "Setor": "ALOJAMENTO E ALIMENTAÇÃO",
         "Empresa uma atividade": 1,
         "Empresa executa até 2 atividades": 0,
         "Empresa executa mais de 2 atividades": 0,
         "Total de atividades executadas": 1,
         "opcao_mei_final": "Não",
         "_deepnote_index_column": 118
        }
       ]
      },
      "text/plain": "       Unnamed: 0  cnpj_base_x cd_situacao_cadastral  dt_situacao_cadastral  \\\n0               0      5703307               INATIVA               20130703   \n1               1      9477554               INATIVA               20181016   \n2               2      9387387               INATIVA               20140325   \n3               3      9685392               INATIVA               20211123   \n4               4      9499019                 ATIVA               20080402   \n...           ...          ...                   ...                    ...   \n96957       96957     19093713                 ATIVA               20131018   \n96958       96958     19093760               INATIVA               20180201   \n96959       96959     19093760               INATIVA               20180201   \n96960       96960     19093797                 ATIVA               20131018   \n96961       96961     19093797                 ATIVA               20131018   \n\n       dt_inicio_atividade  uf             porte_empresa  \\\n0               20090901.0  SP              Microempresa   \n1               20080331.0  SP              Microempresa   \n2               20090908.0  SP              Microempresa   \n3               20080603.0  SP              Microempresa   \n4               20080402.0  SP  Empresa de Pequeno Porte   \n...                    ...  ..                       ...   \n96957           20131018.0  RJ              Microempresa   \n96958           20131018.0  SP              Microempresa   \n96959           20131018.0  SP              Microempresa   \n96960           20131018.0  SP              Microempresa   \n96961           20131018.0  SP              Microempresa   \n\n       Data_Situação_Cadastral  Data_Início_Atividade  Tempo_De_vida[anos]  \\\n0                         2013                   2009                    4   \n1                         2018                   2008                   10   \n2                         2014                   2009                    5   \n3                         2021                   2008                   13   \n4                         2008                   2008                    0   \n...                        ...                    ...                  ...   \n96957                     2013                   2013                    0   \n96958                     2018                   2013                    5   \n96959                     2018                   2013                    5   \n96960                     2013                   2013                    0   \n96961                     2013                   2013                    0   \n\n                            Setor  Empresa uma atividade  \\\n0                        COMÉRCIO                      1   \n1                          OUTRAS                      0   \n2                        COMÉRCIO                      1   \n3                        COMÉRCIO                      1   \n4      ATIVIDADES ADMINISTRATIVAS                      1   \n...                           ...                    ...   \n96957                    EDUCACAO                      0   \n96958  ATIVIDADES ADMINISTRATIVAS                      1   \n96959  ATIVIDADES ADMINISTRATIVAS                      1   \n96960                      OUTRAS                      1   \n96961                      OUTRAS                      1   \n\n       Empresa executa até 2 atividades  Empresa executa mais de 2 atividades  \\\n0                                     1                                     0   \n1                                     0                                     0   \n2                                     1                                     1   \n3                                     1                                     1   \n4                                     1                                     1   \n...                                 ...                                   ...   \n96957                                 0                                     0   \n96958                                 0                                     0   \n96959                                 0                                     0   \n96960                                 1                                     1   \n96961                                 1                                     1   \n\n       Total de atividades executadas opcao_mei_final  \n0                                   2             Não  \n1                                   0             Não  \n2                                   3             Não  \n3                                   3             Não  \n4                                   3             Não  \n...                               ...             ...  \n96957                               0             Sim  \n96958                               1             Não  \n96959                               1             Não  \n96960                               3             Não  \n96961                               3             Não  \n\n[96962 rows x 16 columns]",
      "text/html": "<div>\n<style scoped>\n    .dataframe tbody tr th:only-of-type {\n        vertical-align: middle;\n    }\n\n    .dataframe tbody tr th {\n        vertical-align: top;\n    }\n\n    .dataframe thead th {\n        text-align: right;\n    }\n</style>\n<table border=\"1\" class=\"dataframe\">\n  <thead>\n    <tr style=\"text-align: right;\">\n      <th></th>\n      <th>Unnamed: 0</th>\n      <th>cnpj_base_x</th>\n      <th>cd_situacao_cadastral</th>\n      <th>dt_situacao_cadastral</th>\n      <th>dt_inicio_atividade</th>\n      <th>uf</th>\n      <th>porte_empresa</th>\n      <th>Data_Situação_Cadastral</th>\n      <th>Data_Início_Atividade</th>\n      <th>Tempo_De_vida[anos]</th>\n      <th>Setor</th>\n      <th>Empresa uma atividade</th>\n      <th>Empresa executa até 2 atividades</th>\n      <th>Empresa executa mais de 2 atividades</th>\n      <th>Total de atividades executadas</th>\n      <th>opcao_mei_final</th>\n    </tr>\n  </thead>\n  <tbody>\n    <tr>\n      <th>0</th>\n      <td>0</td>\n      <td>5703307</td>\n      <td>INATIVA</td>\n      <td>20130703</td>\n      <td>20090901.0</td>\n      <td>SP</td>\n      <td>Microempresa</td>\n      <td>2013</td>\n      <td>2009</td>\n      <td>4</td>\n      <td>COMÉRCIO</td>\n      <td>1</td>\n      <td>1</td>\n      <td>0</td>\n      <td>2</td>\n      <td>Não</td>\n    </tr>\n    <tr>\n      <th>1</th>\n      <td>1</td>\n      <td>9477554</td>\n      <td>INATIVA</td>\n      <td>20181016</td>\n      <td>20080331.0</td>\n      <td>SP</td>\n      <td>Microempresa</td>\n      <td>2018</td>\n      <td>2008</td>\n      <td>10</td>\n      <td>OUTRAS</td>\n      <td>0</td>\n      <td>0</td>\n      <td>0</td>\n      <td>0</td>\n      <td>Não</td>\n    </tr>\n    <tr>\n      <th>2</th>\n      <td>2</td>\n      <td>9387387</td>\n      <td>INATIVA</td>\n      <td>20140325</td>\n      <td>20090908.0</td>\n      <td>SP</td>\n      <td>Microempresa</td>\n      <td>2014</td>\n      <td>2009</td>\n      <td>5</td>\n      <td>COMÉRCIO</td>\n      <td>1</td>\n      <td>1</td>\n      <td>1</td>\n      <td>3</td>\n      <td>Não</td>\n    </tr>\n    <tr>\n      <th>3</th>\n      <td>3</td>\n      <td>9685392</td>\n      <td>INATIVA</td>\n      <td>20211123</td>\n      <td>20080603.0</td>\n      <td>SP</td>\n      <td>Microempresa</td>\n      <td>2021</td>\n      <td>2008</td>\n      <td>13</td>\n      <td>COMÉRCIO</td>\n      <td>1</td>\n      <td>1</td>\n      <td>1</td>\n      <td>3</td>\n      <td>Não</td>\n    </tr>\n    <tr>\n      <th>4</th>\n      <td>4</td>\n      <td>9499019</td>\n      <td>ATIVA</td>\n      <td>20080402</td>\n      <td>20080402.0</td>\n      <td>SP</td>\n      <td>Empresa de Pequeno Porte</td>\n      <td>2008</td>\n      <td>2008</td>\n      <td>0</td>\n      <td>ATIVIDADES ADMINISTRATIVAS</td>\n      <td>1</td>\n      <td>1</td>\n      <td>1</td>\n      <td>3</td>\n      <td>Não</td>\n    </tr>\n    <tr>\n      <th>...</th>\n      <td>...</td>\n      <td>...</td>\n      <td>...</td>\n      <td>...</td>\n      <td>...</td>\n      <td>...</td>\n      <td>...</td>\n      <td>...</td>\n      <td>...</td>\n      <td>...</td>\n      <td>...</td>\n      <td>...</td>\n      <td>...</td>\n      <td>...</td>\n      <td>...</td>\n      <td>...</td>\n    </tr>\n    <tr>\n      <th>96957</th>\n      <td>96957</td>\n      <td>19093713</td>\n      <td>ATIVA</td>\n      <td>20131018</td>\n      <td>20131018.0</td>\n      <td>RJ</td>\n      <td>Microempresa</td>\n      <td>2013</td>\n      <td>2013</td>\n      <td>0</td>\n      <td>EDUCACAO</td>\n      <td>0</td>\n      <td>0</td>\n      <td>0</td>\n      <td>0</td>\n      <td>Sim</td>\n    </tr>\n    <tr>\n      <th>96958</th>\n      <td>96958</td>\n      <td>19093760</td>\n      <td>INATIVA</td>\n      <td>20180201</td>\n      <td>20131018.0</td>\n      <td>SP</td>\n      <td>Microempresa</td>\n      <td>2018</td>\n      <td>2013</td>\n      <td>5</td>\n      <td>ATIVIDADES ADMINISTRATIVAS</td>\n      <td>1</td>\n      <td>0</td>\n      <td>0</td>\n      <td>1</td>\n      <td>Não</td>\n    </tr>\n    <tr>\n      <th>96959</th>\n      <td>96959</td>\n      <td>19093760</td>\n      <td>INATIVA</td>\n      <td>20180201</td>\n      <td>20131018.0</td>\n      <td>SP</td>\n      <td>Microempresa</td>\n      <td>2018</td>\n      <td>2013</td>\n      <td>5</td>\n      <td>ATIVIDADES ADMINISTRATIVAS</td>\n      <td>1</td>\n      <td>0</td>\n      <td>0</td>\n      <td>1</td>\n      <td>Não</td>\n    </tr>\n    <tr>\n      <th>96960</th>\n      <td>96960</td>\n      <td>19093797</td>\n      <td>ATIVA</td>\n      <td>20131018</td>\n      <td>20131018.0</td>\n      <td>SP</td>\n      <td>Microempresa</td>\n      <td>2013</td>\n      <td>2013</td>\n      <td>0</td>\n      <td>OUTRAS</td>\n      <td>1</td>\n      <td>1</td>\n      <td>1</td>\n      <td>3</td>\n      <td>Não</td>\n    </tr>\n    <tr>\n      <th>96961</th>\n      <td>96961</td>\n      <td>19093797</td>\n      <td>ATIVA</td>\n      <td>20131018</td>\n      <td>20131018.0</td>\n      <td>SP</td>\n      <td>Microempresa</td>\n      <td>2013</td>\n      <td>2013</td>\n      <td>0</td>\n      <td>OUTRAS</td>\n      <td>1</td>\n      <td>1</td>\n      <td>1</td>\n      <td>3</td>\n      <td>Não</td>\n    </tr>\n  </tbody>\n</table>\n<p>96962 rows × 16 columns</p>\n</div>"
     },
     "metadata": {}
    }
   ]
  },
  {
   "cell_type": "markdown",
   "source": "### Distribuição de Anos de Vida das Empresas por Unidade da Federação no Sudeste",
   "metadata": {
    "cell_id": "73de8639-9e38-4a4c-a4b6-c41ae5b68f39",
    "tags": [],
    "deepnote_app_coordinates": {
     "x": 0,
     "y": 66,
     "w": 12,
     "h": 5
    },
    "deepnote_cell_type": "markdown"
   }
  },
  {
   "cell_type": "code",
   "metadata": {
    "cell_id": "09ab5642-5f42-4a25-884e-f54357aadb14",
    "tags": [],
    "deepnote_to_be_reexecuted": false,
    "source_hash": "ac3b7d83",
    "execution_start": 1643927434229,
    "execution_millis": 2892,
    "deepnote_app_coordinates": {
     "x": 0,
     "y": 12,
     "w": 12,
     "h": 5
    },
    "deepnote_cell_type": "code",
    "deepnote_output_heights": [
     21.1875,
     159.328125
    ]
   },
   "source": "sns.displot(x= df_final[\"Tempo_De_vida[anos]\"],\n            data = df_final,\n            col= df_final[\"uf\"],\n            hue= df_final[\"uf\"],\n            kind= \"hist\", \n            kde= True,\n            bins = 16\n)",
   "execution_count": null,
   "outputs": [
    {
     "output_type": "execute_result",
     "execution_count": 25,
     "data": {
      "text/plain": "<seaborn.axisgrid.FacetGrid at 0x7f361015d4d0>"
     },
     "metadata": {}
    },
    {
     "data": {
      "text/plain": "<Figure size 1492.38x360 with 4 Axes>",
      "image/png": "[encoded data removed]"
     },
     "metadata": {
      "needs_background": "light",
      "image/png": {
       "width": 1490,
       "height": 352
      }
     },
     "output_type": "display_data"
    }
   ]
  },
  {
   "cell_type": "markdown",
   "source": "### Análise de Anos de Vida das Empresas no Setor Comércio",
   "metadata": {
    "cell_id": "e01b0ff1-bd16-44ee-ad4b-da291be8cdec",
    "tags": [],
    "deepnote_app_coordinates": {
     "x": 0,
     "y": 78,
     "w": 12,
     "h": 5
    },
    "deepnote_cell_type": "markdown"
   }
  },
  {
   "cell_type": "code",
   "metadata": {
    "cell_id": "a6a18f5c-1223-4f96-95e6-e4712751fc38",
    "tags": [],
    "deepnote_to_be_reexecuted": false,
    "source_hash": "ad71d59d",
    "execution_start": 1643927332009,
    "execution_millis": 2115,
    "deepnote_app_coordinates": {
     "x": 0,
     "y": 18,
     "w": 12,
     "h": 5
    },
    "deepnote_cell_type": "code",
    "deepnote_output_heights": [
     21.1875,
     159.328125
    ]
   },
   "source": "dados = df_final.query(\"Setor == 'COMÉRCIO'\")\n\nsns.displot(x= dados[\"Tempo_De_vida[anos]\"],\n            data = dados,\n            col= dados[\"uf\"],\n            hue= dados[\"uf\"],\n            kind= \"hist\",\n            kde= True,\n            bins = 16\n)",
   "execution_count": null,
   "outputs": [
    {
     "output_type": "execute_result",
     "execution_count": 6,
     "data": {
      "text/plain": "<seaborn.axisgrid.FacetGrid at 0x7f3632345f90>"
     },
     "metadata": {}
    },
    {
     "data": {
      "text/plain": "<Figure size 1492.38x360 with 4 Axes>",
      "image/png": "[encoded data removed]"
     },
     "metadata": {
      "needs_background": "light",
      "image/png": {
       "width": 1490,
       "height": 352
      }
     },
     "output_type": "display_data"
    }
   ]
  },
  {
   "cell_type": "markdown",
   "source": "### Análise de Anos de Vida das Empresas no Setor de Alojamento e Alimentação",
   "metadata": {
    "cell_id": "d8e671aa-02cd-4f86-baaf-888ff9a53892",
    "tags": [],
    "deepnote_app_coordinates": {
     "x": 0,
     "y": 84,
     "w": 12,
     "h": 5
    },
    "deepnote_cell_type": "markdown"
   }
  },
  {
   "cell_type": "code",
   "metadata": {
    "cell_id": "87037c52-f092-400d-8b35-b4d46e36630f",
    "tags": [],
    "deepnote_to_be_reexecuted": false,
    "source_hash": "b8e2b43e",
    "execution_start": 1644017564600,
    "execution_millis": 461,
    "deepnote_app_coordinates": {
     "x": 0,
     "y": 24,
     "w": 12,
     "h": 5
    },
    "deepnote_cell_type": "code",
    "deepnote_output_heights": [
     21.1875,
     219.890625
    ]
   },
   "source": "dados1 = df_final.query(\"Setor == 'ALOJAMENTO E ALIMENTAÇÃO'\")\n\nsns.displot(x= dados1[\"Tempo_De_vida[anos]\"],\n            data = dados1,\n            col= dados1[\"uf\"],\n            hue= dados1[\"uf\"],\n            kind= \"hist\",\n            bins = 16\n)",
   "execution_count": null,
   "outputs": [
    {
     "output_type": "error",
     "ename": "NameError",
     "evalue": "name 'df_final' is not defined",
     "traceback": [
      "\u001b[0;31m---------------------------------------------------------------------------\u001b[0m",
      "\u001b[0;31mNameError\u001b[0m                                 Traceback (most recent call last)",
      "\u001b[0;32m<ipython-input-1-ce48d333052f>\u001b[0m in \u001b[0;36m<module>\u001b[0;34m\u001b[0m\n\u001b[0;32m----> 1\u001b[0;31m \u001b[0mdados1\u001b[0m \u001b[0;34m=\u001b[0m \u001b[0mdf_final\u001b[0m\u001b[0;34m.\u001b[0m\u001b[0mquery\u001b[0m\u001b[0;34m(\u001b[0m\u001b[0;34m\"Setor == 'ALOJAMENTO E ALIMENTAÇÃO'\"\u001b[0m\u001b[0;34m)\u001b[0m\u001b[0;34m\u001b[0m\u001b[0;34m\u001b[0m\u001b[0m\n\u001b[0m\u001b[1;32m      2\u001b[0m \u001b[0;34m\u001b[0m\u001b[0m\n\u001b[1;32m      3\u001b[0m sns.displot(x= dados1[\"Tempo_De_vida[anos]\"],\n\u001b[1;32m      4\u001b[0m             \u001b[0mdata\u001b[0m \u001b[0;34m=\u001b[0m \u001b[0mdados1\u001b[0m\u001b[0;34m,\u001b[0m\u001b[0;34m\u001b[0m\u001b[0;34m\u001b[0m\u001b[0m\n\u001b[1;32m      5\u001b[0m             \u001b[0mcol\u001b[0m\u001b[0;34m=\u001b[0m \u001b[0mdados1\u001b[0m\u001b[0;34m[\u001b[0m\u001b[0;34m\"uf\"\u001b[0m\u001b[0;34m]\u001b[0m\u001b[0;34m,\u001b[0m\u001b[0;34m\u001b[0m\u001b[0;34m\u001b[0m\u001b[0m\n",
      "\u001b[0;31mNameError\u001b[0m: name 'df_final' is not defined"
     ]
    }
   ]
  },
  {
   "cell_type": "markdown",
   "source": "### Análise de Anos de Vida das Empresas no Setor de Indústria de Transformação",
   "metadata": {
    "cell_id": "7a1c0578-0c30-45da-ae28-554955ca6435",
    "tags": [],
    "deepnote_app_coordinates": {
     "x": 0,
     "y": 132,
     "w": 12,
     "h": 5
    },
    "deepnote_cell_type": "markdown"
   }
  },
  {
   "cell_type": "code",
   "metadata": {
    "cell_id": "941254e1-db57-4f75-b3d7-ad0b4e5cd32e",
    "tags": [],
    "deepnote_to_be_reexecuted": false,
    "source_hash": "6784a9b5",
    "execution_start": 1643927336264,
    "execution_millis": 1823,
    "deepnote_app_coordinates": {
     "x": 0,
     "y": 126,
     "w": 12,
     "h": 5
    },
    "deepnote_cell_type": "code",
    "deepnote_output_heights": [
     21.1875,
     159.328125
    ]
   },
   "source": "dados2 = df_final.query(\"Setor == 'IND. TRANSFORMAÇÃO'\")\n\nsns.displot(x= dados2[\"Tempo_De_vida[anos]\"],\n            data = dados2,\n            col= dados2[\"uf\"],\n            hue= dados2[\"uf\"],\n            kind= \"hist\",\n            kde= True,\n            bins = 16\n)",
   "execution_count": null,
   "outputs": [
    {
     "output_type": "execute_result",
     "execution_count": 8,
     "data": {
      "text/plain": "<seaborn.axisgrid.FacetGrid at 0x7f3610b66310>"
     },
     "metadata": {}
    },
    {
     "data": {
      "text/plain": "<Figure size 1492.38x360 with 4 Axes>",
      "image/png": "[encoded data removed]"
     },
     "metadata": {
      "needs_background": "light",
      "image/png": {
       "width": 1490,
       "height": 352
      }
     },
     "output_type": "display_data"
    }
   ]
  },
  {
   "cell_type": "markdown",
   "source": "### Situação Cadastral no Sudeste",
   "metadata": {
    "cell_id": "6e11e71d-8f0c-4813-8e65-6dfb3eec1902",
    "tags": [],
    "deepnote_to_be_reexecuted": false,
    "source_hash": "584452b1",
    "execution_start": 1643848418970,
    "execution_millis": 2,
    "deepnote_app_coordinates": {
     "x": 0,
     "y": 96,
     "w": 12,
     "h": 5
    },
    "deepnote_cell_type": "markdown"
   }
  },
  {
   "cell_type": "code",
   "metadata": {
    "cell_id": "8db591c9-e673-4e2f-9f8d-4d726b0e158c",
    "tags": [],
    "deepnote_to_be_reexecuted": false,
    "source_hash": "82478263",
    "execution_start": 1643927338108,
    "execution_millis": 458,
    "deepnote_app_coordinates": {
     "x": 0,
     "y": 42,
     "w": 12,
     "h": 5
    },
    "deepnote_cell_type": "code",
    "deepnote_output_heights": [
     21.1875,
     294.15625
    ]
   },
   "source": "plt.figure(figsize=(14,6))\nsns.countplot(x= df_final[\"cd_situacao_cadastral\"],hue= df_final[\"uf\"]\n)\n",
   "execution_count": null,
   "outputs": [
    {
     "output_type": "execute_result",
     "execution_count": 9,
     "data": {
      "text/plain": "<AxesSubplot:xlabel='cd_situacao_cadastral', ylabel='count'>"
     },
     "metadata": {}
    },
    {
     "data": {
      "text/plain": "<Figure size 1008x432 with 1 Axes>",
      "image/png": "[encoded data removed]"
     },
     "metadata": {
      "needs_background": "light",
      "image/png": {
       "width": 848,
       "height": 372
      }
     },
     "output_type": "display_data"
    }
   ]
  },
  {
   "cell_type": "markdown",
   "source": "### Situação das empresas no Setor do Comércio",
   "metadata": {
    "cell_id": "aee9424d-a9ad-4281-9e5d-4459117c5db2",
    "tags": [],
    "deepnote_app_coordinates": {
     "x": 0,
     "y": 138,
     "w": 12,
     "h": 5
    },
    "deepnote_cell_type": "markdown"
   }
  },
  {
   "cell_type": "code",
   "metadata": {
    "cell_id": "ba1dc08a-1c1d-4245-8f54-570983bf8f86",
    "tags": [],
    "deepnote_to_be_reexecuted": false,
    "source_hash": "896ae2e2",
    "execution_start": 1643927338576,
    "execution_millis": 575,
    "deepnote_app_coordinates": {
     "x": 0,
     "y": 108,
     "w": 12,
     "h": 5
    },
    "deepnote_cell_type": "code",
    "deepnote_output_heights": [
     21.1875,
     294.5
    ]
   },
   "source": "plt.figure(figsize=(14,6))\nsns.countplot(x= dados[\"cd_situacao_cadastral\"],\n            data = dados,\n            hue= dados[\"uf\"],\n)",
   "execution_count": null,
   "outputs": [
    {
     "output_type": "execute_result",
     "execution_count": 10,
     "data": {
      "text/plain": "<AxesSubplot:xlabel='cd_situacao_cadastral', ylabel='count'>"
     },
     "metadata": {}
    },
    {
     "data": {
      "text/plain": "<Figure size 1008x432 with 1 Axes>",
      "image/png": "[encoded data removed]"
     },
     "metadata": {
      "needs_background": "light",
      "image/png": {
       "width": 847,
       "height": 372
      }
     },
     "output_type": "display_data"
    }
   ]
  },
  {
   "cell_type": "markdown",
   "source": "### Situação empresas no Setor de Alojamento e Alimentação",
   "metadata": {
    "cell_id": "68871d10-0574-4cda-8efa-fa7f07ffa1f3",
    "tags": [],
    "deepnote_app_coordinates": {
     "x": 0,
     "y": 144,
     "w": 12,
     "h": 5
    },
    "deepnote_cell_type": "markdown"
   }
  },
  {
   "cell_type": "code",
   "metadata": {
    "cell_id": "cf276c5b-57bb-4016-8cb2-ba9dd3dc7d47",
    "tags": [],
    "deepnote_to_be_reexecuted": false,
    "source_hash": "734a6a15",
    "execution_start": 1643927339060,
    "execution_millis": 342,
    "deepnote_app_coordinates": {
     "x": 0,
     "y": 114,
     "w": 12,
     "h": 5
    },
    "deepnote_cell_type": "code",
    "deepnote_output_heights": [
     21.1875,
     297.375
    ]
   },
   "source": "plt.figure(figsize=(14,6))\nsns.countplot(x= dados1[\"cd_situacao_cadastral\"],\n            data = dados1,\n            hue= dados1[\"uf\"],\n)",
   "execution_count": null,
   "outputs": [
    {
     "output_type": "execute_result",
     "execution_count": 11,
     "data": {
      "text/plain": "<AxesSubplot:xlabel='cd_situacao_cadastral', ylabel='count'>"
     },
     "metadata": {}
    },
    {
     "data": {
      "text/plain": "<Figure size 1008x432 with 1 Axes>",
      "image/png": "[encoded data removed]"
     },
     "metadata": {
      "needs_background": "light",
      "image/png": {
       "width": 841,
       "height": 373
      }
     },
     "output_type": "display_data"
    }
   ]
  },
  {
   "cell_type": "markdown",
   "source": "### Situação empresas no Setor de Indústrias de Transformação",
   "metadata": {
    "cell_id": "93ed535c-95f5-4c72-aef7-13c15354eda4",
    "tags": [],
    "deepnote_app_coordinates": {
     "x": 0,
     "y": 162,
     "w": 12,
     "h": 5
    },
    "deepnote_cell_type": "markdown"
   }
  },
  {
   "cell_type": "code",
   "metadata": {
    "cell_id": "34d1672f-4760-47ed-a94e-c9b39a276757",
    "tags": [],
    "deepnote_to_be_reexecuted": false,
    "source_hash": "6643ea53",
    "execution_start": 1643927339440,
    "execution_millis": 321,
    "deepnote_app_coordinates": {
     "x": 0,
     "y": 120,
     "w": 12,
     "h": 5
    },
    "deepnote_cell_type": "code",
    "deepnote_output_heights": [
     21.1875,
     296.578125
    ]
   },
   "source": "plt.figure(figsize=(14,6))\nsns.countplot(x= dados2[\"cd_situacao_cadastral\"],\n            data = dados2,\n            hue= dados2[\"uf\"],\n)",
   "execution_count": null,
   "outputs": [
    {
     "output_type": "execute_result",
     "execution_count": 12,
     "data": {
      "text/plain": "<AxesSubplot:xlabel='cd_situacao_cadastral', ylabel='count'>"
     },
     "metadata": {}
    },
    {
     "data": {
      "text/plain": "<Figure size 1008x432 with 1 Axes>",
      "image/png": "[encoded data removed]"
     },
     "metadata": {
      "needs_background": "light",
      "image/png": {
       "width": 841,
       "height": 372
      }
     },
     "output_type": "display_data"
    }
   ]
  },
  {
   "cell_type": "markdown",
   "source": "### Distribuição das Empresas conforme o seu porte",
   "metadata": {
    "cell_id": "ee515acd-3d99-4b94-8655-1fbe3027530c",
    "tags": [],
    "deepnote_app_coordinates": {
     "x": 0,
     "y": 180,
     "w": 12,
     "h": 5
    },
    "deepnote_cell_type": "markdown"
   }
  },
  {
   "cell_type": "code",
   "metadata": {
    "cell_id": "ab5ea1a8-091d-404d-8f4a-62ec157220bd",
    "tags": [],
    "deepnote_to_be_reexecuted": false,
    "source_hash": "bac1c1b9",
    "execution_start": 1643927339805,
    "execution_millis": 492,
    "deepnote_app_coordinates": {
     "x": 0,
     "y": 48,
     "w": 12,
     "h": 5
    },
    "deepnote_cell_type": "code",
    "deepnote_output_heights": [
     21.1875,
     293.71875
    ]
   },
   "source": "plt.figure(figsize=(14,6))\nsns.countplot(x= df_final[\"porte_empresa\"],\n            data = df_final,\n            hue= df_final[\"uf\"],\n)\n",
   "execution_count": null,
   "outputs": [
    {
     "output_type": "execute_result",
     "execution_count": 13,
     "data": {
      "text/plain": "<AxesSubplot:xlabel='porte_empresa', ylabel='count'>"
     },
     "metadata": {}
    },
    {
     "data": {
      "text/plain": "<Figure size 1008x432 with 1 Axes>",
      "image/png": "[encoded data removed]"
     },
     "metadata": {
      "needs_background": "light",
      "image/png": {
       "width": 847,
       "height": 371
      }
     },
     "output_type": "display_data"
    }
   ]
  },
  {
   "cell_type": "markdown",
   "source": "### Distribuição das Empresas conforme seu porte empresas no Setor de Comércio",
   "metadata": {
    "cell_id": "af92b65e-84be-48b5-b9a1-9d791a02eb8e",
    "tags": [],
    "deepnote_to_be_reexecuted": false,
    "source_hash": "5e763d70",
    "execution_start": 1643849293857,
    "execution_millis": 2,
    "deepnote_app_coordinates": {
     "x": 0,
     "y": 198,
     "w": 12,
     "h": 5
    },
    "deepnote_cell_type": "markdown"
   }
  },
  {
   "cell_type": "code",
   "metadata": {
    "cell_id": "d2b2c78e-660f-4d3c-ae92-e2ee9046b82c",
    "tags": [],
    "deepnote_to_be_reexecuted": false,
    "source_hash": "9a467aba",
    "execution_start": 1643927340343,
    "execution_millis": 457,
    "deepnote_app_coordinates": {
     "x": 0,
     "y": 150,
     "w": 12,
     "h": 5
    },
    "deepnote_cell_type": "code",
    "deepnote_output_heights": [
     21.1875,
     293.375
    ]
   },
   "source": "plt.figure(figsize=(14,6))\nsns.countplot(x= dados[\"porte_empresa\"],\n            data = dados,\n            hue= dados[\"uf\"],\n)",
   "execution_count": null,
   "outputs": [
    {
     "output_type": "execute_result",
     "execution_count": 14,
     "data": {
      "text/plain": "<AxesSubplot:xlabel='porte_empresa', ylabel='count'>"
     },
     "metadata": {}
    },
    {
     "data": {
      "text/plain": "<Figure size 1008x432 with 1 Axes>",
      "image/png": "[encoded data removed]"
     },
     "metadata": {
      "needs_background": "light",
      "image/png": {
       "width": 848,
       "height": 371
      }
     },
     "output_type": "display_data"
    }
   ]
  },
  {
   "cell_type": "markdown",
   "source": "### Distribuição das Empresas conforme seu porte empresas no Setor de Alojamento e Alimentação",
   "metadata": {
    "cell_id": "c778452e-d16f-47ee-a11b-2e081d054a6c",
    "tags": [],
    "deepnote_app_coordinates": {
     "x": 0,
     "y": 204,
     "w": 12,
     "h": 5
    },
    "deepnote_cell_type": "markdown"
   }
  },
  {
   "cell_type": "code",
   "metadata": {
    "cell_id": "fe22ba4e-29f9-4bb5-95a2-e0348a613bd7",
    "tags": [],
    "deepnote_to_be_reexecuted": false,
    "source_hash": "aaf37bc9",
    "execution_start": 1643927340840,
    "execution_millis": 338,
    "deepnote_app_coordinates": {
     "x": 0,
     "y": 156,
     "w": 12,
     "h": 5
    },
    "deepnote_cell_type": "code",
    "deepnote_output_heights": [
     21.1875,
     295.796875
    ]
   },
   "source": "plt.figure(figsize=(14,6))\nsns.countplot(x= dados1[\"porte_empresa\"],\n            data = dados1,\n            hue= dados1[\"uf\"],\n)",
   "execution_count": null,
   "outputs": [
    {
     "output_type": "execute_result",
     "execution_count": 15,
     "data": {
      "text/plain": "<AxesSubplot:xlabel='porte_empresa', ylabel='count'>"
     },
     "metadata": {}
    },
    {
     "data": {
      "text/plain": "<Figure size 1008x432 with 1 Axes>",
      "image/png": "[encoded data removed]"
     },
     "metadata": {
      "needs_background": "light",
      "image/png": {
       "width": 841,
       "height": 371
      }
     },
     "output_type": "display_data"
    }
   ]
  },
  {
   "cell_type": "markdown",
   "source": "### Distribuição das Empresas conforme seu porte empresas no Setor de Indústria de transformação",
   "metadata": {
    "cell_id": "a0a7b1ac-55f7-45e9-b741-b472fb201713",
    "tags": [],
    "deepnote_app_coordinates": {
     "x": 0,
     "y": 210,
     "w": 12,
     "h": 5
    },
    "deepnote_cell_type": "markdown"
   }
  },
  {
   "cell_type": "code",
   "metadata": {
    "cell_id": "e7efaba9-f221-47c9-a8ce-49c86a984296",
    "tags": [],
    "deepnote_to_be_reexecuted": false,
    "source_hash": "75bdc8a3",
    "execution_start": 1643927341219,
    "execution_millis": 382,
    "deepnote_app_coordinates": {
     "x": 0,
     "y": 168,
     "w": 12,
     "h": 5
    },
    "deepnote_cell_type": "code",
    "deepnote_output_heights": [
     21.1875,
     296
    ]
   },
   "source": "plt.figure(figsize=(14,6))\nsns.countplot(x= dados2[\"porte_empresa\"],\n            data = dados2,\n            hue= dados2[\"uf\"],\n)",
   "execution_count": null,
   "outputs": [
    {
     "output_type": "execute_result",
     "execution_count": 16,
     "data": {
      "text/plain": "<AxesSubplot:xlabel='porte_empresa', ylabel='count'>"
     },
     "metadata": {}
    },
    {
     "data": {
      "text/plain": "<Figure size 1008x432 with 1 Axes>",
      "image/png": "[encoded data removed]"
     },
     "metadata": {
      "needs_background": "light",
      "image/png": {
       "width": 841,
       "height": 371
      }
     },
     "output_type": "display_data"
    }
   ]
  },
  {
   "cell_type": "markdown",
   "source": "### Análise Quantitativa de empresas optantes pelo MEI",
   "metadata": {
    "cell_id": "8bce943b-3829-4e59-9e08-7fcd677fd726",
    "tags": [],
    "deepnote_app_coordinates": {
     "x": 0,
     "y": 216,
     "w": 12,
     "h": 5
    },
    "deepnote_cell_type": "markdown"
   }
  },
  {
   "cell_type": "code",
   "metadata": {
    "cell_id": "eadcdf0d-0856-4df8-9a2b-dfab07bbfe5e",
    "tags": [],
    "deepnote_to_be_reexecuted": false,
    "source_hash": "a592ba2f",
    "execution_start": 1643927341579,
    "execution_millis": 553,
    "deepnote_app_coordinates": {
     "x": 0,
     "y": 54,
     "w": 12,
     "h": 5
    },
    "deepnote_cell_type": "code",
    "deepnote_output_heights": [
     21.1875,
     294.15625
    ]
   },
   "source": "plt.figure(figsize=(14,6))\nsns.countplot(x= df_final[\"opcao_mei_final\"],\n            data = df_final,\n            hue= df_final[\"uf\"],\n)\n",
   "execution_count": null,
   "outputs": [
    {
     "output_type": "execute_result",
     "execution_count": 17,
     "data": {
      "text/plain": "<AxesSubplot:xlabel='opcao_mei_final', ylabel='count'>"
     },
     "metadata": {}
    },
    {
     "data": {
      "text/plain": "<Figure size 1008x432 with 1 Axes>",
      "image/png": "[encoded data removed]"
     },
     "metadata": {
      "needs_background": "light",
      "image/png": {
       "width": 848,
       "height": 372
      }
     },
     "output_type": "display_data"
    }
   ]
  },
  {
   "cell_type": "markdown",
   "source": "### Análise Quantitativa de empresas optantes pelo MEI - Setor de Comércio",
   "metadata": {
    "cell_id": "bb0f2a6b-4c25-41cb-9187-587cd9c0050d",
    "tags": [],
    "deepnote_to_be_reexecuted": false,
    "source_hash": "df68ad89",
    "execution_start": 1643849432970,
    "execution_millis": 1,
    "deepnote_app_coordinates": {
     "x": 0,
     "y": 222,
     "w": 12,
     "h": 5
    },
    "deepnote_cell_type": "markdown"
   }
  },
  {
   "cell_type": "code",
   "metadata": {
    "cell_id": "1e1afe65-b97c-4bc8-9391-7c02084c37cd",
    "tags": [],
    "deepnote_to_be_reexecuted": false,
    "source_hash": "3891fe3f",
    "execution_start": 1643927342149,
    "execution_millis": 426,
    "deepnote_app_coordinates": {
     "x": 0,
     "y": 174,
     "w": 12,
     "h": 5
    },
    "deepnote_cell_type": "code",
    "deepnote_output_heights": [
     null,
     294
    ]
   },
   "source": "plt.figure(figsize=(14,6))\nsns.countplot(x= dados[\"opcao_mei_final\"],\n            data = dados,\n            hue= dados[\"uf\"],\n)\n",
   "execution_count": null,
   "outputs": [
    {
     "output_type": "execute_result",
     "execution_count": 18,
     "data": {
      "text/plain": "<AxesSubplot:xlabel='opcao_mei_final', ylabel='count'>"
     },
     "metadata": {}
    },
    {
     "data": {
      "text/plain": "<Figure size 1008x432 with 1 Axes>",
      "image/png": "[encoded data removed]"
     },
     "metadata": {
      "needs_background": "light",
      "image/png": {
       "width": 848,
       "height": 372
      }
     },
     "output_type": "display_data"
    }
   ]
  },
  {
   "cell_type": "markdown",
   "source": "### Análise Quantitativa de empresas optantes pelo MEI - Setor de Alojamento e Alimentação",
   "metadata": {
    "cell_id": "b28ca5f8-a294-42d2-b8c8-45be9628c6be",
    "tags": [],
    "deepnote_app_coordinates": {
     "x": 0,
     "y": 228,
     "w": 12,
     "h": 5
    },
    "deepnote_cell_type": "markdown"
   }
  },
  {
   "cell_type": "code",
   "metadata": {
    "cell_id": "41ff9547-0d4f-4a87-ac2e-2dc3c90062de",
    "tags": [],
    "deepnote_to_be_reexecuted": false,
    "source_hash": "7d2394cb",
    "execution_start": 1643927342592,
    "execution_millis": 485,
    "deepnote_app_coordinates": {
     "x": 0,
     "y": 186,
     "w": 12,
     "h": 5
    },
    "deepnote_cell_type": "code",
    "deepnote_output_heights": [
     21.1875,
     374
    ]
   },
   "source": "plt.figure(figsize=(14,6))\nsns.countplot(x= dados1[\"opcao_mei_final\"],\n            data = dados1,\n            hue= dados1[\"uf\"],\n)",
   "execution_count": null,
   "outputs": [
    {
     "output_type": "execute_result",
     "execution_count": 19,
     "data": {
      "text/plain": "<AxesSubplot:xlabel='opcao_mei_final', ylabel='count'>"
     },
     "metadata": {}
    },
    {
     "data": {
      "text/plain": "<Figure size 1008x432 with 1 Axes>",
      "image/png": "[encoded data removed]"
     },
     "metadata": {
      "needs_background": "light",
      "image/png": {
       "width": 841,
       "height": 372
      }
     },
     "output_type": "display_data"
    }
   ]
  },
  {
   "cell_type": "markdown",
   "source": "### Análise Quantitativa de empresas optantes pelo MEI - Setor de Indústria de Transformação",
   "metadata": {
    "cell_id": "bc21af57-b8e4-40d8-a7de-7e09fac47c4c",
    "tags": [],
    "deepnote_app_coordinates": {
     "x": 0,
     "y": 234,
     "w": 12,
     "h": 5
    },
    "deepnote_cell_type": "markdown"
   }
  },
  {
   "cell_type": "code",
   "metadata": {
    "cell_id": "56cba08f-3b7e-417f-86e6-497569ecca1c",
    "tags": [],
    "deepnote_to_be_reexecuted": false,
    "source_hash": "db557b11",
    "execution_start": 1643927343105,
    "execution_millis": 334,
    "deepnote_app_coordinates": {
     "x": 0,
     "y": 192,
     "w": 12,
     "h": 5
    },
    "deepnote_cell_type": "code",
    "deepnote_output_heights": [
     21,
     374
    ]
   },
   "source": "plt.figure(figsize=(14,6))\nsns.countplot(x= dados2[\"opcao_mei_final\"],\n            data = dados2,\n            hue= dados2[\"uf\"],\n)",
   "execution_count": null,
   "outputs": [
    {
     "output_type": "execute_result",
     "execution_count": 20,
     "data": {
      "text/plain": "<AxesSubplot:xlabel='opcao_mei_final', ylabel='count'>"
     },
     "metadata": {}
    },
    {
     "data": {
      "text/plain": "<Figure size 1008x432 with 1 Axes>",
      "image/png": "[encoded data removed]"
     },
     "metadata": {
      "needs_background": "light",
      "image/png": {
       "width": 841,
       "height": 372
      }
     },
     "output_type": "display_data"
    }
   ]
  },
  {
   "cell_type": "markdown",
   "source": "### Análise de Atividades desempenhas pelas empresas",
   "metadata": {
    "cell_id": "07619c4b-3b23-4ed5-a194-3f6fbd6d0de7",
    "tags": [],
    "deepnote_app_coordinates": {
     "x": 0,
     "y": 240,
     "w": 12,
     "h": 5
    },
    "deepnote_cell_type": "markdown"
   }
  },
  {
   "cell_type": "code",
   "metadata": {
    "cell_id": "ee403dfa-dab4-40ca-b635-1b5351ffdf6c",
    "tags": [],
    "deepnote_to_be_reexecuted": false,
    "source_hash": "ea69942c",
    "execution_start": 1643927343493,
    "execution_millis": 595,
    "deepnote_app_coordinates": {
     "x": 0,
     "y": 60,
     "w": 12,
     "h": 5
    },
    "deepnote_cell_type": "code",
    "deepnote_output_heights": [
     21.1875,
     373
    ]
   },
   "source": "plt.figure(figsize=(14,6))\nsns.countplot(x= df_final[\"Total de atividades executadas\"],\n            data = df_final,\n            hue= df_final[\"uf\"],\n)\n",
   "execution_count": null,
   "outputs": [
    {
     "output_type": "execute_result",
     "execution_count": 21,
     "data": {
      "text/plain": "<AxesSubplot:xlabel='Total de atividades executadas', ylabel='count'>"
     },
     "metadata": {}
    },
    {
     "data": {
      "text/plain": "<Figure size 1008x432 with 1 Axes>",
      "image/png": "[encoded data removed]"
     },
     "metadata": {
      "needs_background": "light",
      "image/png": {
       "width": 848,
       "height": 371
      }
     },
     "output_type": "display_data"
    }
   ]
  },
  {
   "cell_type": "markdown",
   "source": "### Análise de Atividades desempenhadas pelas empresas - Setor de Comércio",
   "metadata": {
    "cell_id": "82a9ede7-9df8-4bdb-a554-380f11c9e707",
    "tags": [],
    "deepnote_app_coordinates": {
     "x": 0,
     "y": 246,
     "w": 12,
     "h": 5
    },
    "deepnote_cell_type": "markdown"
   }
  },
  {
   "cell_type": "code",
   "metadata": {
    "cell_id": "c9cc3606-399d-48b1-8251-edea0fbab536",
    "tags": [],
    "deepnote_to_be_reexecuted": false,
    "source_hash": "48b062ce",
    "execution_start": 1643927344024,
    "execution_millis": 414,
    "deepnote_app_coordinates": {
     "x": 0,
     "y": 102,
     "w": 12,
     "h": 5
    },
    "deepnote_cell_type": "code",
    "deepnote_output_heights": [
     21.1875,
     373
    ]
   },
   "source": "plt.figure(figsize=(14,6))\nsns.countplot(x= dados[\"Total de atividades executadas\"],\n            data = dados,\n            hue= dados[\"uf\"],\n)",
   "execution_count": null,
   "outputs": [
    {
     "output_type": "execute_result",
     "execution_count": 22,
     "data": {
      "text/plain": "<AxesSubplot:xlabel='Total de atividades executadas', ylabel='count'>"
     },
     "metadata": {}
    },
    {
     "data": {
      "text/plain": "<Figure size 1008x432 with 1 Axes>",
      "image/png": "[encoded data removed]"
     },
     "metadata": {
      "needs_background": "light",
      "image/png": {
       "width": 847,
       "height": 371
      }
     },
     "output_type": "display_data"
    }
   ]
  },
  {
   "cell_type": "markdown",
   "source": "### Análise de Atividades desempenhadas pelas empresas - Setor de Alojamento e Alimentação",
   "metadata": {
    "cell_id": "732d9b7c-1c61-4c6c-952f-e5e7d3f69173",
    "tags": [],
    "deepnote_app_coordinates": {
     "x": 0,
     "y": 252,
     "w": 12,
     "h": 5
    },
    "deepnote_cell_type": "markdown"
   }
  },
  {
   "cell_type": "code",
   "metadata": {
    "cell_id": "bf613f8f-15b7-4e9f-bbb0-a6378d9eccde",
    "tags": [],
    "deepnote_to_be_reexecuted": false,
    "source_hash": "9da39a66",
    "execution_start": 1643927344498,
    "execution_millis": 380,
    "deepnote_app_coordinates": {
     "x": 0,
     "y": 90,
     "w": 12,
     "h": 5
    },
    "deepnote_cell_type": "code",
    "deepnote_output_heights": [
     21.1875,
     373
    ]
   },
   "source": "plt.figure(figsize=(14,6))\nsns.countplot(x= dados1[\"Total de atividades executadas\"],\n            data = dados1,\n            hue= dados1[\"uf\"],\n)",
   "execution_count": null,
   "outputs": [
    {
     "output_type": "execute_result",
     "execution_count": 23,
     "data": {
      "text/plain": "<AxesSubplot:xlabel='Total de atividades executadas', ylabel='count'>"
     },
     "metadata": {}
    },
    {
     "data": {
      "text/plain": "<Figure size 1008x432 with 1 Axes>",
      "image/png": "[encoded data removed]"
     },
     "metadata": {
      "needs_background": "light",
      "image/png": {
       "width": 841,
       "height": 371
      }
     },
     "output_type": "display_data"
    }
   ]
  },
  {
   "cell_type": "markdown",
   "source": "### Análise de Atividades desempenhadas pelas empresas - Setor de Indústria de Transformação ",
   "metadata": {
    "cell_id": "8b081e57-677a-42f9-8328-e1906a27be3e",
    "tags": [],
    "deepnote_app_coordinates": {
     "x": 0,
     "y": 264,
     "w": 12,
     "h": 5
    },
    "deepnote_cell_type": "markdown"
   }
  },
  {
   "cell_type": "code",
   "metadata": {
    "cell_id": "180bf9e8-156e-40ab-92b2-776a428ba155",
    "tags": [],
    "deepnote_to_be_reexecuted": false,
    "source_hash": "e6adfe1e",
    "execution_start": 1643927344931,
    "execution_millis": 371,
    "deepnote_app_coordinates": {
     "x": 0,
     "y": 72,
     "w": 12,
     "h": 5
    },
    "deepnote_cell_type": "code",
    "deepnote_output_heights": [
     21.1875,
     295.796875
    ]
   },
   "source": "plt.figure(figsize=(14,6))\nsns.countplot(x= dados2[\"Total de atividades executadas\"],\n            data = dados2,\n            hue= dados2[\"uf\"],\n)\n\n",
   "execution_count": null,
   "outputs": [
    {
     "output_type": "execute_result",
     "execution_count": 24,
     "data": {
      "text/plain": "<AxesSubplot:xlabel='Total de atividades executadas', ylabel='count'>"
     },
     "metadata": {}
    },
    {
     "data": {
      "text/plain": "<Figure size 1008x432 with 1 Axes>",
      "image/png": "[encoded data removed]"
     },
     "metadata": {
      "needs_background": "light",
      "image/png": {
       "width": 841,
       "height": 371
      }
     },
     "output_type": "display_data"
    }
   ]
  },
  {
   "cell_type": "markdown",
   "source": "<a style='text-decoration:none;line-height:16px;display:flex;color:#5B5B62;padding:10px;justify-content:end;' href='https://deepnote.com?utm_source=created-in-deepnote-cell&projectId=f987927e-68d4-4aee-bd26-129b04c252b5' target=\"_blank\">\n<img alt='Created in deepnote.com' style='display:inline;max-height:16px;margin:0px;margin-right:7.5px;' src='data:image/svg+xml;base64,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' > </img>\nCreated in <span style='font-weight:600;margin-left:4px;'>Deepnote</span></a>",
   "metadata": {
    "tags": [],
    "created_in_deepnote_cell": true,
    "deepnote_cell_type": "markdown"
   }
  }
 ],
 "nbformat": 4,
 "nbformat_minor": 2,
 "metadata": {
  "orig_nbformat": 2,
  "deepnote": {
   "is_reactive": false
  },
  "deepnote_notebook_id": "07e75e08-7690-4f29-b30f-d84c73de144f",
  "deepnote_app_layout": "article",
  "deepnote_execution_queue": []
 }
}
